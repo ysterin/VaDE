{
 "metadata": {
  "language_info": {
   "codemirror_mode": {
    "name": "ipython",
    "version": 3
   },
   "file_extension": ".py",
   "mimetype": "text/x-python",
   "name": "python",
   "nbconvert_exporter": "python",
   "pygments_lexer": "ipython3",
   "version": "3.8.6-final"
  },
  "orig_nbformat": 2,
  "kernelspec": {
   "name": "python3",
   "display_name": "Python 3",
   "language": "python"
  }
 },
 "nbformat": 4,
 "nbformat_minor": 2,
 "cells": [
  {
   "cell_type": "code",
   "execution_count": 1,
   "metadata": {},
   "outputs": [],
   "source": [
    "import torch\n",
    "import pytorch_lightning as pl\n",
    "import importlib\n",
    "import numpy as np\n",
    "import wandb\n",
    "# from triplet_vade import TripletVaDE\n",
    "import triplet_vade\n",
    "import pl_modules\n",
    "importlib.reload(triplet_vade)\n",
    "from autoencoder import SimpleAutoencoder, VaDE, ClusteringEvaluationCallback, cluster_acc"
   ]
  },
  {
   "cell_type": "code",
   "execution_count": null,
   "metadata": {},
   "outputs": [],
   "source": [
    "hparams = {'lr': 2e-3, 'lr_gmm': 2e-3, 'batch_size': 2**8, 'pretrain_epochs': 20, 'triplet_loss_margin': 0.5, 'triplet_loss_alpha': 100., 'warmup_epochs':10, 'triplet_loss_alpha_kl': 1.}\n",
    "\n",
    "model = pl_modules.PLVaDE(n_neurons=[784, 512, 512, 2048, 10], device='cuda', k=10, lr=hparams['lr'], \n",
    "            pretrain_epochs=hparams['pretrain_epochs'], covariance_type='diag', batch_size=hparams['batch_size'])\n",
    "\n"
   ]
  },
  {
   "cell_type": "code",
   "execution_count": 29,
   "metadata": {},
   "outputs": [
    {
     "output_type": "stream",
     "name": "stdout",
     "text": [
      "0.3528428571428571\n"
     ]
    },
    {
     "output_type": "execute_result",
     "data": {
      "text/plain": [
       "array([7, 1, 6, ..., 5, 1, 1])"
      ]
     },
     "metadata": {},
     "execution_count": 29
    }
   ],
   "source": [
    "true_y, predicted_y, X_encoded = model.cuda().cluster_data()\n",
    "print(cluster_acc(true_y, predicted_y))\n",
    "predicted_y"
   ]
  },
  {
   "cell_type": "code",
   "execution_count": 24,
   "metadata": {},
   "outputs": [
    {
     "output_type": "stream",
     "name": "stdout",
     "text": [
      "0.7628\n"
     ]
    }
   ],
   "source": [
    "true_y, predicted_y, X_encoded = model.pretrained_model.cuda().cluster_data()\n",
    "print(cluster_acc(true_y, predicted_y))"
   ]
  },
  {
   "cell_type": "code",
   "execution_count": 4,
   "metadata": {},
   "outputs": [],
   "source": [
    "bx, by = next(iter(model.train_dataloader()))"
   ]
  },
  {
   "cell_type": "code",
   "execution_count": 55,
   "metadata": {},
   "outputs": [
    {
     "output_type": "execute_result",
     "data": {
      "text/plain": [
       "(array([[ 0.9055791 ,  1.0950064 ,  0.75421312, -0.80641784,  0.23846424,\n",
       "         -0.59620896, -0.07278592, -0.24722536, -0.40205017,  0.47454988],\n",
       "        [-1.19750139,  0.10071502, -1.59797957, -1.42656271, -0.66573717,\n",
       "          2.34663196, -1.3362615 , -1.96449335, -1.74677707, -1.8560651 ],\n",
       "        [-0.5436473 , -0.44061554,  0.68548113, -0.49700445, -0.98773744,\n",
       "         -0.09343752, -0.53467973,  0.71507886, -1.75551042,  0.29266045],\n",
       "        [ 1.62304003, -1.30605376,  1.08791255,  0.54501986, -0.09922689,\n",
       "          2.10611049, -1.06515453, -1.9061877 , -1.5142725 ,  0.37494932],\n",
       "        [ 2.66404938, -1.48925908, -1.03127394,  0.64042681, -1.62410771,\n",
       "          1.21854904, -2.36046737, -2.23743817, -1.4381259 ,  1.03853771],\n",
       "        [ 0.47050186,  0.64338711, -1.17018427,  0.43427443, -1.38957879,\n",
       "          0.48480622, -2.03081257, -0.87171628, -2.30156212, -0.17873957],\n",
       "        [-0.52530547,  1.1544921 , -0.71658268,  0.5025238 ,  0.68580741,\n",
       "          0.10497609, -0.40644329, -1.00556472, -1.66382997, -1.63990262],\n",
       "        [-0.08932445, -0.31355798, -1.76017623, -0.68333171, -2.16629882,\n",
       "          0.04589529,  0.30052699, -1.22347577, -2.52224911,  2.01924928],\n",
       "        [-0.79726548,  1.82920678, -0.49275473, -1.82896201, -0.63607451,\n",
       "         -0.42716021,  0.05854086,  1.1706539 , -0.52549554,  0.25735157],\n",
       "        [ 1.44137364, -0.79763875, -1.10369356, -1.58702102, -0.20629108,\n",
       "          0.17827254, -1.89445898,  0.8459959 , -1.12902703, -0.24357543]]),\n",
       " Parameter containing:\n",
       " tensor([[ 0.9056, -1.1975, -0.5436,  1.6230,  2.6640,  0.4705, -0.5253, -0.0893,\n",
       "          -0.7973,  1.4414],\n",
       "         [ 1.0950,  0.1007, -0.4406, -1.3061, -1.4893,  0.6434,  1.1545, -0.3136,\n",
       "           1.8292, -0.7976],\n",
       "         [ 0.7542, -1.5980,  0.6855,  1.0879, -1.0313, -1.1702, -0.7166, -1.7602,\n",
       "          -0.4928, -1.1037],\n",
       "         [-0.8064, -1.4266, -0.4970,  0.5450,  0.6404,  0.4343,  0.5025, -0.6833,\n",
       "          -1.8290, -1.5870],\n",
       "         [ 0.2385, -0.6657, -0.9877, -0.0992, -1.6241, -1.3896,  0.6858, -2.1663,\n",
       "          -0.6361, -0.2063],\n",
       "         [-0.5962,  2.3466, -0.0934,  2.1061,  1.2185,  0.4848,  0.1050,  0.0459,\n",
       "          -0.4272,  0.1783],\n",
       "         [-0.0728, -1.3363, -0.5347, -1.0652, -2.3605, -2.0308, -0.4064,  0.3005,\n",
       "           0.0585, -1.8945],\n",
       "         [-0.2472, -1.9645,  0.7151, -1.9062, -2.2374, -0.8717, -1.0056, -1.2235,\n",
       "           1.1707,  0.8460],\n",
       "         [-0.4021, -1.7468, -1.7555, -1.5143, -1.4381, -2.3016, -1.6638, -2.5222,\n",
       "          -0.5255, -1.1290],\n",
       "         [ 0.4745, -1.8561,  0.2927,  0.3749,  1.0385, -0.1787, -1.6399,  2.0192,\n",
       "           0.2574, -0.2436]], device='cuda:0', requires_grad=True))"
      ]
     },
     "metadata": {},
     "execution_count": 55
    }
   ],
   "source": [
    "model.init_gmm.means_, model.model.component_distribution.mean"
   ]
  },
  {
   "cell_type": "code",
   "execution_count": 54,
   "metadata": {},
   "outputs": [
    {
     "output_type": "execute_result",
     "data": {
      "text/plain": [
       "(array([[0.5252965 , 0.33562909, 0.27581712, 0.50842733, 0.39565572,\n",
       "         0.33949894, 0.16322342, 0.42585222, 0.3483301 , 0.65194756],\n",
       "        [1.50162612, 1.33836077, 1.48422855, 0.95791283, 1.84342354,\n",
       "         0.82042596, 2.1170919 , 1.11774057, 0.63140629, 1.07474976],\n",
       "        [0.64180652, 0.60736693, 0.48753873, 0.5579199 , 0.85338415,\n",
       "         0.79404369, 0.5185862 , 0.77819113, 0.45736378, 0.79952175],\n",
       "        [0.26511239, 0.19691297, 0.38045161, 0.14650245, 0.39999043,\n",
       "         0.23335694, 0.4270741 , 0.21161547, 0.34734943, 0.26272527],\n",
       "        [0.2467947 , 0.2699257 , 1.16019882, 0.2133611 , 0.5517398 ,\n",
       "         0.31045453, 0.41250295, 0.16990584, 0.31336475, 0.2071866 ],\n",
       "        [0.80433203, 1.00185418, 1.35164413, 0.46503722, 1.21439897,\n",
       "         0.81042522, 0.65177523, 2.22171711, 0.86698844, 0.85895694],\n",
       "        [0.9154603 , 0.7562054 , 0.86345438, 0.56374431, 0.9121497 ,\n",
       "         1.03155643, 0.72933431, 0.71097725, 0.49804208, 0.8270209 ],\n",
       "        [1.36798733, 0.73308774, 1.45708473, 1.33978665, 1.31139144,\n",
       "         1.28152538, 0.74149851, 0.6836745 , 1.0616686 , 0.97892083],\n",
       "        [0.84862043, 0.86125169, 0.73319457, 0.81549297, 0.98244757,\n",
       "         0.38714792, 0.46565394, 0.40784185, 0.47578909, 0.94129904],\n",
       "        [1.10269397, 1.53516902, 1.54310086, 0.85009197, 1.14836863,\n",
       "         0.64024744, 1.29079298, 0.91800558, 1.09785935, 1.19328714]]),\n",
       " tensor([[0.5253, 0.3356, 0.2758, 0.5084, 0.3957, 0.3395, 0.1632, 0.4259, 0.3483,\n",
       "          0.6519],\n",
       "         [1.5016, 1.3384, 1.4842, 0.9579, 1.8434, 0.8204, 2.1171, 1.1177, 0.6314,\n",
       "          1.0747],\n",
       "         [0.6418, 0.6074, 0.4875, 0.5579, 0.8534, 0.7940, 0.5186, 0.7782, 0.4574,\n",
       "          0.7995],\n",
       "         [0.2651, 0.1969, 0.3805, 0.1465, 0.4000, 0.2334, 0.4271, 0.2116, 0.3473,\n",
       "          0.2627],\n",
       "         [0.2468, 0.2699, 1.1602, 0.2134, 0.5517, 0.3105, 0.4125, 0.1699, 0.3134,\n",
       "          0.2072],\n",
       "         [0.8043, 1.0019, 1.3516, 0.4650, 1.2144, 0.8104, 0.6518, 2.2217, 0.8670,\n",
       "          0.8590],\n",
       "         [0.9155, 0.7562, 0.8635, 0.5637, 0.9121, 1.0316, 0.7293, 0.7110, 0.4980,\n",
       "          0.8270],\n",
       "         [1.3680, 0.7331, 1.4571, 1.3398, 1.3114, 1.2815, 0.7415, 0.6837, 1.0617,\n",
       "          0.9789],\n",
       "         [0.8486, 0.8613, 0.7332, 0.8155, 0.9824, 0.3871, 0.4657, 0.4078, 0.4758,\n",
       "          0.9413],\n",
       "         [1.1027, 1.5352, 1.5431, 0.8501, 1.1484, 0.6402, 1.2908, 0.9180, 1.0979,\n",
       "          1.1933]], device='cuda:0', grad_fn=<PowBackward0>))"
      ]
     },
     "metadata": {},
     "execution_count": 54
    }
   ],
   "source": [
    "model.init_gmm.covariances_, model.model.component_distribution.variance"
   ]
  },
  {
   "cell_type": "code",
   "execution_count": 53,
   "metadata": {},
   "outputs": [
    {
     "output_type": "stream",
     "name": "stdout",
     "text": [
      "[[7.35093631e-12 1.00669491e-06 8.61869720e-06 ... 3.51635538e-06\n  1.01730091e-14 1.57751178e-05]\n [8.59192442e-01 3.73479555e-09 1.32073980e-01 ... 4.71088685e-04\n  5.82529515e-03 1.79475360e-04]\n [1.47365354e-06 5.86144309e-05 8.55498211e-07 ... 1.65824201e-03\n  6.60718538e-08 1.28938732e-05]\n ...\n [3.89746973e-17 1.63948268e-03 4.53787269e-10 ... 1.76296459e-06\n  5.89301168e-06 4.23917178e-05]\n [1.05422869e-06 7.55600080e-07 9.99094418e-01 ... 2.09262708e-05\n  7.28132063e-05 6.63041308e-04]\n [2.15510294e-24 2.43369646e-01 4.79198409e-09 ... 1.63444334e-07\n  8.23774116e-12 7.54448322e-01]]\n"
     ]
    },
    {
     "output_type": "execute_result",
     "data": {
      "text/plain": [
       "tensor([[1.9404e-08, 2.4331e-05, 9.9107e-01,  ..., 7.6886e-03, 5.1221e-11,\n",
       "         1.2077e-03],\n",
       "        [1.1910e-08, 2.7586e-04, 1.5686e-02,  ..., 1.5497e-03, 2.1305e-07,\n",
       "         1.5315e-01],\n",
       "        [1.5638e-13, 6.7050e-05, 1.4360e-05,  ..., 2.1732e-07, 5.5227e-05,\n",
       "         3.9823e-07],\n",
       "        ...,\n",
       "        [2.8464e-24, 5.4530e-03, 2.5936e-09,  ..., 3.9161e-07, 6.6599e-02,\n",
       "         1.5360e-04],\n",
       "        [6.7088e-14, 6.8942e-03, 7.1845e-03,  ..., 3.4066e-01, 4.8533e-13,\n",
       "         6.2850e-01],\n",
       "        [6.1804e-22, 9.1590e-01, 4.1389e-06,  ..., 1.4146e-02, 6.9616e-07,\n",
       "         2.1006e-02]], device='cuda:0', grad_fn=<SoftmaxBackward>)"
      ]
     },
     "metadata": {},
     "execution_count": 53
    }
   ],
   "source": [
    "print(model.init_gmm.predict_proba(X_encoded.cpu().detach().numpy()))\n",
    "log_p_z_given_c = model.model.component_distribution.log_prob(X_encoded[:,None])\n",
    "labels = (log_p_z_given_c + model.model.mixture_logits).softmax(dim=-1)\n",
    "labels"
   ]
  },
  {
   "cell_type": "code",
   "execution_count": 34,
   "metadata": {},
   "outputs": [
    {
     "output_type": "stream",
     "name": "stdout",
     "text": [
      "tensor([[6.9932e-09, 6.8488e-09, 3.4083e-08,  ..., 3.9841e-09, 5.3332e-09,\n         1.7465e-08],\n        [1.4790e-12, 6.8253e-12, 7.2082e-12,  ..., 1.2044e-12, 1.4937e-12,\n         2.7497e-12],\n        [1.5625e-10, 6.6934e-10, 1.5105e-10,  ..., 5.8568e-10, 7.9601e-11,\n         2.3530e-10],\n        ...,\n        [2.9426e-10, 1.9467e-10, 1.2334e-10,  ..., 4.2031e-10, 3.6670e-10,\n         3.4525e-11],\n        [8.6637e-13, 4.4669e-13, 5.2528e-12,  ..., 7.7404e-13, 2.1593e-12,\n         1.5315e-12],\n        [4.0634e-08, 2.3921e-08, 1.2632e-08,  ..., 2.6452e-08, 1.4602e-08,\n         3.2272e-08]], device='cuda:0', grad_fn=<SigmoidBackward>)\n"
     ]
    },
    {
     "output_type": "execute_result",
     "data": {
      "text/plain": [
       "tensor([[True, True, True,  ..., True, True, True],\n",
       "        [True, True, True,  ..., True, True, True],\n",
       "        [True, True, True,  ..., True, True, True],\n",
       "        ...,\n",
       "        [True, True, True,  ..., True, True, True],\n",
       "        [True, True, True,  ..., True, True, True],\n",
       "        [True, True, True,  ..., True, True, True]], device='cuda:0')"
      ]
     },
     "metadata": {},
     "execution_count": 34
    }
   ],
   "source": [
    "X_encoded = model.model.latent_dist(model.model.encoder(bx.cuda())).mean\n",
    "X_encoded_pre = model.pretrained_model.encoder(bx.cuda())\n",
    "print(model.model.out_dist(model.model.decoder(X_encoded)).mean)\n",
    "(model.pretrained_model.decoder(X_encoded_pre) == model.model.out_dist(model.model.decoder(X_encoded)).mean)"
   ]
  },
  {
   "cell_type": "code",
   "execution_count": 28,
   "metadata": {},
   "outputs": [
    {
     "output_type": "stream",
     "name": "stdout",
     "text": [
      "tensor(0.0465, device='cuda:0', grad_fn=<MeanBackward0>)\n"
     ]
    },
    {
     "output_type": "execute_result",
     "data": {
      "text/plain": [
       "tensor(0.0465, device='cuda:0', grad_fn=<MeanBackward0>)"
      ]
     },
     "metadata": {},
     "execution_count": 28
    }
   ],
   "source": [
    "print(model.model.encoder(bx.cuda()).mean())\n",
    "model.pretrained_model.encoder[:-1](bx.cuda()).mean()"
   ]
  },
  {
   "cell_type": "code",
   "execution_count": 3,
   "metadata": {},
   "outputs": [
    {
     "output_type": "stream",
     "name": "stderr",
     "text": [
      "GPU available: True, used: True\n",
      "TPU available: None, using: 0 TPU cores\n",
      "LOCAL_RANK: 0 - CUDA_VISIBLE_DEVICES: [0]\n",
      "\u001b[34m\u001b[1mwandb\u001b[0m: wandb version 0.10.18 is available!  To upgrade, please run:\n",
      "\u001b[34m\u001b[1mwandb\u001b[0m:  $ pip install wandb --upgrade\n"
     ]
    },
    {
     "output_type": "display_data",
     "data": {
      "text/plain": "<IPython.core.display.HTML object>",
      "text/html": "\n                Tracking run with wandb version 0.10.17<br/>\n                Syncing run <strong style=\"color:#cdcd00\">dark-voice-17</strong> to <a href=\"https://wandb.ai\" target=\"_blank\">Weights & Biases</a> <a href=\"https://docs.wandb.com/integrations/jupyter.html\" target=\"_blank\">(Documentation)</a>.<br/>\n                Project page: <a href=\"https://wandb.ai/shukistern/AE%20clustering\" target=\"_blank\">https://wandb.ai/shukistern/AE%20clustering</a><br/>\n                Run page: <a href=\"https://wandb.ai/shukistern/AE%20clustering/runs/383jfbsm\" target=\"_blank\">https://wandb.ai/shukistern/AE%20clustering/runs/383jfbsm</a><br/>\n                Run data is saved locally in <code>/home/shuki/projects/my_VaDE/wandb/run-20210211_232919-383jfbsm</code><br/><br/>\n            "
     },
     "metadata": {}
    },
    {
     "output_type": "stream",
     "name": "stderr",
     "text": [
      "\n  | Name    | Type       | Params\n---------------------------------------\n0 | encoder | Sequential | 1.7 M \n1 | decoder | Sequential | 1.7 M \n---------------------------------------\n3.5 M     Trainable params\n0         Non-trainable params\n3.5 M     Total params\n"
     ]
    },
    {
     "output_type": "display_data",
     "data": {
      "text/plain": "Validation sanity check: 0it [00:00, ?it/s]",
      "application/vnd.jupyter.widget-view+json": {
       "version_major": 2,
       "version_minor": 0,
       "model_id": "ea8067715f464ada88af2e979e86c172"
      }
     },
     "metadata": {}
    },
    {
     "output_type": "display_data",
     "data": {
      "text/plain": "Training: 0it [00:00, ?it/s]",
      "application/vnd.jupyter.widget-view+json": {
       "version_major": 2,
       "version_minor": 0,
       "model_id": "e1090d4077f843f89b7d388ec05d8002"
      }
     },
     "metadata": {}
    },
    {
     "output_type": "display_data",
     "data": {
      "text/plain": "Validating: 0it [00:00, ?it/s]",
      "application/vnd.jupyter.widget-view+json": {
       "version_major": 2,
       "version_minor": 0,
       "model_id": "c005cebfd4db4e938aa7768d21c9b90d"
      }
     },
     "metadata": {}
    },
    {
     "output_type": "display_data",
     "data": {
      "text/plain": "Validating: 0it [00:00, ?it/s]",
      "application/vnd.jupyter.widget-view+json": {
       "version_major": 2,
       "version_minor": 0,
       "model_id": "28d9e0f3e08346a980fb5fb95ac3c6de"
      }
     },
     "metadata": {}
    },
    {
     "output_type": "display_data",
     "data": {
      "text/plain": "Validating: 0it [00:00, ?it/s]",
      "application/vnd.jupyter.widget-view+json": {
       "version_major": 2,
       "version_minor": 0,
       "model_id": "ee03772083974525bd7eef3567b1e06d"
      }
     },
     "metadata": {}
    },
    {
     "output_type": "display_data",
     "data": {
      "text/plain": "Validating: 0it [00:00, ?it/s]",
      "application/vnd.jupyter.widget-view+json": {
       "version_major": 2,
       "version_minor": 0,
       "model_id": "2661a9cab67d42fd8ead5d87e0ce9e79"
      }
     },
     "metadata": {}
    },
    {
     "output_type": "display_data",
     "data": {
      "text/plain": "Validating: 0it [00:00, ?it/s]",
      "application/vnd.jupyter.widget-view+json": {
       "version_major": 2,
       "version_minor": 0,
       "model_id": "5c704687d45c48d4ad65fce3e04cca1a"
      }
     },
     "metadata": {}
    },
    {
     "output_type": "display_data",
     "data": {
      "text/plain": "Validating: 0it [00:00, ?it/s]",
      "application/vnd.jupyter.widget-view+json": {
       "version_major": 2,
       "version_minor": 0,
       "model_id": "e6ed7c3f46d64e9c9c18979f6a594ad9"
      }
     },
     "metadata": {}
    },
    {
     "output_type": "display_data",
     "data": {
      "text/plain": "Validating: 0it [00:00, ?it/s]",
      "application/vnd.jupyter.widget-view+json": {
       "version_major": 2,
       "version_minor": 0,
       "model_id": "69f247001c664ced9ae9b1c29a0fee96"
      }
     },
     "metadata": {}
    },
    {
     "output_type": "display_data",
     "data": {
      "text/plain": "Validating: 0it [00:00, ?it/s]",
      "application/vnd.jupyter.widget-view+json": {
       "version_major": 2,
       "version_minor": 0,
       "model_id": "2f38c9cb091c4083b55a616c36117991"
      }
     },
     "metadata": {}
    },
    {
     "output_type": "display_data",
     "data": {
      "text/plain": "Validating: 0it [00:00, ?it/s]",
      "application/vnd.jupyter.widget-view+json": {
       "version_major": 2,
       "version_minor": 0,
       "model_id": "75bdc19401af4ff5b7b19373990a2a0f"
      }
     },
     "metadata": {}
    },
    {
     "output_type": "display_data",
     "data": {
      "text/plain": "Validating: 0it [00:00, ?it/s]",
      "application/vnd.jupyter.widget-view+json": {
       "version_major": 2,
       "version_minor": 0,
       "model_id": "fb46c38da6c4407081de3fe0106679c9"
      }
     },
     "metadata": {}
    },
    {
     "output_type": "display_data",
     "data": {
      "text/plain": "Validating: 0it [00:00, ?it/s]",
      "application/vnd.jupyter.widget-view+json": {
       "version_major": 2,
       "version_minor": 0,
       "model_id": "3641bd3592e94a2285902a256b239fd6"
      }
     },
     "metadata": {}
    },
    {
     "output_type": "display_data",
     "data": {
      "text/plain": "Validating: 0it [00:00, ?it/s]",
      "application/vnd.jupyter.widget-view+json": {
       "version_major": 2,
       "version_minor": 0,
       "model_id": "44f9eeee6dc9487f8cc4d2a777c4aeff"
      }
     },
     "metadata": {}
    },
    {
     "output_type": "display_data",
     "data": {
      "text/plain": "Validating: 0it [00:00, ?it/s]",
      "application/vnd.jupyter.widget-view+json": {
       "version_major": 2,
       "version_minor": 0,
       "model_id": "727bbfe4c0854e699c0a25c0664624f0"
      }
     },
     "metadata": {}
    },
    {
     "output_type": "display_data",
     "data": {
      "text/plain": "Validating: 0it [00:00, ?it/s]",
      "application/vnd.jupyter.widget-view+json": {
       "version_major": 2,
       "version_minor": 0,
       "model_id": "eab47399001b4051b2df27cc0497e3e8"
      }
     },
     "metadata": {}
    },
    {
     "output_type": "display_data",
     "data": {
      "text/plain": "Validating: 0it [00:00, ?it/s]",
      "application/vnd.jupyter.widget-view+json": {
       "version_major": 2,
       "version_minor": 0,
       "model_id": "d4e24c47b264451188ffda1003440422"
      }
     },
     "metadata": {}
    },
    {
     "output_type": "display_data",
     "data": {
      "text/plain": "Validating: 0it [00:00, ?it/s]",
      "application/vnd.jupyter.widget-view+json": {
       "version_major": 2,
       "version_minor": 0,
       "model_id": "ede7470e5eab4c3998b90698f70b2348"
      }
     },
     "metadata": {}
    },
    {
     "output_type": "display_data",
     "data": {
      "text/plain": "Validating: 0it [00:00, ?it/s]",
      "application/vnd.jupyter.widget-view+json": {
       "version_major": 2,
       "version_minor": 0,
       "model_id": "d8aad4c3848a47699eb9d35ba8c849fb"
      }
     },
     "metadata": {}
    },
    {
     "output_type": "display_data",
     "data": {
      "text/plain": "Validating: 0it [00:00, ?it/s]",
      "application/vnd.jupyter.widget-view+json": {
       "version_major": 2,
       "version_minor": 0,
       "model_id": "5a7db4a3bccd40318c4200f79e2b78cc"
      }
     },
     "metadata": {}
    },
    {
     "output_type": "display_data",
     "data": {
      "text/plain": "Validating: 0it [00:00, ?it/s]",
      "application/vnd.jupyter.widget-view+json": {
       "version_major": 2,
       "version_minor": 0,
       "model_id": "b6f829548bc14982830152f09eb21be7"
      }
     },
     "metadata": {}
    },
    {
     "output_type": "display_data",
     "data": {
      "text/plain": "Validating: 0it [00:00, ?it/s]",
      "application/vnd.jupyter.widget-view+json": {
       "version_major": 2,
       "version_minor": 0,
       "model_id": "e7f2894094514126b6c5418362ce3dcf"
      }
     },
     "metadata": {}
    },
    {
     "output_type": "stream",
     "name": "stderr",
     "text": [
      "GPU available: True, used: True\n",
      "TPU available: None, using: 0 TPU cores\n",
      "LOCAL_RANK: 0 - CUDA_VISIBLE_DEVICES: [0]\n",
      "\n",
      "  | Name             | Type              | Params\n",
      "-------------------------------------------------------\n",
      "0 | pretrained_model | SimpleAutoencoder | 3.5 M \n",
      "1 | model            | VaDE              | 3.5 M \n",
      "-------------------------------------------------------\n",
      "7.0 M     Trainable params\n",
      "0         Non-trainable params\n",
      "7.0 M     Total params\n"
     ]
    },
    {
     "output_type": "display_data",
     "data": {
      "text/plain": "Validation sanity check: 0it [00:00, ?it/s]",
      "application/vnd.jupyter.widget-view+json": {
       "version_major": 2,
       "version_minor": 0,
       "model_id": "4b245e8aaa0248d382aa7e4ec0db12ce"
      }
     },
     "metadata": {}
    },
    {
     "output_type": "display_data",
     "data": {
      "text/plain": "Training: 0it [00:00, ?it/s]",
      "application/vnd.jupyter.widget-view+json": {
       "version_major": 2,
       "version_minor": 0,
       "model_id": "76bc28a90a3b45f69908078a9a594660"
      }
     },
     "metadata": {}
    },
    {
     "output_type": "display_data",
     "data": {
      "text/plain": "Validating: 0it [00:00, ?it/s]",
      "application/vnd.jupyter.widget-view+json": {
       "version_major": 2,
       "version_minor": 0,
       "model_id": "4161f8aa4fd24bacba575e73531b882f"
      }
     },
     "metadata": {}
    },
    {
     "output_type": "display_data",
     "data": {
      "text/plain": "Validating: 0it [00:00, ?it/s]",
      "application/vnd.jupyter.widget-view+json": {
       "version_major": 2,
       "version_minor": 0,
       "model_id": "483729d0458a4f6f9428317e85a10bc3"
      }
     },
     "metadata": {}
    },
    {
     "output_type": "display_data",
     "data": {
      "text/plain": "Validating: 0it [00:00, ?it/s]",
      "application/vnd.jupyter.widget-view+json": {
       "version_major": 2,
       "version_minor": 0,
       "model_id": "0405da97131c465ca5bdb87083b9e5d8"
      }
     },
     "metadata": {}
    },
    {
     "output_type": "display_data",
     "data": {
      "text/plain": "Validating: 0it [00:00, ?it/s]",
      "application/vnd.jupyter.widget-view+json": {
       "version_major": 2,
       "version_minor": 0,
       "model_id": "c17a2f1bf16a44eea54629e80a6fd312"
      }
     },
     "metadata": {}
    },
    {
     "output_type": "display_data",
     "data": {
      "text/plain": "Validating: 0it [00:00, ?it/s]",
      "application/vnd.jupyter.widget-view+json": {
       "version_major": 2,
       "version_minor": 0,
       "model_id": "fc4b7601795e46b78c6e267d137c7001"
      }
     },
     "metadata": {}
    },
    {
     "output_type": "display_data",
     "data": {
      "text/plain": "<IPython.core.display.HTML object>",
      "text/html": "<br/>Waiting for W&B process to finish, PID 26105<br/>Program ended successfully."
     },
     "metadata": {}
    },
    {
     "output_type": "display_data",
     "data": {
      "text/plain": "VBox(children=(Label(value=' 0.00MB of 0.00MB uploaded (0.00MB deduped)\\r'), FloatProgress(value=1.0, max=1.0)…",
      "application/vnd.jupyter.widget-view+json": {
       "version_major": 2,
       "version_minor": 0,
       "model_id": "ac71149006124802a4b2a17d6626776f"
      }
     },
     "metadata": {}
    },
    {
     "output_type": "display_data",
     "data": {
      "text/plain": "<IPython.core.display.HTML object>",
      "text/html": "Find user logs for this run at: <code>/home/shuki/projects/my_VaDE/wandb/run-20210211_232919-383jfbsm/logs/debug.log</code>"
     },
     "metadata": {}
    },
    {
     "output_type": "display_data",
     "data": {
      "text/plain": "<IPython.core.display.HTML object>",
      "text/html": "Find internal logs for this run at: <code>/home/shuki/projects/my_VaDE/wandb/run-20210211_232919-383jfbsm/logs/debug-internal.log</code>"
     },
     "metadata": {}
    },
    {
     "output_type": "display_data",
     "data": {
      "text/plain": "<IPython.core.display.HTML object>",
      "text/html": "<h3>Run summary:</h3><br/><style>\n    table.wandb td:nth-child(1) { padding: 0 10px; text-align: right }\n    </style><table class=\"wandb\">\n<tr><td>loss</td><td>98.55799</td></tr><tr><td>bce_loss</td><td>0.10185</td></tr><tr><td>_step</td><td>5873</td></tr><tr><td>_runtime</td><td>252</td></tr><tr><td>_timestamp</td><td>1613079211</td></tr><tr><td>epoch</td><td>4</td></tr><tr><td>NMI</td><td>0.84802</td></tr><tr><td>ACC</td><td>0.80971</td></tr><tr><td>ACC2</td><td>0.86263</td></tr><tr><td>ARI</td><td>0.77793</td></tr><tr><td>valid/encoder_0 mean</td><td>0.12179</td></tr><tr><td>valid/encoder_0 std</td><td>0.16949</td></tr><tr><td>valid/encoder_1 mean</td><td>0.14307</td></tr><tr><td>valid/encoder_1 std</td><td>0.21794</td></tr><tr><td>valid/encoder_2 mean</td><td>0.14353</td></tr><tr><td>valid/encoder_2 std</td><td>0.22484</td></tr><tr><td>valid/latent mu mean</td><td>0.0873</td></tr><tr><td>valid/latent mu std</td><td>0.09761</td></tr><tr><td>valid/latent logvar mean</td><td>0.0873</td></tr><tr><td>valid/latent logvar std</td><td>0.09761</td></tr><tr><td>valid/latent dist std</td><td>0.15999</td></tr><tr><td>valid/ent_loss1</td><td>4.56864</td></tr><tr><td>valid/crosent_loss1</td><td>11.98723</td></tr><tr><td>valid/ent_loss2</td><td>-0.08868</td></tr><tr><td>valid/crosent_loss2</td><td>2.24386</td></tr><tr><td>x_recon_loss</td><td>79.84695</td></tr><tr><td>kl_loss</td><td>18.71104</td></tr></table>"
     },
     "metadata": {}
    },
    {
     "output_type": "display_data",
     "data": {
      "text/plain": "<IPython.core.display.HTML object>",
      "text/html": "<h3>Run history:</h3><br/><style>\n    table.wandb td:nth-child(1) { padding: 0 10px; text-align: right }\n    </style><table class=\"wandb\">\n<tr><td>loss</td><td>▁▁▁▁▁▁▁▁▁▁▁▁▁▁▁▁▁▁▁█▆▅▅▅▅▅▅▅▅▅▅▅▅▅▅▅▅▅▅▅</td></tr><tr><td>bce_loss</td><td>█▅▃▃▂▂▂▂▂▂▁▁▁▁▁▁▁▁▁▆▃▂▂▂▁▁▁▂▂▁▁▂▁▁▁▂▁▂▁▂</td></tr><tr><td>_step</td><td>▁▁▁▂▂▂▃▃▃▄▄▄▅▅▅▅▆▆▆▇▇▇▇▇▇▇▇▇▇▇▇▇▇███████</td></tr><tr><td>_runtime</td><td>▁▁▁▁▂▂▂▂▂▃▃▃▃▄▄▄▄▄▅▅▅▅▅▆▆▆▆▆▆▇▇▇▇▇▇▇████</td></tr><tr><td>_timestamp</td><td>▁▁▁▁▂▂▂▂▂▃▃▃▃▄▄▄▄▄▅▅▅▅▅▆▆▆▆▆▆▇▇▇▇▇▇▇████</td></tr><tr><td>epoch</td><td>▁▁▂▂▂▃▃▄▄▄▅▅▅▆▆▇▇▇██▁▁▂▂▂</td></tr><tr><td>NMI</td><td>▁▅▆▆▆▆▇▇▇▇▇▇█████████████</td></tr><tr><td>ACC</td><td>▁▄▅▅▅▅▆▇▇▇▇▇▇▇▇▇▇▇█▇▇▇▇▇▇</td></tr><tr><td>ACC2</td><td>▁▅▆▅▆▆▆▇▇▇▇▇█████████████</td></tr><tr><td>ARI</td><td>▁▄▅▅▅▅▆▇▇▇▇▇██▇██████████</td></tr><tr><td>valid/encoder_0 mean</td><td>▄▇▇▇▄▇▅▆█▄▅▅▄▇▅▄▆▇▅▅▇▆▃▆▃▆▆▅▅▆▆▅▆▁▇▆▄▆▆▁</td></tr><tr><td>valid/encoder_0 std</td><td>▆█▇▇▆▇▇▇█▆▇▇▆█▆▆▇█▇▇▇▇▆▇▆▇▇▇▆▇▇▇█▅█▆▇▇▇▁</td></tr><tr><td>valid/encoder_1 mean</td><td>▂████▇▆▅▅▄▄▃▃▃▃▂▃▃▂▂▃▂▂▂▂▁▂▂▂▂▃▂▂▂▃▂▂▃▂▂</td></tr><tr><td>valid/encoder_1 std</td><td>▅█▇▇▇▆▆▆▅▅▅▅▄▅▅▄▅▅▄▅▅▄▄▅▄▄▄▅▄▅▅▄▅▄▅▄▅▅▅▁</td></tr><tr><td>valid/encoder_2 mean</td><td>▃██▇▆▆▅▆▆▅▅▅▅▅▅▄▅▅▅▄▅▄▄▅▄▄▄▄▄▄▄▅▄▄▅▄▄▄▃▁</td></tr><tr><td>valid/encoder_2 std</td><td>▅█▇▆▅▅▄▅▅▄▄▄▄▄▄▄▅▅▅▅▅▄▅▅▄▅▄▅▄▅▅▅▅▅▆▅▅▅▅▁</td></tr><tr><td>valid/latent mu mean</td><td>▁▅▆▇█████▇▇▇▇▇▇▆▆▆▆▆▆▅▅▆▅▅▅▅▅▅▅▄▄▄▄▄▄▄▄▄</td></tr><tr><td>valid/latent mu std</td><td>▂██▇▇▆▆▆▆▅▅▅▅▅▅▄▅▅▄▄▅▄▄▄▄▃▃▄▃▃▃▃▃▃▃▂▃▃▃▁</td></tr><tr><td>valid/latent logvar mean</td><td>▁▅▆▇█████▇▇▇▇▇▇▆▆▆▆▆▆▅▅▆▅▅▅▅▅▅▅▄▄▄▄▄▄▄▄▄</td></tr><tr><td>valid/latent logvar std</td><td>▂██▇▇▆▆▆▆▅▅▅▅▅▅▄▅▅▄▄▅▄▄▄▄▃▃▄▃▃▃▃▃▃▃▂▃▃▃▁</td></tr><tr><td>valid/latent dist std</td><td>█▅▃▂▂▂▂▁▁▁▁▁▁▁▁▁▁▁▁▁▁▁▁▁▁▁▁▁▁▁▁▁▁▁▁▁▁▁▁▁</td></tr><tr><td>valid/ent_loss1</td><td>▁▃▄▅▆▆▇▇▇▇███████████████▇██████████████</td></tr><tr><td>valid/crosent_loss1</td><td>▇█▆▅▄▃▃▂▂▂▂▂▁▁▁▁▁▁▁▁▁▁▁▁▁▁▁▁▁▁▁▁▁▁▁▁▁▁▁▁</td></tr><tr><td>valid/ent_loss2</td><td>▁▄▄▆▆▄▆▇▅▆▆▇▆▇▇▆▆▇▇▇▇▄▇▇▇▆▇▇▇▇█▇█▆▇██▇█▇</td></tr><tr><td>valid/crosent_loss2</td><td>▄▁▃▄▂▄▆▅▇▆▅█▇▆▅▆▅▇▇▃█▄▇▃▆▇▆█▅▅▃▅▄█▇▁▆▃▆▆</td></tr><tr><td>x_recon_loss</td><td>█▃▂▂▁▁▁▁▁▁▁▁▁▁▁▁▁▁▁▁▁▁▁▁▁▁▁▁▁▁▁▁▁▁▁▁▁▁▁▁</td></tr><tr><td>kl_loss</td><td>▁██▇▇▇▇▇▇▆▇▆▆▇▇▆▇▆▆▆▆▆▅▇▅▅▆▆▅▆▆▆▆▅▇▅▅▆▆▆</td></tr></table><br/>"
     },
     "metadata": {}
    },
    {
     "output_type": "display_data",
     "data": {
      "text/plain": "<IPython.core.display.HTML object>",
      "text/html": "Synced 5 W&B file(s), 0 media file(s), 0 artifact file(s) and 0 other file(s)"
     },
     "metadata": {}
    },
    {
     "output_type": "display_data",
     "data": {
      "text/plain": "<IPython.core.display.HTML object>",
      "text/html": "\n                    <br/>Synced <strong style=\"color:#cdcd00\">dark-voice-17</strong>: <a href=\"https://wandb.ai/shukistern/AE%20clustering/runs/383jfbsm\" target=\"_blank\">https://wandb.ai/shukistern/AE%20clustering/runs/383jfbsm</a><br/>\n                "
     },
     "metadata": {}
    }
   ],
   "source": [
    "hparams = {'lr': 2e-3, 'lr_gmm': 2e-3, 'batch_size': 2**8, 'pretrain_epochs': 100, 'triplet_loss_margin': 0.5, 'triplet_loss_alpha': 100., 'warmup_epochs':10, 'triplet_loss_alpha_kl': 1., 'data_size': 1024}\n",
    "\n",
    "model = pl_modules.PLVaDE(n_neurons=[784, 512, 512, 2048, 10], device='cuda', k=10, lr=hparams['lr'], \n",
    "            pretrain_epochs=hparams['pretrain_epochs'], covariance_type='full', batch_size=hparams['batch_size'],\n",
    "            data_size=hparams['data_size'])\n",
    "\n",
    "logger = pl.loggers.WandbLogger(project='VADE')\n",
    "trainer = pl.Trainer(gpus=1, logger=logger, callbacks=[ClusteringEvaluationCallback()], log_every_n_steps=10, progress_bar_refresh_rate=20, max_epochs=5)\n",
    "trainer.fit(model)\n",
    "wandb.finish()"
   ]
  },
  {
   "cell_type": "code",
   "execution_count": null,
   "metadata": {},
   "outputs": [],
   "source": [
    "hparams = {'lr': 2e-3, 'lr_gmm': 2e-3, 'batch_size': 2**8, 'pretrain_epochs': 20, 'triplet_loss_margin': 0.5, 'triplet_loss_alpha': 100., 'warmup_epochs':10, 'triplet_loss_alpha_kl': 1.}\n",
    "for i in range(3):\n",
    "    triplets_model = triplet_vade.TripletVaDE(n_neurons=[784, 512, 512, 2048, 10], device='cpu', **hparams)\n",
    "    # wandb.init()\n",
    "    logger =  pl.loggers.wandb.WandbLogger(project='VaDE Triplets', group='test_triplet_loss')\n",
    "\n",
    "    callbacks = [ClusteringEvaluationCallback(on_start=True), pl.callbacks.LearningRateMonitor()]\n",
    "    logger.log_hyperparams(hparams)\n",
    "    trainer = pl.Trainer(gpus=0, callbacks=callbacks,\n",
    "                        logger=logger, log_every_n_steps=10, progress_bar_refresh_rate=10, max_epochs=50)\n",
    "    trainer.fit(triplets_model)\n",
    "    wandb.finish()\n"
   ]
  },
  {
   "cell_type": "code",
   "execution_count": null,
   "metadata": {},
   "outputs": [],
   "source": []
  }
 ]
}