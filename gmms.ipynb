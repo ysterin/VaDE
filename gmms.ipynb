{
 "cells": [
  {
   "cell_type": "code",
   "execution_count": 28,
   "metadata": {},
   "outputs": [
    {
     "data": {
      "text/html": "Finishing last run (ID:tlnld2z9) before initializing another...",
      "text/plain": "<IPython.core.display.HTML object>"
     },
     "metadata": {
      "transient": {}
     },
     "output_type": "display_data"
    },
    {
     "data": {
      "text/html": "<br/>Waiting for W&B process to finish, PID 27298<br/>Program ended successfully.",
      "text/plain": "<IPython.core.display.HTML object>"
     },
     "metadata": {
      "transient": {}
     },
     "output_type": "display_data"
    },
    {
     "data": {
      "application/vnd.jupyter.widget-view+json": {
       "model_id": "25fc0123e2554d179eb5fa8a444a05e2",
       "version_major": 2,
       "version_minor": 0
      },
      "text/plain": "VBox(children=(Label(value=' 0.00MB of 0.00MB uploaded (0.00MB deduped)\\r'), FloatProgress(value=1.0, max=1.0)…"
     },
     "metadata": {
      "transient": {}
     },
     "output_type": "display_data"
    },
    {
     "data": {
      "text/html": "Find user logs for this run at: <code>/home/shuki/projects/my_VaDE/wandb/run-20210305_131001-tlnld2z9/logs/debug.log</code>",
      "text/plain": "<IPython.core.display.HTML object>"
     },
     "metadata": {
      "transient": {}
     },
     "output_type": "display_data"
    },
    {
     "data": {
      "text/html": "Find internal logs for this run at: <code>/home/shuki/projects/my_VaDE/wandb/run-20210305_131001-tlnld2z9/logs/debug-internal.log</code>",
      "text/plain": "<IPython.core.display.HTML object>"
     },
     "metadata": {
      "transient": {}
     },
     "output_type": "display_data"
    },
    {
     "data": {
      "text/html": "<h3>Run summary:</h3><br/><style>\n    table.wandb td:nth-child(1) { padding: 0 10px; text-align: right }\n    </style><table class=\"wandb\">\n<tr><td>_step</td><td>16449</td></tr><tr><td>_runtime</td><td>1083</td></tr><tr><td>_timestamp</td><td>1613504076</td></tr><tr><td>loss</td><td>0.0108</td></tr><tr><td>epoch</td><td>69</td></tr><tr><td>bce_loss</td><td>0.09504</td></tr><tr><td>ACC</td><td>0.78469</td></tr><tr><td>ARI</td><td>0.72509</td></tr><tr><td>NMI</td><td>0.80923</td></tr><tr><td>ACC2</td><td>0.83053</td></tr></table>",
      "text/plain": "<IPython.core.display.HTML object>"
     },
     "metadata": {
      "transient": {}
     },
     "output_type": "display_data"
    },
    {
     "data": {
      "text/html": "Synced 4 W&B file(s), 0 media file(s), 0 artifact file(s) and 0 other file(s)",
      "text/plain": "<IPython.core.display.HTML object>"
     },
     "metadata": {
      "transient": {}
     },
     "output_type": "display_data"
    },
    {
     "data": {
      "text/html": "\n                    <br/>Synced <strong style=\"color:#cdcd00\">serene-sweep-4</strong>: <a href=\"https://wandb.ai/shukistern/AE%20clustering/runs/tlnld2z9\" target=\"_blank\">https://wandb.ai/shukistern/AE%20clustering/runs/tlnld2z9</a><br/>\n                ",
      "text/plain": "<IPython.core.display.HTML object>"
     },
     "metadata": {
      "transient": {}
     },
     "output_type": "display_data"
    },
    {
     "data": {
      "text/html": "...Successfully finished last run (ID:tlnld2z9). Initializing new run:<br/><br/>",
      "text/plain": "<IPython.core.display.HTML object>"
     },
     "metadata": {
      "transient": {}
     },
     "output_type": "display_data"
    },
    {
     "name": "stderr",
     "output_type": "stream",
     "text": [
      "\u001b[34m\u001b[1mwandb\u001b[0m: wandb version 0.10.21 is available!  To upgrade, please run:\n",
      "\u001b[34m\u001b[1mwandb\u001b[0m:  $ pip install wandb --upgrade\n"
     ]
    },
    {
     "data": {
      "text/html": "\n                Tracking run with wandb version 0.10.17<br/>\n                Resuming run <strong style=\"color:#cdcd00\">serene-sweep-4</strong> to <a href=\"https://wandb.ai\" target=\"_blank\">Weights & Biases</a> <a href=\"https://docs.wandb.com/integrations/jupyter.html\" target=\"_blank\">(Documentation)</a>.<br/>\n                Project page: <a href=\"https://wandb.ai/shukistern/AE%20clustering\" target=\"_blank\">https://wandb.ai/shukistern/AE%20clustering</a><br/>\n                Sweep page: <a href=\"https://wandb.ai/shukistern/AE%20clustering/sweeps/9qrvm9u4\" target=\"_blank\">https://wandb.ai/shukistern/AE%20clustering/sweeps/9qrvm9u4</a><br/>\nRun page: <a href=\"https://wandb.ai/shukistern/AE%20clustering/runs/tlnld2z9\" target=\"_blank\">https://wandb.ai/shukistern/AE%20clustering/runs/tlnld2z9</a><br/>\n                Run data is saved locally in <code>/home/shuki/projects/my_VaDE/wandb/run-20210305_131415-tlnld2z9</code><br/><br/>\n            ",
      "text/plain": "<IPython.core.display.HTML object>"
     },
     "metadata": {
      "transient": {}
     },
     "output_type": "display_data"
    }
   ],
   "source": [
    "from sklearn.mixture import GaussianMixture\n",
    "from sklearn import metrics\n",
    "import argparse, pickle, os\n",
    "from pl_modules import PLVaDE\n",
    "import numpy as np \n",
    "from autoencoder import cluster_acc, SimpleAutoencoder\n",
    "import pytorch_lightning as pl\n",
    "import torch\n",
    "import sys\n",
    "from collections import defaultdict\n",
    "import wandb\n",
    "from pathlib import Path\n",
    "\n",
    "\n",
    "def test_gmm(run_id, ds_type='train', n_runs=5):\n",
    "    wandb.init(project='AE clustering', resume='must', id=run_id)\n",
    "    wandb.config.update({'dataset': 'mnist', 'data_size': None, 'data_random_state': 42})\n",
    "    autoencoder = SimpleAutoencoder(n_neurons=wandb.config.n_neurons, dataset=wandb.config.dataset, \n",
    "                                    data_size=wandb.config.data_size, data_random_state=wandb.config.data_random_state)\n",
    "    autoencoder.prepare_data()\n",
    "    run_path = Path(f'AE clustering/{run_id}')\n",
    "    if not os.path.exists(run_path): \n",
    "        for path in Path('wandb').glob(f\"run-*-{run_id}\"):\n",
    "            if os.path.exists(path / 'files' / 'AE clustering'):\n",
    "                run_path = path / 'files' / 'AE clustering' / run_id \n",
    "                break\n",
    "\n",
    "    checkpoint_files = os.listdir(run_path /'checkpoints')\n",
    "    checkpoint_file = checkpoint_files[-1]\n",
    "    autoencoder.load_state_dict(torch.load(run_path /'checkpoints' / checkpoint_file)['state_dict'])\n",
    "\n",
    "    y_true = np.stack([autoencoder.all_ds[i][1] for i in range(len(autoencoder.all_ds))])\n",
    "    X_encoded = autoencoder.encode_ds(autoencoder.all_ds)\n",
    "    results = defaultdict(list)\n",
    "    for i in range(n_runs):\n",
    "        init_gmm = GaussianMixture(10, covariance_type='full', n_init=3)\n",
    "        y_pred = init_gmm.fit_predict(X_encoded)\n",
    "        results['log_likelihood'].append(init_gmm.score(X_encoded))\n",
    "        results['acc'].append(cluster_acc(y_true, y_pred))\n",
    "        results['nmi'].append(metrics.normalized_mutual_info_score(y_true, y_pred))\n",
    "        results['ari'].append(metrics.adjusted_rand_score(y_true, y_pred))\n",
    "        # print('log likelihood:', init_gmm.score(X_encoded))\n",
    "        # print('Accuracy: ', acc)\n",
    "        # print('NMI: ', nmi)\n",
    "        # print('ARI: ', ari)\n",
    "    return results\n",
    "\n",
    "results2 = test_gmm('tlnld2z9', n_runs=20)\n"
   ]
  },
  {
   "cell_type": "code",
   "execution_count": 29,
   "metadata": {},
   "outputs": [
    {
     "data": {
      "text/plain": "<matplotlib.collections.PathCollection at 0x7fa49b2769a0>"
     },
     "execution_count": 29,
     "metadata": {},
     "output_type": "execute_result"
    },
    {
     "data": {
      "image/png": "[encoded data removed]",
      "text/plain": "<Figure size 432x288 with 1 Axes>"
     },
     "metadata": {
      "needs_background": "light",
      "transient": {}
     },
     "output_type": "display_data"
    }
   ],
   "source": [
    "plt.scatter(results2['log_likelihood'], results2['acc'])"
   ]
  },
  {
   "cell_type": "code",
   "execution_count": 27,
   "metadata": {},
   "outputs": [
    {
     "data": {
      "text/plain": "<matplotlib.collections.PathCollection at 0x7fa49b2bd460>"
     },
     "execution_count": 27,
     "metadata": {},
     "output_type": "execute_result"
    },
    {
     "data": {
      "image/png": "[encoded data removed]",
      "text/plain": "<Figure size 432x288 with 1 Axes>"
     },
     "metadata": {
      "needs_background": "light",
      "transient": {}
     },
     "output_type": "display_data"
    }
   ],
   "source": [
    "plt.scatter(results2['log_likelihood'], results2['acc'])"
   ]
  },
  {
   "cell_type": "code",
   "execution_count": 25,
   "metadata": {},
   "outputs": [
    {
     "data": {
      "text/plain": "<matplotlib.collections.PathCollection at 0x7fa49a8fa1f0>"
     },
     "execution_count": 25,
     "metadata": {},
     "output_type": "execute_result"
    },
    {
     "data": {
      "image/png": "[encoded data removed]",
      "text/plain": "<Figure size 432x288 with 1 Axes>"
     },
     "metadata": {
      "needs_background": "light",
      "transient": {}
     },
     "output_type": "display_data"
    }
   ],
   "source": [
    "from matplotlib import pyplot as plt\n",
    "plt.scatter(results2['log_likelihood'], results2['acc'])"
   ]
  }
 ],
 "metadata": {
  "kernelspec": {
   "display_name": "Python 3.8.6 64-bit ('torch': conda)",
   "metadata": {
    "interpreter": {
     "hash": "358cb09be45ce29ba6e2af675b8eb8b6fca06d4c75b50e21e7b66eb50601d9e0"
    }
   },
   "name": "python3"
  },
  "language_info": {
   "codemirror_mode": {
    "name": "ipython",
    "version": 3
   },
   "file_extension": ".py",
   "mimetype": "text/x-python",
   "name": "python",
   "nbconvert_exporter": "python",
   "pygments_lexer": "ipython3",
   "version": "3.8.6-final"
  },
  "orig_nbformat": 2
 },
 "nbformat": 4,
 "nbformat_minor": 2
}