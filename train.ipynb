{
 "cells": [
  {
   "cell_type": "code",
   "execution_count": 12,
   "metadata": {},
   "outputs": [],
   "source": [
    "import torch\n",
    "import pytorch_lightning as pl\n",
    "import importlib\n",
    "import numpy as np\n",
    "import wandb\n",
    "# from triplet_vade import TripletVaDE\n",
    "import triplet_vade\n",
    "importlib.reload(triplet_vade)\n",
    "from autoencoder import SimpleAutoencoder, VaDE, ClusteringEvaluationCallback, cluster_acc, kl_distance"
   ]
  },
  {
   "cell_type": "code",
   "execution_count": 188,
   "metadata": {},
   "outputs": [],
   "source": [
    "dl = triplets_model.train_dataloader()\n",
    "bx, batch = next(iter(dl))"
   ]
  },
  {
   "cell_type": "code",
   "execution_count": 27,
   "metadata": {},
   "outputs": [
    {
     "data": {
      "text/plain": "tensor(0.9336)"
     },
     "execution_count": 27,
     "metadata": {},
     "output_type": "execute_result"
    }
   ],
   "source": [
    "def kl_dist(s1, s2):\n",
    "    return kl_distance(triplets_model.model.encode(batch[s1]), triplets_model.model.encode(batch[s2]))\n",
    "\n",
    "\n",
    "((kl_dist('anchor', 'positive') < kl_dist('anchor', 'negative')).float().mean())\n",
    "\n"
   ]
  },
  {
   "cell_type": "code",
   "execution_count": 194,
   "metadata": {},
   "outputs": [
    {
     "data": {
      "text/plain": "tensor(0.9102)"
     },
     "execution_count": 194,
     "metadata": {},
     "output_type": "execute_result"
    }
   ],
   "source": [
    "logits1 = classification_logits(triplets_model, batch['anchor'])\n",
    "logits2 = classification_logits(triplets_model, batch['positive'])\n",
    "logits3 = classification_logits(triplets_model, batch['negative'])\n",
    "\n",
    "\n",
    "(logits1.argmax(1) == logits2.argmax(1)).float().mean()"
   ]
  },
  {
   "cell_type": "code",
   "execution_count": 202,
   "metadata": {},
   "outputs": [
    {
     "data": {
      "text/plain": "tensor([3.4307e-03, 1.7740e-06, 4.6988e-05, 3.3933e-05, 6.9089e-01, 1.4499e-04,\n        1.0572e-02, 1.3569e-05, 2.1554e-06, 7.3829e-06, 3.6992e-04, 8.9924e-05,\n        5.6061e-04, 6.8881e-01, 3.8643e-01, 6.7821e-08, 6.5743e-01, 7.8292e-05,\n        3.0658e-04, 7.2796e-04, 7.7148e-04, 4.3285e-06, 1.0464e-03, 3.0673e-06,\n        4.2285e-05, 1.1209e-03, 5.6577e-03, 1.5430e-01, 6.9906e-07, 3.0518e-03,\n        2.2684e-03, 6.6880e-06, 2.9676e-03, 1.2777e-04, 1.4438e-03, 3.0864e-02,\n        9.1661e-02, 4.4575e-06, 2.6054e-03, 9.5361e-06, 1.9702e-05, 6.9242e-01,\n        2.7807e-05, 2.9177e-05, 3.7992e-04, 6.8373e-01, 1.1303e-01, 5.4264e-02,\n        2.2608e-03, 5.7824e-01, 6.9210e-01, 3.1212e-07, 7.0604e-06, 9.8527e-06,\n        6.1479e-03, 6.9249e-01, 1.8267e-03, 1.6830e-04, 1.3631e-04, 6.8910e-05,\n        9.5341e-02, 6.1158e-05, 1.9618e-05, 6.9312e-01, 1.3220e-05, 1.0437e-04,\n        2.2238e-03, 7.4122e-05, 4.6710e-04, 5.5599e-05, 1.5851e-05, 2.7404e-04,\n        1.4334e-05, 3.7041e-04, 8.6254e-02, 4.9439e-03, 1.2627e-06, 3.2851e-06,\n        1.9342e-03, 8.7385e-04, 2.1721e-03, 1.0184e-05, 1.2551e-05, 6.6123e-06,\n        5.4338e-05, 1.0402e-06, 6.3862e-05, 5.8698e-03, 1.1708e-03, 3.8556e-05,\n        1.2403e-03, 1.9597e-05, 4.9458e-04, 4.9923e-01, 1.2904e-04, 1.1627e-05,\n        2.0976e-02, 3.0142e-04, 1.1971e-05, 2.9252e-06, 2.0068e-05, 4.9016e-06,\n        5.1698e-05, 2.4520e-03, 3.6534e-04, 5.3122e-04, 1.0568e-04, 1.9416e-04,\n        1.0482e-03, 4.0495e-03, 4.0429e-04, 2.3182e-06, 1.1715e-04, 1.1579e-05,\n        1.1448e-03, 4.7441e-01, 5.4816e-05, 7.4851e-02, 8.7039e-04, 3.7015e-06,\n        6.8295e-05, 9.4845e-06, 9.3469e-03, 2.1637e-05, 5.4104e-06, 2.7770e-06,\n        7.2429e-03, 1.4319e-06, 1.2636e-05, 1.4234e-01, 4.9123e-05, 3.3128e-05,\n        3.2352e-05, 7.9291e-02, 1.8572e-04, 1.4186e-02, 6.9023e-01, 2.1150e-02,\n        5.8786e-01, 7.7071e-05, 6.9032e-01, 1.1280e-03, 2.6050e-04, 7.1576e-05,\n        4.9374e-04, 6.4786e-05, 2.0826e-02, 7.2162e-02, 5.2090e-06, 2.8674e-03,\n        2.1457e-04, 4.6712e-06, 5.3572e-05, 5.3590e-06, 1.3547e-03, 1.3213e-03,\n        1.2762e-01, 1.6462e-04, 5.5903e-04, 2.1889e-05, 6.7277e-05, 5.2071e-03,\n        1.2104e-04, 4.4749e-02, 1.7434e-03, 4.6339e-04, 4.5979e-06, 4.1151e-04,\n        6.2069e-04, 5.2729e-03, 8.2016e-08, 7.5904e-03, 2.0296e-02, 4.2302e-03,\n        4.0996e-03, 5.5770e-01, 2.6551e-05, 1.3978e-04, 6.6810e-03, 1.8014e-04,\n        3.8556e-04, 2.4827e-05, 5.8091e-04, 6.5563e-03, 6.0764e-04, 2.2853e-03,\n        8.5026e-04, 1.6240e-04, 8.6802e-02, 2.6450e-03, 1.8143e-04, 2.0155e-04,\n        3.1873e-03, 2.4698e-03, 6.4121e-03, 1.7722e-06, 6.8127e-06, 6.4756e-01,\n        6.1708e-01, 4.0809e-03, 1.8491e-06, 1.9478e-03, 3.2129e-01, 3.7194e-02,\n        7.8795e-05, 4.8308e-06, 2.5016e-04, 1.1029e-06, 1.5058e-05, 4.9000e-04,\n        1.5181e-05, 5.5356e-04, 6.6469e-04, 7.2685e-03, 1.4373e-04, 1.4620e-03,\n        1.2413e-03, 1.5071e-02, 9.3634e-07, 5.2425e-01, 9.8547e-03, 1.0755e-06,\n        6.2594e-03, 3.1528e-06, 3.9145e-02, 2.5700e-04, 6.8995e-06, 1.2047e-02,\n        3.1958e-01, 2.2331e-03, 2.6006e-03, 1.0217e-05, 1.6751e-04, 4.1966e-05,\n        1.2875e-06, 1.3780e-06, 5.5664e-02, 8.2575e-04, 7.6221e-04, 7.7224e-03,\n        5.4043e-05, 3.4257e-04, 7.3819e-03, 2.7600e-03, 3.6626e-04, 2.9276e-03,\n        5.9945e-01, 6.9179e-02, 6.3249e-07, 6.5866e-04, 6.5280e-01, 9.2538e-03,\n        7.1163e-02, 8.0411e-02, 3.1851e-05, 1.0672e-04],\n       grad_fn=<DivBackward0>)"
     },
     "execution_count": 202,
     "metadata": {},
     "output_type": "execute_result"
    }
   ],
   "source": [
    "js_dist(logits1.softmax(1), logits2.softmax(1))"
   ]
  },
  {
   "cell_type": "code",
   "execution_count": 211,
   "metadata": {},
   "outputs": [
    {
     "data": {
      "text/plain": "tensor(0.9102)"
     },
     "execution_count": 211,
     "metadata": {},
     "output_type": "execute_result"
    }
   ],
   "source": [
    "def classification_logits(self, bx):\n",
    "        self = self.model\n",
    "        z_dist = self.encode(bx)\n",
    "        z = z_dist.rsample()\n",
    "        log_p_z_c = self.component_distribution.log_prob(z)\n",
    "        log_q_c_z = torch.log_softmax(log_p_z_c + self.mixture_logits, dim=-1)  # dims: (bs, k)\n",
    "        return log_q_c_z\n",
    "\n",
    "\n",
    "def kl_div_(logits1, logits2):\n",
    "    return (logits1.softmax(dim=1) * (logits1 - logits2)).sum(dim=-1)\n",
    "\n",
    "def kl_div(p, q):\n",
    "    log_diff = p.log() - q.log()\n",
    "    # import pdb; pdb.set_trace()\n",
    "    # log_diff[p==0] = 0\n",
    "    return (p * log_diff).sum(dim=1)\n",
    "\n",
    "def js_dist(p, q, eps=1e-8):\n",
    "    p, q = (p + eps), (q + eps)\n",
    "    p, q = p / p.sum(dim=1, keepdims=True), q / q.sum(dim=1, keepdims=True)\n",
    "    m = (p + q) / 2\n",
    "    return (kl_div(p, m) + kl_div(q, m)) / 2\n",
    "\n",
    "\n",
    "def js_dist_(logits1, logits2):\n",
    "    M_probs = (logits1.softmax(dim=1) + logits2.softmax(dim=1)) / 2\n",
    "    return (kl_div(logits1, M_probs.log()) + kl_div(logits2, M_probs.log())) // 2\n",
    "\n",
    "def logits_kl_js_dist(s1, s2):\n",
    "    logits1 = classification_logits(triplets_model, batch[s1])\n",
    "    logits2 = classification_logits(triplets_model, batch[s2])\n",
    "    return js_dist(logits1.softmax(1), logits2.softmax(1))\n",
    "\n",
    "# logits1 = classification_logits(triplets_model, batch['anchor'])\n",
    "# logits2 = classification_logits(triplets_model, batch['positive'])\n",
    "M_probs = ((logits1.softmax(dim=-1) + logits2.softmax(dim=-1)) / 2)\n",
    "# kl_div(logits1.softmax(dim=1), M_probs)\n",
    "log_diff = logits1 - M_probs.log()\n",
    "js_dist(logits1.softmax(1), logits2.softmax(1))\n",
    "(logits_kl_js_dist('anchor', 'positive') + 0.1 < logits_kl_js_dist('anchor', 'negative')).float().mean()"
   ]
  },
  {
   "cell_type": "code",
   "execution_count": 142,
   "metadata": {},
   "outputs": [
    {
     "data": {
      "text/plain": "((tensor([  0,   5,   7,   9,  10,  14,  15,  16,  17,  17,  18,  19,  19,  19,\n           23,  24,  25,  25,  31,  33,  35,  35,  37,  38,  41,  42,  43,  45,\n           47,  48,  50,  55,  56,  58,  59,  62,  63,  64,  65,  68,  68,  71,\n           74,  75,  76,  80,  82,  83,  84,  87,  92,  93,  97,  97,  99, 105,\n          105, 106, 107, 108, 109, 111, 117, 121, 124, 128, 130, 131, 134, 135,\n          136, 137, 139, 139, 140, 142, 144, 148, 149, 150, 151, 153, 160, 161,\n          162, 165, 166, 167, 168, 169, 171, 172, 174, 176, 177, 180, 181, 187,\n          190, 190, 191, 192, 193, 196, 197, 198, 201, 202, 204, 205, 206, 212,\n          213, 214, 215, 217, 218, 222, 224, 227, 228, 234, 236, 240, 241, 244,\n          246, 247, 248, 249, 250, 251, 252, 253, 255]),\n  tensor([4, 4, 4, 4, 7, 4, 4, 4, 0, 7, 4, 0, 4, 7, 4, 4, 0, 7, 4, 4, 0, 7, 4, 4,\n          4, 4, 4, 4, 4, 4, 4, 7, 4, 4, 7, 4, 7, 4, 4, 0, 4, 4, 4, 4, 7, 4, 4, 7,\n          4, 4, 4, 4, 0, 7, 4, 0, 4, 4, 4, 4, 4, 7, 4, 4, 4, 4, 7, 0, 4, 4, 4, 7,\n          0, 7, 4, 4, 4, 4, 4, 4, 4, 7, 4, 4, 4, 4, 0, 4, 7, 4, 4, 4, 4, 4, 4, 4,\n          4, 4, 0, 4, 4, 7, 4, 4, 4, 4, 4, 4, 4, 4, 4, 4, 4, 4, 4, 4, 7, 4, 4, 4,\n          4, 7, 4, 4, 4, 4, 4, 4, 4, 4, 4, 4, 4, 4, 7])),\n (tensor([  0,   1,   3,   4,   5,   7,   9,  10,  12,  12,  12,  13,  14,  15,\n           16,  17,  17,  18,  19,  19,  19,  23,  24,  25,  25,  28,  31,  33,\n           35,  35,  35,  36,  36,  37,  38,  41,  42,  43,  43,  45,  46,  47,\n           48,  50,  52,  53,  55,  55,  56,  58,  59,  60,  61,  62,  63,  64,\n           65,  68,  68,  68,  69,  70,  71,  73,  74,  75,  76,  80,  82,  83,\n           84,  85,  85,  86,  87,  88,  92,  93,  94,  95,  97,  99, 100, 103,\n          105, 105, 106, 107, 108, 109, 110, 111, 115, 117, 118, 121, 123, 124,\n          128, 129, 130, 130, 131, 131, 134, 135, 136, 136, 137, 137, 139, 139,\n          142, 143, 144, 145, 148, 149, 150, 151, 153, 154, 156, 160, 161, 162,\n          163, 165, 166, 166, 166, 167, 168, 169, 171, 172, 172, 174, 176, 177,\n          179, 180, 181, 182, 187, 190, 190, 191, 191, 192, 192, 193, 196, 197,\n          198, 198, 199, 201, 204, 205, 206, 209, 210, 212, 213, 214, 215, 217,\n          218, 218, 220, 222, 224, 227, 228, 229, 233, 234, 235, 236, 240, 241,\n          242, 244, 246, 246, 247, 248, 249, 250, 251, 252, 253, 254, 255, 255]),\n  tensor([4, 4, 4, 4, 4, 4, 4, 7, 0, 4, 7, 4, 4, 4, 4, 0, 7, 4, 0, 4, 7, 4, 4, 0,\n          7, 7, 4, 0, 0, 4, 7, 0, 7, 4, 4, 4, 4, 0, 4, 4, 7, 4, 4, 4, 4, 4, 0, 7,\n          4, 4, 7, 4, 4, 4, 7, 4, 4, 0, 4, 7, 4, 4, 4, 4, 4, 4, 7, 4, 4, 7, 4, 0,\n          7, 4, 4, 4, 4, 4, 4, 4, 0, 4, 4, 4, 0, 4, 4, 4, 4, 4, 4, 7, 4, 4, 4, 4,\n          4, 4, 4, 4, 0, 7, 0, 7, 4, 4, 4, 7, 0, 7, 0, 7, 4, 4, 4, 4, 4, 4, 4, 4,\n          7, 4, 4, 4, 4, 4, 4, 4, 0, 4, 7, 4, 7, 4, 4, 1, 4, 4, 4, 4, 4, 4, 4, 4,\n          4, 0, 4, 0, 4, 0, 7, 4, 4, 4, 4, 7, 4, 4, 4, 4, 4, 4, 4, 4, 4, 4, 4, 4,\n          0, 7, 4, 4, 4, 4, 4, 4, 4, 7, 4, 4, 4, 4, 4, 4, 4, 7, 4, 4, 4, 4, 4, 4,\n          4, 4, 0, 7])))"
     },
     "execution_count": 142,
     "metadata": {},
     "output_type": "execute_result"
    }
   ],
   "source": [
    "torch.where(M_probs.log().isinf()), torch.where(logits2.softmax(dim=-1)==0)"
   ]
  },
  {
   "cell_type": "code",
   "execution_count": 3,
   "metadata": {},
   "outputs": [
    {
     "name": "stderr",
     "output_type": "stream",
     "text": [
      "Failed to query for notebook name, you can set it manually with the WANDB_NOTEBOOK_NAME environment variable\n",
      "\u001b[34m\u001b[1mwandb\u001b[0m: Currently logged in as: \u001b[33mshukistern\u001b[0m (use `wandb login --relogin` to force relogin)\n",
      "\u001b[34m\u001b[1mwandb\u001b[0m: wandb version 0.10.22 is available!  To upgrade, please run:\n",
      "\u001b[34m\u001b[1mwandb\u001b[0m:  $ pip install wandb --upgrade\n"
     ]
    },
    {
     "data": {
      "text/html": "\n                Tracking run with wandb version 0.10.17<br/>\n                Syncing run <strong style=\"color:#cdcd00\">spiced-flan-1015</strong> to <a href=\"https://wandb.ai\" target=\"_blank\">Weights & Biases</a> <a href=\"https://docs.wandb.com/integrations/jupyter.html\" target=\"_blank\">(Documentation)</a>.<br/>\n                Project page: <a href=\"https://wandb.ai/shukistern/VaDE%20Triplets\" target=\"_blank\">https://wandb.ai/shukistern/VaDE%20Triplets</a><br/>\n                Run page: <a href=\"https://wandb.ai/shukistern/VaDE%20Triplets/runs/39uoufpp\" target=\"_blank\">https://wandb.ai/shukistern/VaDE%20Triplets/runs/39uoufpp</a><br/>\n                Run data is saved locally in <code>/home/shuki/projects/my_VaDE/wandb/run-20210314_165520-39uoufpp</code><br/><br/>\n            ",
      "text/plain": "<IPython.core.display.HTML object>"
     },
     "metadata": {},
     "output_type": "display_data"
    },
    {
     "name": "stderr",
     "output_type": "stream",
     "text": [
      "GPU available: True, used: True\n",
      "TPU available: None, using: 0 TPU cores\n",
      "LOCAL_RANK: 0 - CUDA_VISIBLE_DEVICES: [0]\n",
      "\n",
      "  | Name  | Type | Params\n",
      "-------------------------------\n",
      "0 | model | VaDE | 3.5 M \n",
      "-------------------------------\n",
      "3.5 M     Trainable params\n",
      "0         Non-trainable params\n",
      "3.5 M     Total params\n"
     ]
    },
    {
     "data": {
      "application/vnd.jupyter.widget-view+json": {
       "model_id": "447caa74bc78405487654e693e472d80",
       "version_major": 2,
       "version_minor": 0
      },
      "text/plain": "Validation sanity check: 0it [00:00, ?it/s]"
     },
     "metadata": {},
     "output_type": "display_data"
    },
    {
     "data": {
      "application/vnd.jupyter.widget-view+json": {
       "model_id": "193a51767d434746a2e6de539d00eca9",
       "version_major": 2,
       "version_minor": 0
      },
      "text/plain": "Training: 0it [00:00, ?it/s]"
     },
     "metadata": {},
     "output_type": "display_data"
    },
    {
     "data": {
      "application/vnd.jupyter.widget-view+json": {
       "model_id": "366977d0a2f641c7a3401c0584fe29e1",
       "version_major": 2,
       "version_minor": 0
      },
      "text/plain": "Validating: 0it [00:00, ?it/s]"
     },
     "metadata": {},
     "output_type": "display_data"
    },
    {
     "name": "stderr",
     "output_type": "stream",
     "text": [
      "/home/shuki/anaconda3/envs/torch/lib/python3.8/site-packages/torch/optim/lr_scheduler.py:216: UserWarning: Please also save or load the state of the optimizer when saving or loading the scheduler.\n",
      "  warnings.warn(SAVE_STATE_WARNING, UserWarning)\n"
     ]
    },
    {
     "data": {
      "application/vnd.jupyter.widget-view+json": {
       "model_id": "ec63739b0e1d43c8adef0569ec756e24",
       "version_major": 2,
       "version_minor": 0
      },
      "text/plain": "Validating: 0it [00:00, ?it/s]"
     },
     "metadata": {},
     "output_type": "display_data"
    },
    {
     "name": "stderr",
     "output_type": "stream",
     "text": [
      "/home/shuki/anaconda3/envs/torch/lib/python3.8/site-packages/torch/optim/lr_scheduler.py:216: UserWarning: Please also save or load the state of the optimizer when saving or loading the scheduler.\n",
      "  warnings.warn(SAVE_STATE_WARNING, UserWarning)\n"
     ]
    },
    {
     "data": {
      "application/vnd.jupyter.widget-view+json": {
       "model_id": "242674174da54468844eeb535d0e56c5",
       "version_major": 2,
       "version_minor": 0
      },
      "text/plain": "Validating: 0it [00:00, ?it/s]"
     },
     "metadata": {},
     "output_type": "display_data"
    },
    {
     "name": "stderr",
     "output_type": "stream",
     "text": [
      "/home/shuki/anaconda3/envs/torch/lib/python3.8/site-packages/torch/optim/lr_scheduler.py:216: UserWarning: Please also save or load the state of the optimizer when saving or loading the scheduler.\n",
      "  warnings.warn(SAVE_STATE_WARNING, UserWarning)\n"
     ]
    },
    {
     "data": {
      "application/vnd.jupyter.widget-view+json": {
       "model_id": "ab1abd1562b04d43b7495389db6bcb79",
       "version_major": 2,
       "version_minor": 0
      },
      "text/plain": "Validating: 0it [00:00, ?it/s]"
     },
     "metadata": {},
     "output_type": "display_data"
    },
    {
     "name": "stderr",
     "output_type": "stream",
     "text": [
      "/home/shuki/anaconda3/envs/torch/lib/python3.8/site-packages/torch/optim/lr_scheduler.py:216: UserWarning: Please also save or load the state of the optimizer when saving or loading the scheduler.\n",
      "  warnings.warn(SAVE_STATE_WARNING, UserWarning)\n"
     ]
    },
    {
     "data": {
      "application/vnd.jupyter.widget-view+json": {
       "model_id": "00e14bba50fe4c29b076a42913b03706",
       "version_major": 2,
       "version_minor": 0
      },
      "text/plain": "Validating: 0it [00:00, ?it/s]"
     },
     "metadata": {},
     "output_type": "display_data"
    },
    {
     "name": "stderr",
     "output_type": "stream",
     "text": [
      "/home/shuki/anaconda3/envs/torch/lib/python3.8/site-packages/torch/optim/lr_scheduler.py:216: UserWarning: Please also save or load the state of the optimizer when saving or loading the scheduler.\n",
      "  warnings.warn(SAVE_STATE_WARNING, UserWarning)\n"
     ]
    },
    {
     "data": {
      "application/vnd.jupyter.widget-view+json": {
       "model_id": "b2771d503fd045f395ffbaa8d62a4e0b",
       "version_major": 2,
       "version_minor": 0
      },
      "text/plain": "Validating: 0it [00:00, ?it/s]"
     },
     "metadata": {},
     "output_type": "display_data"
    },
    {
     "name": "stderr",
     "output_type": "stream",
     "text": [
      "/home/shuki/anaconda3/envs/torch/lib/python3.8/site-packages/torch/optim/lr_scheduler.py:216: UserWarning: Please also save or load the state of the optimizer when saving or loading the scheduler.\n",
      "  warnings.warn(SAVE_STATE_WARNING, UserWarning)\n"
     ]
    },
    {
     "data": {
      "application/vnd.jupyter.widget-view+json": {
       "model_id": "b7a098b1f8c640dbb474cb1d0726f43c",
       "version_major": 2,
       "version_minor": 0
      },
      "text/plain": "Validating: 0it [00:00, ?it/s]"
     },
     "metadata": {},
     "output_type": "display_data"
    },
    {
     "name": "stderr",
     "output_type": "stream",
     "text": [
      "/home/shuki/anaconda3/envs/torch/lib/python3.8/site-packages/torch/optim/lr_scheduler.py:216: UserWarning: Please also save or load the state of the optimizer when saving or loading the scheduler.\n",
      "  warnings.warn(SAVE_STATE_WARNING, UserWarning)\n"
     ]
    },
    {
     "data": {
      "application/vnd.jupyter.widget-view+json": {
       "model_id": "4f776b0a166c4ec2ba1a47060f05f793",
       "version_major": 2,
       "version_minor": 0
      },
      "text/plain": "Validating: 0it [00:00, ?it/s]"
     },
     "metadata": {},
     "output_type": "display_data"
    },
    {
     "name": "stderr",
     "output_type": "stream",
     "text": [
      "/home/shuki/anaconda3/envs/torch/lib/python3.8/site-packages/torch/optim/lr_scheduler.py:216: UserWarning: Please also save or load the state of the optimizer when saving or loading the scheduler.\n",
      "  warnings.warn(SAVE_STATE_WARNING, UserWarning)\n"
     ]
    },
    {
     "data": {
      "application/vnd.jupyter.widget-view+json": {
       "model_id": "e919fcdaba94443e99eb39b4bea42aa8",
       "version_major": 2,
       "version_minor": 0
      },
      "text/plain": "Validating: 0it [00:00, ?it/s]"
     },
     "metadata": {},
     "output_type": "display_data"
    },
    {
     "name": "stderr",
     "output_type": "stream",
     "text": [
      "/home/shuki/anaconda3/envs/torch/lib/python3.8/site-packages/torch/optim/lr_scheduler.py:216: UserWarning: Please also save or load the state of the optimizer when saving or loading the scheduler.\n",
      "  warnings.warn(SAVE_STATE_WARNING, UserWarning)\n"
     ]
    },
    {
     "data": {
      "application/vnd.jupyter.widget-view+json": {
       "model_id": "3dd56268be684fd0affec85f41909d4f",
       "version_major": 2,
       "version_minor": 0
      },
      "text/plain": "Validating: 0it [00:00, ?it/s]"
     },
     "metadata": {},
     "output_type": "display_data"
    },
    {
     "name": "stderr",
     "output_type": "stream",
     "text": [
      "/home/shuki/anaconda3/envs/torch/lib/python3.8/site-packages/torch/optim/lr_scheduler.py:216: UserWarning: Please also save or load the state of the optimizer when saving or loading the scheduler.\n",
      "  warnings.warn(SAVE_STATE_WARNING, UserWarning)\n"
     ]
    },
    {
     "data": {
      "application/vnd.jupyter.widget-view+json": {
       "model_id": "36716cf202b04f7986efa2aec43c5062",
       "version_major": 2,
       "version_minor": 0
      },
      "text/plain": "Validating: 0it [00:00, ?it/s]"
     },
     "metadata": {},
     "output_type": "display_data"
    },
    {
     "name": "stderr",
     "output_type": "stream",
     "text": [
      "/home/shuki/anaconda3/envs/torch/lib/python3.8/site-packages/torch/optim/lr_scheduler.py:216: UserWarning: Please also save or load the state of the optimizer when saving or loading the scheduler.\n",
      "  warnings.warn(SAVE_STATE_WARNING, UserWarning)\n"
     ]
    },
    {
     "data": {
      "application/vnd.jupyter.widget-view+json": {
       "model_id": "cd1447845af647f3b5de19edf2f84d32",
       "version_major": 2,
       "version_minor": 0
      },
      "text/plain": "Validating: 0it [00:00, ?it/s]"
     },
     "metadata": {},
     "output_type": "display_data"
    },
    {
     "name": "stderr",
     "output_type": "stream",
     "text": [
      "/home/shuki/anaconda3/envs/torch/lib/python3.8/site-packages/torch/optim/lr_scheduler.py:216: UserWarning: Please also save or load the state of the optimizer when saving or loading the scheduler.\n",
      "  warnings.warn(SAVE_STATE_WARNING, UserWarning)\n"
     ]
    },
    {
     "data": {
      "application/vnd.jupyter.widget-view+json": {
       "model_id": "d5def377e8cb41e5a9a6df1782c6a7d5",
       "version_major": 2,
       "version_minor": 0
      },
      "text/plain": "Validating: 0it [00:00, ?it/s]"
     },
     "metadata": {},
     "output_type": "display_data"
    },
    {
     "name": "stderr",
     "output_type": "stream",
     "text": [
      "/home/shuki/anaconda3/envs/torch/lib/python3.8/site-packages/torch/optim/lr_scheduler.py:216: UserWarning: Please also save or load the state of the optimizer when saving or loading the scheduler.\n",
      "  warnings.warn(SAVE_STATE_WARNING, UserWarning)\n"
     ]
    },
    {
     "data": {
      "application/vnd.jupyter.widget-view+json": {
       "model_id": "28e4543a502b4cf29d9d5a1c07c0ca1b",
       "version_major": 2,
       "version_minor": 0
      },
      "text/plain": "Validating: 0it [00:00, ?it/s]"
     },
     "metadata": {},
     "output_type": "display_data"
    },
    {
     "name": "stderr",
     "output_type": "stream",
     "text": [
      "/home/shuki/anaconda3/envs/torch/lib/python3.8/site-packages/torch/optim/lr_scheduler.py:216: UserWarning: Please also save or load the state of the optimizer when saving or loading the scheduler.\n",
      "  warnings.warn(SAVE_STATE_WARNING, UserWarning)\n"
     ]
    },
    {
     "data": {
      "application/vnd.jupyter.widget-view+json": {
       "model_id": "aec7e2e157f744928b9c818a86d7b9b4",
       "version_major": 2,
       "version_minor": 0
      },
      "text/plain": "Validating: 0it [00:00, ?it/s]"
     },
     "metadata": {},
     "output_type": "display_data"
    },
    {
     "name": "stderr",
     "output_type": "stream",
     "text": [
      "/home/shuki/anaconda3/envs/torch/lib/python3.8/site-packages/torch/optim/lr_scheduler.py:216: UserWarning: Please also save or load the state of the optimizer when saving or loading the scheduler.\n",
      "  warnings.warn(SAVE_STATE_WARNING, UserWarning)\n"
     ]
    },
    {
     "data": {
      "application/vnd.jupyter.widget-view+json": {
       "model_id": "eeb88aa5342541ee89c2e1a0234a9e87",
       "version_major": 2,
       "version_minor": 0
      },
      "text/plain": "Validating: 0it [00:00, ?it/s]"
     },
     "metadata": {},
     "output_type": "display_data"
    },
    {
     "name": "stderr",
     "output_type": "stream",
     "text": [
      "/home/shuki/anaconda3/envs/torch/lib/python3.8/site-packages/torch/optim/lr_scheduler.py:216: UserWarning: Please also save or load the state of the optimizer when saving or loading the scheduler.\n",
      "  warnings.warn(SAVE_STATE_WARNING, UserWarning)\n"
     ]
    },
    {
     "data": {
      "application/vnd.jupyter.widget-view+json": {
       "model_id": "1fc5dfc20fd04a41bd96df27fee7bfed",
       "version_major": 2,
       "version_minor": 0
      },
      "text/plain": "Validating: 0it [00:00, ?it/s]"
     },
     "metadata": {},
     "output_type": "display_data"
    },
    {
     "name": "stderr",
     "output_type": "stream",
     "text": [
      "/home/shuki/anaconda3/envs/torch/lib/python3.8/site-packages/torch/optim/lr_scheduler.py:216: UserWarning: Please also save or load the state of the optimizer when saving or loading the scheduler.\n",
      "  warnings.warn(SAVE_STATE_WARNING, UserWarning)\n"
     ]
    },
    {
     "data": {
      "application/vnd.jupyter.widget-view+json": {
       "model_id": "1cab317288a646728c1dd2b3d8365179",
       "version_major": 2,
       "version_minor": 0
      },
      "text/plain": "Validating: 0it [00:00, ?it/s]"
     },
     "metadata": {},
     "output_type": "display_data"
    },
    {
     "name": "stderr",
     "output_type": "stream",
     "text": [
      "/home/shuki/anaconda3/envs/torch/lib/python3.8/site-packages/torch/optim/lr_scheduler.py:216: UserWarning: Please also save or load the state of the optimizer when saving or loading the scheduler.\n",
      "  warnings.warn(SAVE_STATE_WARNING, UserWarning)\n"
     ]
    },
    {
     "data": {
      "application/vnd.jupyter.widget-view+json": {
       "model_id": "d23b5da351dd47d5a6e251b23b2f6be8",
       "version_major": 2,
       "version_minor": 0
      },
      "text/plain": "Validating: 0it [00:00, ?it/s]"
     },
     "metadata": {},
     "output_type": "display_data"
    },
    {
     "name": "stderr",
     "output_type": "stream",
     "text": [
      "/home/shuki/anaconda3/envs/torch/lib/python3.8/site-packages/torch/optim/lr_scheduler.py:216: UserWarning: Please also save or load the state of the optimizer when saving or loading the scheduler.\n",
      "  warnings.warn(SAVE_STATE_WARNING, UserWarning)\n"
     ]
    },
    {
     "data": {
      "application/vnd.jupyter.widget-view+json": {
       "model_id": "85529b3e939743e5abe4aba89bc307b6",
       "version_major": 2,
       "version_minor": 0
      },
      "text/plain": "Validating: 0it [00:00, ?it/s]"
     },
     "metadata": {},
     "output_type": "display_data"
    },
    {
     "name": "stderr",
     "output_type": "stream",
     "text": [
      "/home/shuki/anaconda3/envs/torch/lib/python3.8/site-packages/torch/optim/lr_scheduler.py:216: UserWarning: Please also save or load the state of the optimizer when saving or loading the scheduler.\n",
      "  warnings.warn(SAVE_STATE_WARNING, UserWarning)\n"
     ]
    },
    {
     "data": {
      "application/vnd.jupyter.widget-view+json": {
       "model_id": "abf3cc4733ff41ff956438c2369bff53",
       "version_major": 2,
       "version_minor": 0
      },
      "text/plain": "Validating: 0it [00:00, ?it/s]"
     },
     "metadata": {},
     "output_type": "display_data"
    },
    {
     "name": "stderr",
     "output_type": "stream",
     "text": [
      "/home/shuki/anaconda3/envs/torch/lib/python3.8/site-packages/torch/optim/lr_scheduler.py:216: UserWarning: Please also save or load the state of the optimizer when saving or loading the scheduler.\n",
      "  warnings.warn(SAVE_STATE_WARNING, UserWarning)\n"
     ]
    },
    {
     "data": {
      "application/vnd.jupyter.widget-view+json": {
       "model_id": "f5fabf13fb0b40e9beb62338d15c430c",
       "version_major": 2,
       "version_minor": 0
      },
      "text/plain": "Validating: 0it [00:00, ?it/s]"
     },
     "metadata": {},
     "output_type": "display_data"
    },
    {
     "name": "stderr",
     "output_type": "stream",
     "text": [
      "/home/shuki/anaconda3/envs/torch/lib/python3.8/site-packages/torch/optim/lr_scheduler.py:216: UserWarning: Please also save or load the state of the optimizer when saving or loading the scheduler.\n",
      "  warnings.warn(SAVE_STATE_WARNING, UserWarning)\n"
     ]
    },
    {
     "data": {
      "application/vnd.jupyter.widget-view+json": {
       "model_id": "b0ecf41a95094c63974aca879afccaed",
       "version_major": 2,
       "version_minor": 0
      },
      "text/plain": "Validating: 0it [00:00, ?it/s]"
     },
     "metadata": {},
     "output_type": "display_data"
    },
    {
     "name": "stderr",
     "output_type": "stream",
     "text": [
      "/home/shuki/anaconda3/envs/torch/lib/python3.8/site-packages/torch/optim/lr_scheduler.py:216: UserWarning: Please also save or load the state of the optimizer when saving or loading the scheduler.\n",
      "  warnings.warn(SAVE_STATE_WARNING, UserWarning)\n"
     ]
    },
    {
     "data": {
      "application/vnd.jupyter.widget-view+json": {
       "model_id": "1119aa3dbb9a4b56826d231f0bf4cbf6",
       "version_major": 2,
       "version_minor": 0
      },
      "text/plain": "Validating: 0it [00:00, ?it/s]"
     },
     "metadata": {},
     "output_type": "display_data"
    },
    {
     "name": "stderr",
     "output_type": "stream",
     "text": [
      "/home/shuki/anaconda3/envs/torch/lib/python3.8/site-packages/torch/optim/lr_scheduler.py:216: UserWarning: Please also save or load the state of the optimizer when saving or loading the scheduler.\n",
      "  warnings.warn(SAVE_STATE_WARNING, UserWarning)\n"
     ]
    },
    {
     "data": {
      "application/vnd.jupyter.widget-view+json": {
       "model_id": "b2cc9ece152048aab71f0e43d4554e1f",
       "version_major": 2,
       "version_minor": 0
      },
      "text/plain": "Validating: 0it [00:00, ?it/s]"
     },
     "metadata": {},
     "output_type": "display_data"
    },
    {
     "name": "stderr",
     "output_type": "stream",
     "text": [
      "/home/shuki/anaconda3/envs/torch/lib/python3.8/site-packages/torch/optim/lr_scheduler.py:216: UserWarning: Please also save or load the state of the optimizer when saving or loading the scheduler.\n",
      "  warnings.warn(SAVE_STATE_WARNING, UserWarning)\n"
     ]
    },
    {
     "data": {
      "application/vnd.jupyter.widget-view+json": {
       "model_id": "2fdf6cedde3f472ab69a9a1727fec121",
       "version_major": 2,
       "version_minor": 0
      },
      "text/plain": "Validating: 0it [00:00, ?it/s]"
     },
     "metadata": {},
     "output_type": "display_data"
    },
    {
     "name": "stderr",
     "output_type": "stream",
     "text": [
      "/home/shuki/anaconda3/envs/torch/lib/python3.8/site-packages/torch/optim/lr_scheduler.py:216: UserWarning: Please also save or load the state of the optimizer when saving or loading the scheduler.\n",
      "  warnings.warn(SAVE_STATE_WARNING, UserWarning)\n"
     ]
    },
    {
     "data": {
      "application/vnd.jupyter.widget-view+json": {
       "model_id": "264b0044316c431c8608c4df39182ca6",
       "version_major": 2,
       "version_minor": 0
      },
      "text/plain": "Validating: 0it [00:00, ?it/s]"
     },
     "metadata": {},
     "output_type": "display_data"
    },
    {
     "name": "stderr",
     "output_type": "stream",
     "text": [
      "/home/shuki/anaconda3/envs/torch/lib/python3.8/site-packages/torch/optim/lr_scheduler.py:216: UserWarning: Please also save or load the state of the optimizer when saving or loading the scheduler.\n",
      "  warnings.warn(SAVE_STATE_WARNING, UserWarning)\n"
     ]
    },
    {
     "data": {
      "application/vnd.jupyter.widget-view+json": {
       "model_id": "3af7c3de9b394c909d25a7a0e43328bb",
       "version_major": 2,
       "version_minor": 0
      },
      "text/plain": "Validating: 0it [00:00, ?it/s]"
     },
     "metadata": {},
     "output_type": "display_data"
    },
    {
     "name": "stderr",
     "output_type": "stream",
     "text": [
      "/home/shuki/anaconda3/envs/torch/lib/python3.8/site-packages/torch/optim/lr_scheduler.py:216: UserWarning: Please also save or load the state of the optimizer when saving or loading the scheduler.\n",
      "  warnings.warn(SAVE_STATE_WARNING, UserWarning)\n"
     ]
    },
    {
     "data": {
      "application/vnd.jupyter.widget-view+json": {
       "model_id": "104f8d59527b44bc929a14516dd4c8f1",
       "version_major": 2,
       "version_minor": 0
      },
      "text/plain": "Validating: 0it [00:00, ?it/s]"
     },
     "metadata": {},
     "output_type": "display_data"
    },
    {
     "name": "stderr",
     "output_type": "stream",
     "text": [
      "/home/shuki/anaconda3/envs/torch/lib/python3.8/site-packages/torch/optim/lr_scheduler.py:216: UserWarning: Please also save or load the state of the optimizer when saving or loading the scheduler.\n",
      "  warnings.warn(SAVE_STATE_WARNING, UserWarning)\n"
     ]
    },
    {
     "data": {
      "application/vnd.jupyter.widget-view+json": {
       "model_id": "8a4a0ac518524795a0fabe67986fcd7b",
       "version_major": 2,
       "version_minor": 0
      },
      "text/plain": "Validating: 0it [00:00, ?it/s]"
     },
     "metadata": {},
     "output_type": "display_data"
    },
    {
     "name": "stderr",
     "output_type": "stream",
     "text": [
      "/home/shuki/anaconda3/envs/torch/lib/python3.8/site-packages/torch/optim/lr_scheduler.py:216: UserWarning: Please also save or load the state of the optimizer when saving or loading the scheduler.\n",
      "  warnings.warn(SAVE_STATE_WARNING, UserWarning)\n"
     ]
    },
    {
     "data": {
      "application/vnd.jupyter.widget-view+json": {
       "model_id": "cc2a563064134077ac73d1d69953e50e",
       "version_major": 2,
       "version_minor": 0
      },
      "text/plain": "Validating: 0it [00:00, ?it/s]"
     },
     "metadata": {},
     "output_type": "display_data"
    },
    {
     "name": "stderr",
     "output_type": "stream",
     "text": [
      "/home/shuki/anaconda3/envs/torch/lib/python3.8/site-packages/torch/optim/lr_scheduler.py:216: UserWarning: Please also save or load the state of the optimizer when saving or loading the scheduler.\n",
      "  warnings.warn(SAVE_STATE_WARNING, UserWarning)\n"
     ]
    },
    {
     "data": {
      "application/vnd.jupyter.widget-view+json": {
       "model_id": "dbd20e5b00b24ef19e89cd0f290d733b",
       "version_major": 2,
       "version_minor": 0
      },
      "text/plain": "Validating: 0it [00:00, ?it/s]"
     },
     "metadata": {},
     "output_type": "display_data"
    },
    {
     "name": "stderr",
     "output_type": "stream",
     "text": [
      "/home/shuki/anaconda3/envs/torch/lib/python3.8/site-packages/torch/optim/lr_scheduler.py:216: UserWarning: Please also save or load the state of the optimizer when saving or loading the scheduler.\n",
      "  warnings.warn(SAVE_STATE_WARNING, UserWarning)\n"
     ]
    },
    {
     "data": {
      "application/vnd.jupyter.widget-view+json": {
       "model_id": "664f7be789dc40b2bc1bc4a949c07b01",
       "version_major": 2,
       "version_minor": 0
      },
      "text/plain": "Validating: 0it [00:00, ?it/s]"
     },
     "metadata": {},
     "output_type": "display_data"
    },
    {
     "name": "stderr",
     "output_type": "stream",
     "text": [
      "/home/shuki/anaconda3/envs/torch/lib/python3.8/site-packages/torch/optim/lr_scheduler.py:216: UserWarning: Please also save or load the state of the optimizer when saving or loading the scheduler.\n",
      "  warnings.warn(SAVE_STATE_WARNING, UserWarning)\n"
     ]
    },
    {
     "data": {
      "application/vnd.jupyter.widget-view+json": {
       "model_id": "4a7a9fefacb14ec5be93a815134f62e1",
       "version_major": 2,
       "version_minor": 0
      },
      "text/plain": "Validating: 0it [00:00, ?it/s]"
     },
     "metadata": {},
     "output_type": "display_data"
    },
    {
     "name": "stderr",
     "output_type": "stream",
     "text": [
      "/home/shuki/anaconda3/envs/torch/lib/python3.8/site-packages/torch/optim/lr_scheduler.py:216: UserWarning: Please also save or load the state of the optimizer when saving or loading the scheduler.\n",
      "  warnings.warn(SAVE_STATE_WARNING, UserWarning)\n"
     ]
    },
    {
     "data": {
      "application/vnd.jupyter.widget-view+json": {
       "model_id": "0d9fe293126946b6a149e92ca5ad54cb",
       "version_major": 2,
       "version_minor": 0
      },
      "text/plain": "Validating: 0it [00:00, ?it/s]"
     },
     "metadata": {},
     "output_type": "display_data"
    },
    {
     "name": "stderr",
     "output_type": "stream",
     "text": [
      "/home/shuki/anaconda3/envs/torch/lib/python3.8/site-packages/torch/optim/lr_scheduler.py:216: UserWarning: Please also save or load the state of the optimizer when saving or loading the scheduler.\n",
      "  warnings.warn(SAVE_STATE_WARNING, UserWarning)\n"
     ]
    },
    {
     "data": {
      "application/vnd.jupyter.widget-view+json": {
       "model_id": "3af914eb312a48d681228075510b0fd7",
       "version_major": 2,
       "version_minor": 0
      },
      "text/plain": "Validating: 0it [00:00, ?it/s]"
     },
     "metadata": {},
     "output_type": "display_data"
    },
    {
     "name": "stderr",
     "output_type": "stream",
     "text": [
      "/home/shuki/anaconda3/envs/torch/lib/python3.8/site-packages/torch/optim/lr_scheduler.py:216: UserWarning: Please also save or load the state of the optimizer when saving or loading the scheduler.\n",
      "  warnings.warn(SAVE_STATE_WARNING, UserWarning)\n"
     ]
    },
    {
     "data": {
      "application/vnd.jupyter.widget-view+json": {
       "model_id": "e5f54ae580d0406c869e75ce84a309f9",
       "version_major": 2,
       "version_minor": 0
      },
      "text/plain": "Validating: 0it [00:00, ?it/s]"
     },
     "metadata": {},
     "output_type": "display_data"
    },
    {
     "name": "stderr",
     "output_type": "stream",
     "text": [
      "/home/shuki/anaconda3/envs/torch/lib/python3.8/site-packages/torch/optim/lr_scheduler.py:216: UserWarning: Please also save or load the state of the optimizer when saving or loading the scheduler.\n",
      "  warnings.warn(SAVE_STATE_WARNING, UserWarning)\n"
     ]
    },
    {
     "data": {
      "application/vnd.jupyter.widget-view+json": {
       "model_id": "6f99f7aab0ad445e88bbdda3c868216d",
       "version_major": 2,
       "version_minor": 0
      },
      "text/plain": "Validating: 0it [00:00, ?it/s]"
     },
     "metadata": {},
     "output_type": "display_data"
    },
    {
     "name": "stderr",
     "output_type": "stream",
     "text": [
      "/home/shuki/anaconda3/envs/torch/lib/python3.8/site-packages/torch/optim/lr_scheduler.py:216: UserWarning: Please also save or load the state of the optimizer when saving or loading the scheduler.\n",
      "  warnings.warn(SAVE_STATE_WARNING, UserWarning)\n"
     ]
    },
    {
     "data": {
      "application/vnd.jupyter.widget-view+json": {
       "model_id": "c63b3d533c1a49e9a7e1c7d320c81742",
       "version_major": 2,
       "version_minor": 0
      },
      "text/plain": "Validating: 0it [00:00, ?it/s]"
     },
     "metadata": {},
     "output_type": "display_data"
    },
    {
     "name": "stderr",
     "output_type": "stream",
     "text": [
      "/home/shuki/anaconda3/envs/torch/lib/python3.8/site-packages/torch/optim/lr_scheduler.py:216: UserWarning: Please also save or load the state of the optimizer when saving or loading the scheduler.\n",
      "  warnings.warn(SAVE_STATE_WARNING, UserWarning)\n"
     ]
    },
    {
     "data": {
      "application/vnd.jupyter.widget-view+json": {
       "model_id": "565a0a127fec4c65857dce06fd544c75",
       "version_major": 2,
       "version_minor": 0
      },
      "text/plain": "Validating: 0it [00:00, ?it/s]"
     },
     "metadata": {},
     "output_type": "display_data"
    },
    {
     "name": "stderr",
     "output_type": "stream",
     "text": [
      "/home/shuki/anaconda3/envs/torch/lib/python3.8/site-packages/torch/optim/lr_scheduler.py:216: UserWarning: Please also save or load the state of the optimizer when saving or loading the scheduler.\n",
      "  warnings.warn(SAVE_STATE_WARNING, UserWarning)\n"
     ]
    },
    {
     "data": {
      "application/vnd.jupyter.widget-view+json": {
       "model_id": "89b3cd16e41c492a8e61f837f7754218",
       "version_major": 2,
       "version_minor": 0
      },
      "text/plain": "Validating: 0it [00:00, ?it/s]"
     },
     "metadata": {},
     "output_type": "display_data"
    },
    {
     "name": "stderr",
     "output_type": "stream",
     "text": [
      "/home/shuki/anaconda3/envs/torch/lib/python3.8/site-packages/torch/optim/lr_scheduler.py:216: UserWarning: Please also save or load the state of the optimizer when saving or loading the scheduler.\n",
      "  warnings.warn(SAVE_STATE_WARNING, UserWarning)\n"
     ]
    },
    {
     "data": {
      "application/vnd.jupyter.widget-view+json": {
       "model_id": "ef605835e37b4bed8f9e0e06a45682ca",
       "version_major": 2,
       "version_minor": 0
      },
      "text/plain": "Validating: 0it [00:00, ?it/s]"
     },
     "metadata": {},
     "output_type": "display_data"
    },
    {
     "name": "stderr",
     "output_type": "stream",
     "text": [
      "/home/shuki/anaconda3/envs/torch/lib/python3.8/site-packages/torch/optim/lr_scheduler.py:216: UserWarning: Please also save or load the state of the optimizer when saving or loading the scheduler.\n",
      "  warnings.warn(SAVE_STATE_WARNING, UserWarning)\n"
     ]
    },
    {
     "data": {
      "application/vnd.jupyter.widget-view+json": {
       "model_id": "38b14ce0206844a893405c5329e69872",
       "version_major": 2,
       "version_minor": 0
      },
      "text/plain": "Validating: 0it [00:00, ?it/s]"
     },
     "metadata": {},
     "output_type": "display_data"
    },
    {
     "name": "stderr",
     "output_type": "stream",
     "text": [
      "/home/shuki/anaconda3/envs/torch/lib/python3.8/site-packages/torch/optim/lr_scheduler.py:216: UserWarning: Please also save or load the state of the optimizer when saving or loading the scheduler.\n",
      "  warnings.warn(SAVE_STATE_WARNING, UserWarning)\n"
     ]
    },
    {
     "data": {
      "application/vnd.jupyter.widget-view+json": {
       "model_id": "b67d7fc5e31b448aa58c85a51934cdff",
       "version_major": 2,
       "version_minor": 0
      },
      "text/plain": "Validating: 0it [00:00, ?it/s]"
     },
     "metadata": {},
     "output_type": "display_data"
    },
    {
     "name": "stderr",
     "output_type": "stream",
     "text": [
      "/home/shuki/anaconda3/envs/torch/lib/python3.8/site-packages/torch/optim/lr_scheduler.py:216: UserWarning: Please also save or load the state of the optimizer when saving or loading the scheduler.\n",
      "  warnings.warn(SAVE_STATE_WARNING, UserWarning)\n"
     ]
    },
    {
     "data": {
      "application/vnd.jupyter.widget-view+json": {
       "model_id": "454e65cfae644c8c94426095b3e5d3a6",
       "version_major": 2,
       "version_minor": 0
      },
      "text/plain": "Validating: 0it [00:00, ?it/s]"
     },
     "metadata": {},
     "output_type": "display_data"
    },
    {
     "name": "stderr",
     "output_type": "stream",
     "text": [
      "/home/shuki/anaconda3/envs/torch/lib/python3.8/site-packages/torch/optim/lr_scheduler.py:216: UserWarning: Please also save or load the state of the optimizer when saving or loading the scheduler.\n",
      "  warnings.warn(SAVE_STATE_WARNING, UserWarning)\n"
     ]
    },
    {
     "data": {
      "application/vnd.jupyter.widget-view+json": {
       "model_id": "5f529b952ad74b20ba414b7932eafa3a",
       "version_major": 2,
       "version_minor": 0
      },
      "text/plain": "Validating: 0it [00:00, ?it/s]"
     },
     "metadata": {},
     "output_type": "display_data"
    },
    {
     "name": "stderr",
     "output_type": "stream",
     "text": [
      "/home/shuki/anaconda3/envs/torch/lib/python3.8/site-packages/torch/optim/lr_scheduler.py:216: UserWarning: Please also save or load the state of the optimizer when saving or loading the scheduler.\n",
      "  warnings.warn(SAVE_STATE_WARNING, UserWarning)\n"
     ]
    },
    {
     "data": {
      "application/vnd.jupyter.widget-view+json": {
       "model_id": "48ca8cc290a14e15ae24c05f84f1d17e",
       "version_major": 2,
       "version_minor": 0
      },
      "text/plain": "Validating: 0it [00:00, ?it/s]"
     },
     "metadata": {},
     "output_type": "display_data"
    },
    {
     "name": "stderr",
     "output_type": "stream",
     "text": [
      "/home/shuki/anaconda3/envs/torch/lib/python3.8/site-packages/torch/optim/lr_scheduler.py:216: UserWarning: Please also save or load the state of the optimizer when saving or loading the scheduler.\n",
      "  warnings.warn(SAVE_STATE_WARNING, UserWarning)\n"
     ]
    },
    {
     "data": {
      "application/vnd.jupyter.widget-view+json": {
       "model_id": "80a0fdd56f5946e4988a7c2aa0559e67",
       "version_major": 2,
       "version_minor": 0
      },
      "text/plain": "Validating: 0it [00:00, ?it/s]"
     },
     "metadata": {},
     "output_type": "display_data"
    },
    {
     "name": "stderr",
     "output_type": "stream",
     "text": [
      "/home/shuki/anaconda3/envs/torch/lib/python3.8/site-packages/torch/optim/lr_scheduler.py:216: UserWarning: Please also save or load the state of the optimizer when saving or loading the scheduler.\n",
      "  warnings.warn(SAVE_STATE_WARNING, UserWarning)\n"
     ]
    },
    {
     "data": {
      "application/vnd.jupyter.widget-view+json": {
       "model_id": "58dbceaafae740e3b25431adc43e1338",
       "version_major": 2,
       "version_minor": 0
      },
      "text/plain": "Validating: 0it [00:00, ?it/s]"
     },
     "metadata": {},
     "output_type": "display_data"
    },
    {
     "name": "stderr",
     "output_type": "stream",
     "text": [
      "/home/shuki/anaconda3/envs/torch/lib/python3.8/site-packages/torch/optim/lr_scheduler.py:216: UserWarning: Please also save or load the state of the optimizer when saving or loading the scheduler.\n",
      "  warnings.warn(SAVE_STATE_WARNING, UserWarning)\n"
     ]
    },
    {
     "data": {
      "application/vnd.jupyter.widget-view+json": {
       "model_id": "304aa8db4947457595ca7045ed723c04",
       "version_major": 2,
       "version_minor": 0
      },
      "text/plain": "Validating: 0it [00:00, ?it/s]"
     },
     "metadata": {},
     "output_type": "display_data"
    },
    {
     "name": "stderr",
     "output_type": "stream",
     "text": [
      "/home/shuki/anaconda3/envs/torch/lib/python3.8/site-packages/torch/optim/lr_scheduler.py:216: UserWarning: Please also save or load the state of the optimizer when saving or loading the scheduler.\n",
      "  warnings.warn(SAVE_STATE_WARNING, UserWarning)\n"
     ]
    },
    {
     "data": {
      "text/html": "<br/>Waiting for W&B process to finish, PID 19772<br/>Program ended successfully.",
      "text/plain": "<IPython.core.display.HTML object>"
     },
     "metadata": {},
     "output_type": "display_data"
    },
    {
     "data": {
      "application/vnd.jupyter.widget-view+json": {
       "model_id": "8d40f30ad5d74c239aabd17d06f1f8c0",
       "version_major": 2,
       "version_minor": 0
      },
      "text/plain": "VBox(children=(Label(value=' 0.00MB of 0.00MB uploaded (0.00MB deduped)\\r'), FloatProgress(value=1.0, max=1.0)…"
     },
     "metadata": {},
     "output_type": "display_data"
    },
    {
     "data": {
      "text/html": "Find user logs for this run at: <code>/home/shuki/projects/my_VaDE/wandb/run-20210314_165520-39uoufpp/logs/debug.log</code>",
      "text/plain": "<IPython.core.display.HTML object>"
     },
     "metadata": {},
     "output_type": "display_data"
    },
    {
     "data": {
      "text/html": "Find internal logs for this run at: <code>/home/shuki/projects/my_VaDE/wandb/run-20210314_165520-39uoufpp/logs/debug-internal.log</code>",
      "text/plain": "<IPython.core.display.HTML object>"
     },
     "metadata": {},
     "output_type": "display_data"
    },
    {
     "data": {
      "text/html": "<h3>Run summary:</h3><br/><style>\n    table.wandb td:nth-child(1) { padding: 0 10px; text-align: right }\n    </style><table class=\"wandb\">\n<tr><td>lr-AdamW/pg1</td><td>0.00131</td></tr><tr><td>lr-AdamW/pg2</td><td>0.00131</td></tr><tr><td>_step</td><td>11749</td></tr><tr><td>_runtime</td><td>598</td></tr><tr><td>_timestamp</td><td>1615734319</td></tr><tr><td>train/latent mu mean</td><td>0.0303</td></tr><tr><td>train/latent mu std</td><td>0.0504</td></tr><tr><td>train/latent dist std</td><td>0.1343</td></tr><tr><td>train/loss</td><td>92.8356</td></tr><tr><td>train/x_recon_loss</td><td>73.56841</td></tr><tr><td>train/kl_loss</td><td>19.26719</td></tr><tr><td>train/kl_div_mixture</td><td>2.18278</td></tr><tr><td>train/kl_div_components</td><td>17.08441</td></tr><tr><td>train/main_loss</td><td>92.8356</td></tr><tr><td>train/anchor_pos_distance_kl</td><td>402.79611</td></tr><tr><td>train/anchor_neg_distance_kl</td><td>1193.12256</td></tr><tr><td>train/correct_triplet_pct_kl</td><td>100.0</td></tr><tr><td>train/triplet_loss_kl</td><td>0.0</td></tr><tr><td>valid/latent mu mean</td><td>0.03149</td></tr><tr><td>valid/latent mu std</td><td>0.04839</td></tr><tr><td>valid/latent dist std</td><td>0.12569</td></tr><tr><td>valid/loss</td><td>116.83852</td></tr><tr><td>valid/x_recon_loss</td><td>81.66183</td></tr><tr><td>valid/kl_loss</td><td>19.15251</td></tr><tr><td>valid/kl_div_mixture</td><td>2.10824</td></tr><tr><td>valid/kl_div_components</td><td>17.04427</td></tr><tr><td>valid/main_loss</td><td>100.81434</td></tr><tr><td>valid/anchor_pos_distance_kl</td><td>437.37009</td></tr><tr><td>valid/anchor_neg_distance_kl</td><td>1141.17896</td></tr><tr><td>valid/correct_triplet_pct_kl</td><td>92.43</td></tr><tr><td>valid/triplet_loss_kl</td><td>16.0242</td></tr><tr><td>epoch</td><td>49</td></tr><tr><td>NMI</td><td>0.82978</td></tr><tr><td>ACC</td><td>0.83163</td></tr><tr><td>ACC2</td><td>0.83759</td></tr><tr><td>ARI</td><td>0.7633</td></tr><tr><td>valid_NMI</td><td>0.82913</td></tr><tr><td>valid_ACC</td><td>0.8312</td></tr><tr><td>valid_ACC2</td><td>0.836</td></tr><tr><td>valid_ARI</td><td>0.76358</td></tr></table>",
      "text/plain": "<IPython.core.display.HTML object>"
     },
     "metadata": {},
     "output_type": "display_data"
    },
    {
     "data": {
      "text/html": "<h3>Run history:</h3><br/><style>\n    table.wandb td:nth-child(1) { padding: 0 10px; text-align: right }\n    </style><table class=\"wandb\">\n<tr><td>lr-AdamW/pg1</td><td>▁▂▃▄▅▆▇█████████▇▇▇▇▇▇▇▇▇▇▇▇▇▇▇▇▆▆▆▆▆▆▆▆</td></tr><tr><td>lr-AdamW/pg2</td><td>▁▂▃▄▅▆▇█████████▇▇▇▇▇▇▇▇▇▇▇▇▇▇▇▇▆▆▆▆▆▆▆▆</td></tr><tr><td>_step</td><td>▁▁▁▁▂▂▂▂▂▃▃▃▃▃▃▄▄▄▄▄▅▅▅▅▅▅▆▆▆▆▆▇▇▇▇▇▇███</td></tr><tr><td>_runtime</td><td>▁▁▁▁▂▂▂▂▂▂▃▃▃▃▃▃▄▄▄▄▄▅▅▅▅▅▅▆▆▆▆▆▇▇▇▇▇███</td></tr><tr><td>_timestamp</td><td>▁▁▁▁▂▂▂▂▂▂▃▃▃▃▃▃▄▄▄▄▄▅▅▅▅▅▅▆▆▆▆▆▇▇▇▇▇███</td></tr><tr><td>train/latent mu mean</td><td>▅▇███▇▅▆▄▅▄▄▃▃▃▃▂▃▂▂▂▂▂▂▂▂▂▂▂▁▂▁▁▁▂▁▁▁▁▁</td></tr><tr><td>train/latent mu std</td><td>▅▆▇██▇▅▆▅▅▄▄▄▃▄▃▃▃▃▂▂▂▂▁▂▁▁▂▂▁▂▁▁▂▂▂▁▁▁▁</td></tr><tr><td>train/latent dist std</td><td>▁▃▃▃▂▄▅▅▅▄▅▅▅▆▇▄▅▆▅▅▆▅▅▄▇█▆▆▆▅▆▅▅▆▄▅▅▄▅▆</td></tr><tr><td>train/loss</td><td>▄▂▃▂▄▄▃▃▅▄▄▂▂▅▂▆▁▃▂▃▁▃▃▃█▂▁▂▁▄▁▃▂▂▃▃▂▃▁▁</td></tr><tr><td>train/x_recon_loss</td><td>▃▂▂▂▃▃▃▃▅▄▄▁▁▄▂▅▁▃▂▃▁▃▃▃█▂▁▂▁▄▂▃▂▂▃▃▂▃▁▁</td></tr><tr><td>train/kl_loss</td><td>█▅▆▆▇▇▅▄▅▅▄▅▆▆▃▅▃▄▅▃▂▄▅▂▁▂▂▃▂▄▁▄▂▂▄▃▃▁▂▃</td></tr><tr><td>train/kl_div_mixture</td><td>▃▃▅▄▁▃▃▄▃▃▃▅▅▂▅▅▅▅▄▅▆▅▄▃▅█▅▆▆▂▆▄▅▃▄▆▄▄▃▄</td></tr><tr><td>train/kl_div_components</td><td>█▅▆▆▇▇▅▄▅▆▄▅▆▆▃▅▃▃▅▃▂▃▅▂▁▂▂▃▂▄▁▄▂▂▄▃▃▁▂▃</td></tr><tr><td>train/main_loss</td><td>▃▂▂▂▃▄▃▃▅▄▄▂▂▅▂▆▁▃▂▃▁▃▃▃█▂▁▂▁▄▁▃▂▂▃▃▂▃▁▁</td></tr><tr><td>train/anchor_pos_distance_kl</td><td>▃▁▄▆▆▅▄▄▄▄▃▄▅▅▃▄▅▅▆▄▆▄▆▄▂▃▄▆▇▆▆▅▅▆▇▇▇▅█▆</td></tr><tr><td>train/anchor_neg_distance_kl</td><td>▂▁▃▆▅▅▂▄▄▃▂▅▄▄▃▄▅▃▃▃▃▃▅▄▂▃▆▅▅▅▅▄█▄▇▅▄▅▇▆</td></tr><tr><td>train/correct_triplet_pct_kl</td><td>▃▁▁█▃████████████▅█████▆████████████▅███</td></tr><tr><td>train/triplet_loss_kl</td><td>█▄▆▁▅▁▁▁▁▁▁▁▁▁▁▁▁▂▁▁▁▁▁▂▁▁▁▁▁▁▁▁▁▁▁▁▂▁▁▁</td></tr><tr><td>valid/latent mu mean</td><td>█▅▇▇▇▇▆▆▅▄▄▄▄▃▃▃▃▃▂▂▂▂▂▂▁▂▂▂▁▂▁▂▁▁▁▁▁▁▁▁</td></tr><tr><td>valid/latent mu std</td><td>█▅▇██▇▇▆▅▅▅▅▄▄▃▃▃▃▃▃▂▂▂▂▂▂▂▂▁▂▂▁▁▁▁▁▁▁▁▁</td></tr><tr><td>valid/latent dist std</td><td>▁▄▁▂▃▄▄▄▅▅▆▆▆▅▅▆▆▅▆▅▅▅▆▅██▆▆▆▆▆▆▆▆▆▅▆▆▅▅</td></tr><tr><td>valid/loss</td><td>▁▁▃▃▃▄▅▅▄▅▆▆▅▅▅▇▅▆▇▆▄▆▆▆▆▄▄▅▆▆▅▆▅▇█▅▆▅▅▆</td></tr><tr><td>valid/x_recon_loss</td><td>▅▄▂▁▃▅▆▆▅▆▆▆▆▆▇▆▆▆▅▇▆▅▅▅█▆▅▄▅▄▄▄▄▄▅▃▄▄▃▄</td></tr><tr><td>valid/kl_loss</td><td>▅▅██▆▆▆▅▄▄▅▄▄▄▄▃▃▃▃▃▃▃▃▃▁▁▃▃▂▃▃▃▂▂▂▃▃▂▃▃</td></tr><tr><td>valid/kl_div_mixture</td><td>▁▂▂▂▂▂▃▃▇▇██████▇▇▇▇▇▇▇▆▆▆▆▆▅▅▅▅▄▅▅▅▄▄▄▄</td></tr><tr><td>valid/kl_div_components</td><td>▅▅██▆▆▆▅▄▄▅▄▃▄▄▃▃▃▃▃▃▃▃▃▁▁▃▃▂▃▃▃▂▂▂▃▃▂▃▃</td></tr><tr><td>valid/main_loss</td><td>▆▃▂▁▃▅▇▇▅▆▆▆▆▆█▆▆▅▄▇▅▅▅▅█▅▄▃▄▃▂▃▂▂▄▂▃▂▁▃</td></tr><tr><td>valid/anchor_pos_distance_kl</td><td>▁▃▆▇▆▆▆▆▆▆▇▆▆▆▆▇▆▇▇▆▆▇▇▇▅▅▆▇▇▇▇█▇████▇██</td></tr><tr><td>valid/anchor_neg_distance_kl</td><td>▁▃▇█▇▇▆▆▆▆▆▆▅▆▆▆▅▅▆▇▅▇▆▇▄▄▅▆▆▇▆▆▆▆▇█▇▇██</td></tr><tr><td>valid/correct_triplet_pct_kl</td><td>█▇▆▅▆▆▅▅▅▅▂▄▄▄▅▃▄▂▂▃▄▃▂▄▄▅▄▁▃▁▄▂▃▁▁▄▃▃▅▃</td></tr><tr><td>valid/triplet_loss_kl</td><td>▁▂▄▅▄▄▄▄▄▅▅▆▅▄▄▆▅▆▇▅▄▆▆▅▅▄▅▆▆▆▆▆▅▇█▆▆▆▆▆</td></tr><tr><td>epoch</td><td>▁▁▁▁▂▂▂▂▂▃▃▃▃▃▃▄▄▄▄▄▅▅▅▅▅▅▆▆▆▆▆▆▇▇▇▇▇███</td></tr><tr><td>NMI</td><td>▁▅▅▅▅▆▆▆▆▆▇▇▇▇▇▇▇▇▇▇▇▇███▇██████████████</td></tr><tr><td>ACC</td><td>▁▃▃▃▃▄▄▄▅▆▆▆▇▇▇▇▇▇▇▇▇▇▇▇▇▇▇█████████████</td></tr><tr><td>ACC2</td><td>▁▃▄▄▄▄▅▅▆▇▇▇████████████████████████████</td></tr><tr><td>ARI</td><td>▁▄▅▅▅▅▅▅▆▆▇▇▇▇▇▇▇▇▇▇▇▇▇▇█▇██████████████</td></tr><tr><td>valid_NMI</td><td>▁▅▅▅▅▅▅▅▆▆▆▇▇▇▇▇▇▇▇▇▇▇█▇▇▇▇▇▇▇██████████</td></tr><tr><td>valid_ACC</td><td>▁▂▃▃▃▃▄▄▅▅▆▆▆▆▇▇▇▇▇▇▇▇▇▇▇▇▇▇▇███████████</td></tr><tr><td>valid_ACC2</td><td>▁▃▄▄▄▄▄▅▆▇▇▇████████████████████████████</td></tr><tr><td>valid_ARI</td><td>▁▄▅▅▅▅▅▅▆▆▆▇▇▇▇▇▇▇▇▇▇▇▇▇█▇▇▇▇███████████</td></tr></table><br/>",
      "text/plain": "<IPython.core.display.HTML object>"
     },
     "metadata": {},
     "output_type": "display_data"
    },
    {
     "data": {
      "text/html": "Synced 5 W&B file(s), 0 media file(s), 0 artifact file(s) and 0 other file(s)",
      "text/plain": "<IPython.core.display.HTML object>"
     },
     "metadata": {},
     "output_type": "display_data"
    },
    {
     "data": {
      "text/html": "\n                    <br/>Synced <strong style=\"color:#cdcd00\">spiced-flan-1015</strong>: <a href=\"https://wandb.ai/shukistern/VaDE%20Triplets/runs/39uoufpp\" target=\"_blank\">https://wandb.ai/shukistern/VaDE%20Triplets/runs/39uoufpp</a><br/>\n                ",
      "text/plain": "<IPython.core.display.HTML object>"
     },
     "metadata": {},
     "output_type": "display_data"
    },
    {
     "name": "stderr",
     "output_type": "stream",
     "text": [
      "\u001b[34m\u001b[1mwandb\u001b[0m: wandb version 0.10.22 is available!  To upgrade, please run:\n",
      "\u001b[34m\u001b[1mwandb\u001b[0m:  $ pip install wandb --upgrade\n"
     ]
    },
    {
     "data": {
      "text/html": "\n                Tracking run with wandb version 0.10.17<br/>\n                Syncing run <strong style=\"color:#cdcd00\">cheese-brulee-1018</strong> to <a href=\"https://wandb.ai\" target=\"_blank\">Weights & Biases</a> <a href=\"https://docs.wandb.com/integrations/jupyter.html\" target=\"_blank\">(Documentation)</a>.<br/>\n                Project page: <a href=\"https://wandb.ai/shukistern/VaDE%20Triplets\" target=\"_blank\">https://wandb.ai/shukistern/VaDE%20Triplets</a><br/>\n                Run page: <a href=\"https://wandb.ai/shukistern/VaDE%20Triplets/runs/1x250016\" target=\"_blank\">https://wandb.ai/shukistern/VaDE%20Triplets/runs/1x250016</a><br/>\n                Run data is saved locally in <code>/home/shuki/projects/my_VaDE/wandb/run-20210314_170544-1x250016</code><br/><br/>\n            ",
      "text/plain": "<IPython.core.display.HTML object>"
     },
     "metadata": {},
     "output_type": "display_data"
    },
    {
     "name": "stderr",
     "output_type": "stream",
     "text": [
      "GPU available: True, used: True\n",
      "TPU available: None, using: 0 TPU cores\n",
      "LOCAL_RANK: 0 - CUDA_VISIBLE_DEVICES: [0]\n",
      "\n",
      "  | Name  | Type | Params\n",
      "-------------------------------\n",
      "0 | model | VaDE | 3.5 M \n",
      "-------------------------------\n",
      "3.5 M     Trainable params\n",
      "0         Non-trainable params\n",
      "3.5 M     Total params\n"
     ]
    },
    {
     "data": {
      "application/vnd.jupyter.widget-view+json": {
       "model_id": "281064265e534247916fb0fcc860e992",
       "version_major": 2,
       "version_minor": 0
      },
      "text/plain": "Validation sanity check: 0it [00:00, ?it/s]"
     },
     "metadata": {},
     "output_type": "display_data"
    },
    {
     "data": {
      "application/vnd.jupyter.widget-view+json": {
       "model_id": "a272397265f44792ae68e98aebe61be2",
       "version_major": 2,
       "version_minor": 0
      },
      "text/plain": "Training: 0it [00:00, ?it/s]"
     },
     "metadata": {},
     "output_type": "display_data"
    },
    {
     "data": {
      "application/vnd.jupyter.widget-view+json": {
       "model_id": "7fcfee2f152b41d684862e87a345a175",
       "version_major": 2,
       "version_minor": 0
      },
      "text/plain": "Validating: 0it [00:00, ?it/s]"
     },
     "metadata": {},
     "output_type": "display_data"
    },
    {
     "name": "stderr",
     "output_type": "stream",
     "text": [
      "/home/shuki/anaconda3/envs/torch/lib/python3.8/site-packages/torch/optim/lr_scheduler.py:216: UserWarning: Please also save or load the state of the optimizer when saving or loading the scheduler.\n",
      "  warnings.warn(SAVE_STATE_WARNING, UserWarning)\n"
     ]
    },
    {
     "data": {
      "application/vnd.jupyter.widget-view+json": {
       "model_id": "2712b8125fb04ff0965aa212758bf460",
       "version_major": 2,
       "version_minor": 0
      },
      "text/plain": "Validating: 0it [00:00, ?it/s]"
     },
     "metadata": {},
     "output_type": "display_data"
    },
    {
     "name": "stderr",
     "output_type": "stream",
     "text": [
      "/home/shuki/anaconda3/envs/torch/lib/python3.8/site-packages/torch/optim/lr_scheduler.py:216: UserWarning: Please also save or load the state of the optimizer when saving or loading the scheduler.\n",
      "  warnings.warn(SAVE_STATE_WARNING, UserWarning)\n"
     ]
    },
    {
     "data": {
      "application/vnd.jupyter.widget-view+json": {
       "model_id": "b6d29f7816ec472ea6159fe6722575f0",
       "version_major": 2,
       "version_minor": 0
      },
      "text/plain": "Validating: 0it [00:00, ?it/s]"
     },
     "metadata": {},
     "output_type": "display_data"
    },
    {
     "name": "stderr",
     "output_type": "stream",
     "text": [
      "/home/shuki/anaconda3/envs/torch/lib/python3.8/site-packages/torch/optim/lr_scheduler.py:216: UserWarning: Please also save or load the state of the optimizer when saving or loading the scheduler.\n",
      "  warnings.warn(SAVE_STATE_WARNING, UserWarning)\n"
     ]
    },
    {
     "data": {
      "application/vnd.jupyter.widget-view+json": {
       "model_id": "1072099928e747b28aa7eaefdf5cb73a",
       "version_major": 2,
       "version_minor": 0
      },
      "text/plain": "Validating: 0it [00:00, ?it/s]"
     },
     "metadata": {},
     "output_type": "display_data"
    },
    {
     "name": "stderr",
     "output_type": "stream",
     "text": [
      "/home/shuki/anaconda3/envs/torch/lib/python3.8/site-packages/torch/optim/lr_scheduler.py:216: UserWarning: Please also save or load the state of the optimizer when saving or loading the scheduler.\n",
      "  warnings.warn(SAVE_STATE_WARNING, UserWarning)\n"
     ]
    },
    {
     "data": {
      "application/vnd.jupyter.widget-view+json": {
       "model_id": "16cb78513e3d451db17a63d58c51cbf1",
       "version_major": 2,
       "version_minor": 0
      },
      "text/plain": "Validating: 0it [00:00, ?it/s]"
     },
     "metadata": {},
     "output_type": "display_data"
    },
    {
     "name": "stderr",
     "output_type": "stream",
     "text": [
      "/home/shuki/anaconda3/envs/torch/lib/python3.8/site-packages/torch/optim/lr_scheduler.py:216: UserWarning: Please also save or load the state of the optimizer when saving or loading the scheduler.\n",
      "  warnings.warn(SAVE_STATE_WARNING, UserWarning)\n"
     ]
    },
    {
     "data": {
      "application/vnd.jupyter.widget-view+json": {
       "model_id": "307cc8360c014ef79159909e6c553889",
       "version_major": 2,
       "version_minor": 0
      },
      "text/plain": "Validating: 0it [00:00, ?it/s]"
     },
     "metadata": {},
     "output_type": "display_data"
    },
    {
     "name": "stderr",
     "output_type": "stream",
     "text": [
      "/home/shuki/anaconda3/envs/torch/lib/python3.8/site-packages/torch/optim/lr_scheduler.py:216: UserWarning: Please also save or load the state of the optimizer when saving or loading the scheduler.\n",
      "  warnings.warn(SAVE_STATE_WARNING, UserWarning)\n"
     ]
    },
    {
     "data": {
      "application/vnd.jupyter.widget-view+json": {
       "model_id": "05913bf298af41c99b6f1cbfb1eae4ed",
       "version_major": 2,
       "version_minor": 0
      },
      "text/plain": "Validating: 0it [00:00, ?it/s]"
     },
     "metadata": {},
     "output_type": "display_data"
    },
    {
     "name": "stderr",
     "output_type": "stream",
     "text": [
      "/home/shuki/anaconda3/envs/torch/lib/python3.8/site-packages/torch/optim/lr_scheduler.py:216: UserWarning: Please also save or load the state of the optimizer when saving or loading the scheduler.\n",
      "  warnings.warn(SAVE_STATE_WARNING, UserWarning)\n"
     ]
    },
    {
     "data": {
      "application/vnd.jupyter.widget-view+json": {
       "model_id": "9c2287a6e7cc4f6fbb77fb9092e3ca51",
       "version_major": 2,
       "version_minor": 0
      },
      "text/plain": "Validating: 0it [00:00, ?it/s]"
     },
     "metadata": {},
     "output_type": "display_data"
    },
    {
     "name": "stderr",
     "output_type": "stream",
     "text": [
      "/home/shuki/anaconda3/envs/torch/lib/python3.8/site-packages/torch/optim/lr_scheduler.py:216: UserWarning: Please also save or load the state of the optimizer when saving or loading the scheduler.\n",
      "  warnings.warn(SAVE_STATE_WARNING, UserWarning)\n"
     ]
    },
    {
     "data": {
      "application/vnd.jupyter.widget-view+json": {
       "model_id": "fe0373e40ccf4643a7afa21a844bb67d",
       "version_major": 2,
       "version_minor": 0
      },
      "text/plain": "Validating: 0it [00:00, ?it/s]"
     },
     "metadata": {},
     "output_type": "display_data"
    },
    {
     "name": "stderr",
     "output_type": "stream",
     "text": [
      "/home/shuki/anaconda3/envs/torch/lib/python3.8/site-packages/torch/optim/lr_scheduler.py:216: UserWarning: Please also save or load the state of the optimizer when saving or loading the scheduler.\n",
      "  warnings.warn(SAVE_STATE_WARNING, UserWarning)\n"
     ]
    },
    {
     "data": {
      "application/vnd.jupyter.widget-view+json": {
       "model_id": "a9eb62ca20d041f2ae0695640478fea6",
       "version_major": 2,
       "version_minor": 0
      },
      "text/plain": "Validating: 0it [00:00, ?it/s]"
     },
     "metadata": {},
     "output_type": "display_data"
    },
    {
     "name": "stderr",
     "output_type": "stream",
     "text": [
      "/home/shuki/anaconda3/envs/torch/lib/python3.8/site-packages/torch/optim/lr_scheduler.py:216: UserWarning: Please also save or load the state of the optimizer when saving or loading the scheduler.\n",
      "  warnings.warn(SAVE_STATE_WARNING, UserWarning)\n"
     ]
    },
    {
     "data": {
      "application/vnd.jupyter.widget-view+json": {
       "model_id": "8f7b270935ae4241bdd0092a6be09644",
       "version_major": 2,
       "version_minor": 0
      },
      "text/plain": "Validating: 0it [00:00, ?it/s]"
     },
     "metadata": {},
     "output_type": "display_data"
    },
    {
     "name": "stderr",
     "output_type": "stream",
     "text": [
      "/home/shuki/anaconda3/envs/torch/lib/python3.8/site-packages/torch/optim/lr_scheduler.py:216: UserWarning: Please also save or load the state of the optimizer when saving or loading the scheduler.\n",
      "  warnings.warn(SAVE_STATE_WARNING, UserWarning)\n"
     ]
    },
    {
     "data": {
      "application/vnd.jupyter.widget-view+json": {
       "model_id": "cdcc8fd2551c43cab4981451a3103d10",
       "version_major": 2,
       "version_minor": 0
      },
      "text/plain": "Validating: 0it [00:00, ?it/s]"
     },
     "metadata": {},
     "output_type": "display_data"
    },
    {
     "name": "stderr",
     "output_type": "stream",
     "text": [
      "/home/shuki/anaconda3/envs/torch/lib/python3.8/site-packages/torch/optim/lr_scheduler.py:216: UserWarning: Please also save or load the state of the optimizer when saving or loading the scheduler.\n",
      "  warnings.warn(SAVE_STATE_WARNING, UserWarning)\n"
     ]
    },
    {
     "data": {
      "application/vnd.jupyter.widget-view+json": {
       "model_id": "69bd7174f4754fdaa9f62122098a4ad9",
       "version_major": 2,
       "version_minor": 0
      },
      "text/plain": "Validating: 0it [00:00, ?it/s]"
     },
     "metadata": {},
     "output_type": "display_data"
    },
    {
     "name": "stderr",
     "output_type": "stream",
     "text": [
      "/home/shuki/anaconda3/envs/torch/lib/python3.8/site-packages/torch/optim/lr_scheduler.py:216: UserWarning: Please also save or load the state of the optimizer when saving or loading the scheduler.\n",
      "  warnings.warn(SAVE_STATE_WARNING, UserWarning)\n"
     ]
    },
    {
     "data": {
      "application/vnd.jupyter.widget-view+json": {
       "model_id": "1d604db70acb4258a85fb43a55274d9d",
       "version_major": 2,
       "version_minor": 0
      },
      "text/plain": "Validating: 0it [00:00, ?it/s]"
     },
     "metadata": {},
     "output_type": "display_data"
    },
    {
     "name": "stderr",
     "output_type": "stream",
     "text": [
      "/home/shuki/anaconda3/envs/torch/lib/python3.8/site-packages/torch/optim/lr_scheduler.py:216: UserWarning: Please also save or load the state of the optimizer when saving or loading the scheduler.\n",
      "  warnings.warn(SAVE_STATE_WARNING, UserWarning)\n"
     ]
    },
    {
     "data": {
      "application/vnd.jupyter.widget-view+json": {
       "model_id": "66029ab131a94010b25478c9e48fdf1e",
       "version_major": 2,
       "version_minor": 0
      },
      "text/plain": "Validating: 0it [00:00, ?it/s]"
     },
     "metadata": {},
     "output_type": "display_data"
    },
    {
     "name": "stderr",
     "output_type": "stream",
     "text": [
      "/home/shuki/anaconda3/envs/torch/lib/python3.8/site-packages/torch/optim/lr_scheduler.py:216: UserWarning: Please also save or load the state of the optimizer when saving or loading the scheduler.\n",
      "  warnings.warn(SAVE_STATE_WARNING, UserWarning)\n"
     ]
    },
    {
     "data": {
      "application/vnd.jupyter.widget-view+json": {
       "model_id": "f6f3f77c9e12428fb18677f4ebfb03da",
       "version_major": 2,
       "version_minor": 0
      },
      "text/plain": "Validating: 0it [00:00, ?it/s]"
     },
     "metadata": {},
     "output_type": "display_data"
    },
    {
     "name": "stderr",
     "output_type": "stream",
     "text": [
      "/home/shuki/anaconda3/envs/torch/lib/python3.8/site-packages/torch/optim/lr_scheduler.py:216: UserWarning: Please also save or load the state of the optimizer when saving or loading the scheduler.\n",
      "  warnings.warn(SAVE_STATE_WARNING, UserWarning)\n"
     ]
    },
    {
     "data": {
      "application/vnd.jupyter.widget-view+json": {
       "model_id": "f51caffa15754c6d84e4f51d52c7c9ad",
       "version_major": 2,
       "version_minor": 0
      },
      "text/plain": "Validating: 0it [00:00, ?it/s]"
     },
     "metadata": {},
     "output_type": "display_data"
    },
    {
     "name": "stderr",
     "output_type": "stream",
     "text": [
      "/home/shuki/anaconda3/envs/torch/lib/python3.8/site-packages/torch/optim/lr_scheduler.py:216: UserWarning: Please also save or load the state of the optimizer when saving or loading the scheduler.\n",
      "  warnings.warn(SAVE_STATE_WARNING, UserWarning)\n"
     ]
    },
    {
     "data": {
      "application/vnd.jupyter.widget-view+json": {
       "model_id": "c6411c33f177494b8752ea782997e9b5",
       "version_major": 2,
       "version_minor": 0
      },
      "text/plain": "Validating: 0it [00:00, ?it/s]"
     },
     "metadata": {},
     "output_type": "display_data"
    },
    {
     "name": "stderr",
     "output_type": "stream",
     "text": [
      "/home/shuki/anaconda3/envs/torch/lib/python3.8/site-packages/torch/optim/lr_scheduler.py:216: UserWarning: Please also save or load the state of the optimizer when saving or loading the scheduler.\n",
      "  warnings.warn(SAVE_STATE_WARNING, UserWarning)\n"
     ]
    },
    {
     "data": {
      "application/vnd.jupyter.widget-view+json": {
       "model_id": "cfd364d4d1e84192b0b60cf641972f3c",
       "version_major": 2,
       "version_minor": 0
      },
      "text/plain": "Validating: 0it [00:00, ?it/s]"
     },
     "metadata": {},
     "output_type": "display_data"
    },
    {
     "name": "stderr",
     "output_type": "stream",
     "text": [
      "/home/shuki/anaconda3/envs/torch/lib/python3.8/site-packages/torch/optim/lr_scheduler.py:216: UserWarning: Please also save or load the state of the optimizer when saving or loading the scheduler.\n",
      "  warnings.warn(SAVE_STATE_WARNING, UserWarning)\n"
     ]
    },
    {
     "data": {
      "application/vnd.jupyter.widget-view+json": {
       "model_id": "898261f94d88486fb1446615eefdaff7",
       "version_major": 2,
       "version_minor": 0
      },
      "text/plain": "Validating: 0it [00:00, ?it/s]"
     },
     "metadata": {},
     "output_type": "display_data"
    },
    {
     "name": "stderr",
     "output_type": "stream",
     "text": [
      "/home/shuki/anaconda3/envs/torch/lib/python3.8/site-packages/torch/optim/lr_scheduler.py:216: UserWarning: Please also save or load the state of the optimizer when saving or loading the scheduler.\n",
      "  warnings.warn(SAVE_STATE_WARNING, UserWarning)\n"
     ]
    },
    {
     "data": {
      "application/vnd.jupyter.widget-view+json": {
       "model_id": "2873d09c27dd4f81aecdb9064b3bc524",
       "version_major": 2,
       "version_minor": 0
      },
      "text/plain": "Validating: 0it [00:00, ?it/s]"
     },
     "metadata": {},
     "output_type": "display_data"
    },
    {
     "name": "stderr",
     "output_type": "stream",
     "text": [
      "/home/shuki/anaconda3/envs/torch/lib/python3.8/site-packages/torch/optim/lr_scheduler.py:216: UserWarning: Please also save or load the state of the optimizer when saving or loading the scheduler.\n",
      "  warnings.warn(SAVE_STATE_WARNING, UserWarning)\n"
     ]
    },
    {
     "data": {
      "application/vnd.jupyter.widget-view+json": {
       "model_id": "cf8828ad7fae49a390649aac73ab180d",
       "version_major": 2,
       "version_minor": 0
      },
      "text/plain": "Validating: 0it [00:00, ?it/s]"
     },
     "metadata": {},
     "output_type": "display_data"
    },
    {
     "name": "stderr",
     "output_type": "stream",
     "text": [
      "/home/shuki/anaconda3/envs/torch/lib/python3.8/site-packages/torch/optim/lr_scheduler.py:216: UserWarning: Please also save or load the state of the optimizer when saving or loading the scheduler.\n",
      "  warnings.warn(SAVE_STATE_WARNING, UserWarning)\n"
     ]
    },
    {
     "data": {
      "application/vnd.jupyter.widget-view+json": {
       "model_id": "7f782c83c9a443c2b0b9757a01b2d965",
       "version_major": 2,
       "version_minor": 0
      },
      "text/plain": "Validating: 0it [00:00, ?it/s]"
     },
     "metadata": {},
     "output_type": "display_data"
    },
    {
     "name": "stderr",
     "output_type": "stream",
     "text": [
      "/home/shuki/anaconda3/envs/torch/lib/python3.8/site-packages/torch/optim/lr_scheduler.py:216: UserWarning: Please also save or load the state of the optimizer when saving or loading the scheduler.\n",
      "  warnings.warn(SAVE_STATE_WARNING, UserWarning)\n"
     ]
    },
    {
     "data": {
      "application/vnd.jupyter.widget-view+json": {
       "model_id": "08d431166a784876a46712e1f042f2eb",
       "version_major": 2,
       "version_minor": 0
      },
      "text/plain": "Validating: 0it [00:00, ?it/s]"
     },
     "metadata": {},
     "output_type": "display_data"
    },
    {
     "name": "stderr",
     "output_type": "stream",
     "text": [
      "/home/shuki/anaconda3/envs/torch/lib/python3.8/site-packages/torch/optim/lr_scheduler.py:216: UserWarning: Please also save or load the state of the optimizer when saving or loading the scheduler.\n",
      "  warnings.warn(SAVE_STATE_WARNING, UserWarning)\n"
     ]
    },
    {
     "data": {
      "application/vnd.jupyter.widget-view+json": {
       "model_id": "1d1ba12c70c441398603933ce5f7afab",
       "version_major": 2,
       "version_minor": 0
      },
      "text/plain": "Validating: 0it [00:00, ?it/s]"
     },
     "metadata": {},
     "output_type": "display_data"
    },
    {
     "name": "stderr",
     "output_type": "stream",
     "text": [
      "/home/shuki/anaconda3/envs/torch/lib/python3.8/site-packages/torch/optim/lr_scheduler.py:216: UserWarning: Please also save or load the state of the optimizer when saving or loading the scheduler.\n",
      "  warnings.warn(SAVE_STATE_WARNING, UserWarning)\n"
     ]
    },
    {
     "data": {
      "application/vnd.jupyter.widget-view+json": {
       "model_id": "292c96a2f9a14a57831c02475cc5cfe3",
       "version_major": 2,
       "version_minor": 0
      },
      "text/plain": "Validating: 0it [00:00, ?it/s]"
     },
     "metadata": {},
     "output_type": "display_data"
    },
    {
     "name": "stderr",
     "output_type": "stream",
     "text": [
      "/home/shuki/anaconda3/envs/torch/lib/python3.8/site-packages/torch/optim/lr_scheduler.py:216: UserWarning: Please also save or load the state of the optimizer when saving or loading the scheduler.\n",
      "  warnings.warn(SAVE_STATE_WARNING, UserWarning)\n"
     ]
    },
    {
     "data": {
      "application/vnd.jupyter.widget-view+json": {
       "model_id": "e50e4e81d3384b4297fdc3da02520df5",
       "version_major": 2,
       "version_minor": 0
      },
      "text/plain": "Validating: 0it [00:00, ?it/s]"
     },
     "metadata": {},
     "output_type": "display_data"
    },
    {
     "name": "stderr",
     "output_type": "stream",
     "text": [
      "/home/shuki/anaconda3/envs/torch/lib/python3.8/site-packages/torch/optim/lr_scheduler.py:216: UserWarning: Please also save or load the state of the optimizer when saving or loading the scheduler.\n",
      "  warnings.warn(SAVE_STATE_WARNING, UserWarning)\n"
     ]
    },
    {
     "data": {
      "application/vnd.jupyter.widget-view+json": {
       "model_id": "51adda773baa4ab6a64d3aa06b769a5d",
       "version_major": 2,
       "version_minor": 0
      },
      "text/plain": "Validating: 0it [00:00, ?it/s]"
     },
     "metadata": {},
     "output_type": "display_data"
    },
    {
     "name": "stderr",
     "output_type": "stream",
     "text": [
      "/home/shuki/anaconda3/envs/torch/lib/python3.8/site-packages/torch/optim/lr_scheduler.py:216: UserWarning: Please also save or load the state of the optimizer when saving or loading the scheduler.\n",
      "  warnings.warn(SAVE_STATE_WARNING, UserWarning)\n"
     ]
    },
    {
     "data": {
      "application/vnd.jupyter.widget-view+json": {
       "model_id": "a1c056cc375e4fc38a978fcc5cb434d5",
       "version_major": 2,
       "version_minor": 0
      },
      "text/plain": "Validating: 0it [00:00, ?it/s]"
     },
     "metadata": {},
     "output_type": "display_data"
    },
    {
     "name": "stderr",
     "output_type": "stream",
     "text": [
      "/home/shuki/anaconda3/envs/torch/lib/python3.8/site-packages/torch/optim/lr_scheduler.py:216: UserWarning: Please also save or load the state of the optimizer when saving or loading the scheduler.\n",
      "  warnings.warn(SAVE_STATE_WARNING, UserWarning)\n"
     ]
    },
    {
     "data": {
      "application/vnd.jupyter.widget-view+json": {
       "model_id": "1a2c8e4e77a54269a69d2aa26fdf6c26",
       "version_major": 2,
       "version_minor": 0
      },
      "text/plain": "Validating: 0it [00:00, ?it/s]"
     },
     "metadata": {},
     "output_type": "display_data"
    },
    {
     "name": "stderr",
     "output_type": "stream",
     "text": [
      "/home/shuki/anaconda3/envs/torch/lib/python3.8/site-packages/torch/optim/lr_scheduler.py:216: UserWarning: Please also save or load the state of the optimizer when saving or loading the scheduler.\n",
      "  warnings.warn(SAVE_STATE_WARNING, UserWarning)\n"
     ]
    },
    {
     "data": {
      "application/vnd.jupyter.widget-view+json": {
       "model_id": "a0b1edb5c57d46b287ed907c31c2d13e",
       "version_major": 2,
       "version_minor": 0
      },
      "text/plain": "Validating: 0it [00:00, ?it/s]"
     },
     "metadata": {},
     "output_type": "display_data"
    },
    {
     "name": "stderr",
     "output_type": "stream",
     "text": [
      "/home/shuki/anaconda3/envs/torch/lib/python3.8/site-packages/torch/optim/lr_scheduler.py:216: UserWarning: Please also save or load the state of the optimizer when saving or loading the scheduler.\n",
      "  warnings.warn(SAVE_STATE_WARNING, UserWarning)\n"
     ]
    },
    {
     "data": {
      "application/vnd.jupyter.widget-view+json": {
       "model_id": "2e95fc12fc7a40c3bfced458d6927c1f",
       "version_major": 2,
       "version_minor": 0
      },
      "text/plain": "Validating: 0it [00:00, ?it/s]"
     },
     "metadata": {},
     "output_type": "display_data"
    },
    {
     "name": "stderr",
     "output_type": "stream",
     "text": [
      "/home/shuki/anaconda3/envs/torch/lib/python3.8/site-packages/torch/optim/lr_scheduler.py:216: UserWarning: Please also save or load the state of the optimizer when saving or loading the scheduler.\n",
      "  warnings.warn(SAVE_STATE_WARNING, UserWarning)\n"
     ]
    },
    {
     "data": {
      "application/vnd.jupyter.widget-view+json": {
       "model_id": "7b7e130364dc4d0a8bf3388dd0879d36",
       "version_major": 2,
       "version_minor": 0
      },
      "text/plain": "Validating: 0it [00:00, ?it/s]"
     },
     "metadata": {},
     "output_type": "display_data"
    },
    {
     "name": "stderr",
     "output_type": "stream",
     "text": [
      "/home/shuki/anaconda3/envs/torch/lib/python3.8/site-packages/torch/optim/lr_scheduler.py:216: UserWarning: Please also save or load the state of the optimizer when saving or loading the scheduler.\n",
      "  warnings.warn(SAVE_STATE_WARNING, UserWarning)\n"
     ]
    },
    {
     "data": {
      "application/vnd.jupyter.widget-view+json": {
       "model_id": "e50e49e2ceb64f97879b35192b5a8f0e",
       "version_major": 2,
       "version_minor": 0
      },
      "text/plain": "Validating: 0it [00:00, ?it/s]"
     },
     "metadata": {},
     "output_type": "display_data"
    },
    {
     "name": "stderr",
     "output_type": "stream",
     "text": [
      "/home/shuki/anaconda3/envs/torch/lib/python3.8/site-packages/torch/optim/lr_scheduler.py:216: UserWarning: Please also save or load the state of the optimizer when saving or loading the scheduler.\n",
      "  warnings.warn(SAVE_STATE_WARNING, UserWarning)\n"
     ]
    },
    {
     "data": {
      "application/vnd.jupyter.widget-view+json": {
       "model_id": "5651746cb18b4592a0b9a3a39ed2b103",
       "version_major": 2,
       "version_minor": 0
      },
      "text/plain": "Validating: 0it [00:00, ?it/s]"
     },
     "metadata": {},
     "output_type": "display_data"
    },
    {
     "name": "stderr",
     "output_type": "stream",
     "text": [
      "/home/shuki/anaconda3/envs/torch/lib/python3.8/site-packages/torch/optim/lr_scheduler.py:216: UserWarning: Please also save or load the state of the optimizer when saving or loading the scheduler.\n",
      "  warnings.warn(SAVE_STATE_WARNING, UserWarning)\n"
     ]
    },
    {
     "data": {
      "application/vnd.jupyter.widget-view+json": {
       "model_id": "dce75a86b0d242f0b0087b8909c53064",
       "version_major": 2,
       "version_minor": 0
      },
      "text/plain": "Validating: 0it [00:00, ?it/s]"
     },
     "metadata": {},
     "output_type": "display_data"
    },
    {
     "name": "stderr",
     "output_type": "stream",
     "text": [
      "/home/shuki/anaconda3/envs/torch/lib/python3.8/site-packages/torch/optim/lr_scheduler.py:216: UserWarning: Please also save or load the state of the optimizer when saving or loading the scheduler.\n",
      "  warnings.warn(SAVE_STATE_WARNING, UserWarning)\n"
     ]
    },
    {
     "data": {
      "application/vnd.jupyter.widget-view+json": {
       "model_id": "ada266f3f28948ac81ebf732e295b323",
       "version_major": 2,
       "version_minor": 0
      },
      "text/plain": "Validating: 0it [00:00, ?it/s]"
     },
     "metadata": {},
     "output_type": "display_data"
    },
    {
     "name": "stderr",
     "output_type": "stream",
     "text": [
      "/home/shuki/anaconda3/envs/torch/lib/python3.8/site-packages/torch/optim/lr_scheduler.py:216: UserWarning: Please also save or load the state of the optimizer when saving or loading the scheduler.\n",
      "  warnings.warn(SAVE_STATE_WARNING, UserWarning)\n"
     ]
    },
    {
     "data": {
      "application/vnd.jupyter.widget-view+json": {
       "model_id": "ebd606f1559f4dc1856744f9a24dbb70",
       "version_major": 2,
       "version_minor": 0
      },
      "text/plain": "Validating: 0it [00:00, ?it/s]"
     },
     "metadata": {},
     "output_type": "display_data"
    },
    {
     "name": "stderr",
     "output_type": "stream",
     "text": [
      "/home/shuki/anaconda3/envs/torch/lib/python3.8/site-packages/torch/optim/lr_scheduler.py:216: UserWarning: Please also save or load the state of the optimizer when saving or loading the scheduler.\n",
      "  warnings.warn(SAVE_STATE_WARNING, UserWarning)\n"
     ]
    },
    {
     "data": {
      "application/vnd.jupyter.widget-view+json": {
       "model_id": "6f837728d8cf467bb1ea09d911b4632a",
       "version_major": 2,
       "version_minor": 0
      },
      "text/plain": "Validating: 0it [00:00, ?it/s]"
     },
     "metadata": {},
     "output_type": "display_data"
    },
    {
     "name": "stderr",
     "output_type": "stream",
     "text": [
      "/home/shuki/anaconda3/envs/torch/lib/python3.8/site-packages/torch/optim/lr_scheduler.py:216: UserWarning: Please also save or load the state of the optimizer when saving or loading the scheduler.\n",
      "  warnings.warn(SAVE_STATE_WARNING, UserWarning)\n"
     ]
    },
    {
     "data": {
      "application/vnd.jupyter.widget-view+json": {
       "model_id": "9d1d5c614d76461a838a3a50663f24d3",
       "version_major": 2,
       "version_minor": 0
      },
      "text/plain": "Validating: 0it [00:00, ?it/s]"
     },
     "metadata": {},
     "output_type": "display_data"
    },
    {
     "name": "stderr",
     "output_type": "stream",
     "text": [
      "/home/shuki/anaconda3/envs/torch/lib/python3.8/site-packages/torch/optim/lr_scheduler.py:216: UserWarning: Please also save or load the state of the optimizer when saving or loading the scheduler.\n",
      "  warnings.warn(SAVE_STATE_WARNING, UserWarning)\n"
     ]
    },
    {
     "data": {
      "application/vnd.jupyter.widget-view+json": {
       "model_id": "8001a531d8484352960d8f68e8a193cf",
       "version_major": 2,
       "version_minor": 0
      },
      "text/plain": "Validating: 0it [00:00, ?it/s]"
     },
     "metadata": {},
     "output_type": "display_data"
    },
    {
     "name": "stderr",
     "output_type": "stream",
     "text": [
      "/home/shuki/anaconda3/envs/torch/lib/python3.8/site-packages/torch/optim/lr_scheduler.py:216: UserWarning: Please also save or load the state of the optimizer when saving or loading the scheduler.\n",
      "  warnings.warn(SAVE_STATE_WARNING, UserWarning)\n"
     ]
    },
    {
     "data": {
      "application/vnd.jupyter.widget-view+json": {
       "model_id": "8cbc81f0d17c48368b8ea28dbc2548a5",
       "version_major": 2,
       "version_minor": 0
      },
      "text/plain": "Validating: 0it [00:00, ?it/s]"
     },
     "metadata": {},
     "output_type": "display_data"
    },
    {
     "name": "stderr",
     "output_type": "stream",
     "text": [
      "/home/shuki/anaconda3/envs/torch/lib/python3.8/site-packages/torch/optim/lr_scheduler.py:216: UserWarning: Please also save or load the state of the optimizer when saving or loading the scheduler.\n",
      "  warnings.warn(SAVE_STATE_WARNING, UserWarning)\n"
     ]
    },
    {
     "data": {
      "application/vnd.jupyter.widget-view+json": {
       "model_id": "374274e1a7874922b8dce2227f7aa25c",
       "version_major": 2,
       "version_minor": 0
      },
      "text/plain": "Validating: 0it [00:00, ?it/s]"
     },
     "metadata": {},
     "output_type": "display_data"
    },
    {
     "name": "stderr",
     "output_type": "stream",
     "text": [
      "/home/shuki/anaconda3/envs/torch/lib/python3.8/site-packages/torch/optim/lr_scheduler.py:216: UserWarning: Please also save or load the state of the optimizer when saving or loading the scheduler.\n",
      "  warnings.warn(SAVE_STATE_WARNING, UserWarning)\n"
     ]
    },
    {
     "data": {
      "application/vnd.jupyter.widget-view+json": {
       "model_id": "84afd8f23a534333b686e3f99fea841b",
       "version_major": 2,
       "version_minor": 0
      },
      "text/plain": "Validating: 0it [00:00, ?it/s]"
     },
     "metadata": {},
     "output_type": "display_data"
    },
    {
     "name": "stderr",
     "output_type": "stream",
     "text": [
      "/home/shuki/anaconda3/envs/torch/lib/python3.8/site-packages/torch/optim/lr_scheduler.py:216: UserWarning: Please also save or load the state of the optimizer when saving or loading the scheduler.\n",
      "  warnings.warn(SAVE_STATE_WARNING, UserWarning)\n"
     ]
    },
    {
     "data": {
      "application/vnd.jupyter.widget-view+json": {
       "model_id": "e72e3d4e42fe42f2a1afb1b5c3537fdd",
       "version_major": 2,
       "version_minor": 0
      },
      "text/plain": "Validating: 0it [00:00, ?it/s]"
     },
     "metadata": {},
     "output_type": "display_data"
    },
    {
     "name": "stderr",
     "output_type": "stream",
     "text": [
      "/home/shuki/anaconda3/envs/torch/lib/python3.8/site-packages/torch/optim/lr_scheduler.py:216: UserWarning: Please also save or load the state of the optimizer when saving or loading the scheduler.\n",
      "  warnings.warn(SAVE_STATE_WARNING, UserWarning)\n"
     ]
    },
    {
     "data": {
      "application/vnd.jupyter.widget-view+json": {
       "model_id": "f71590739a5342a585523b8914d4fa9c",
       "version_major": 2,
       "version_minor": 0
      },
      "text/plain": "Validating: 0it [00:00, ?it/s]"
     },
     "metadata": {},
     "output_type": "display_data"
    },
    {
     "name": "stderr",
     "output_type": "stream",
     "text": [
      "/home/shuki/anaconda3/envs/torch/lib/python3.8/site-packages/torch/optim/lr_scheduler.py:216: UserWarning: Please also save or load the state of the optimizer when saving or loading the scheduler.\n",
      "  warnings.warn(SAVE_STATE_WARNING, UserWarning)\n"
     ]
    },
    {
     "data": {
      "application/vnd.jupyter.widget-view+json": {
       "model_id": "4b3e3c03c75d4de0baba194bf65d4120",
       "version_major": 2,
       "version_minor": 0
      },
      "text/plain": "Validating: 0it [00:00, ?it/s]"
     },
     "metadata": {},
     "output_type": "display_data"
    },
    {
     "name": "stderr",
     "output_type": "stream",
     "text": [
      "/home/shuki/anaconda3/envs/torch/lib/python3.8/site-packages/torch/optim/lr_scheduler.py:216: UserWarning: Please also save or load the state of the optimizer when saving or loading the scheduler.\n",
      "  warnings.warn(SAVE_STATE_WARNING, UserWarning)\n"
     ]
    },
    {
     "data": {
      "application/vnd.jupyter.widget-view+json": {
       "model_id": "38bf87bd4bcf4a608566cf5d82dc320d",
       "version_major": 2,
       "version_minor": 0
      },
      "text/plain": "Validating: 0it [00:00, ?it/s]"
     },
     "metadata": {},
     "output_type": "display_data"
    },
    {
     "name": "stderr",
     "output_type": "stream",
     "text": [
      "/home/shuki/anaconda3/envs/torch/lib/python3.8/site-packages/torch/optim/lr_scheduler.py:216: UserWarning: Please also save or load the state of the optimizer when saving or loading the scheduler.\n",
      "  warnings.warn(SAVE_STATE_WARNING, UserWarning)\n"
     ]
    },
    {
     "data": {
      "application/vnd.jupyter.widget-view+json": {
       "model_id": "4dc29e6bcc43440aadecc7f9b0cd8ca6",
       "version_major": 2,
       "version_minor": 0
      },
      "text/plain": "Validating: 0it [00:00, ?it/s]"
     },
     "metadata": {},
     "output_type": "display_data"
    },
    {
     "name": "stderr",
     "output_type": "stream",
     "text": [
      "/home/shuki/anaconda3/envs/torch/lib/python3.8/site-packages/torch/optim/lr_scheduler.py:216: UserWarning: Please also save or load the state of the optimizer when saving or loading the scheduler.\n",
      "  warnings.warn(SAVE_STATE_WARNING, UserWarning)\n"
     ]
    },
    {
     "data": {
      "application/vnd.jupyter.widget-view+json": {
       "model_id": "1a3e7eb01156450c8171d2ad4aba384c",
       "version_major": 2,
       "version_minor": 0
      },
      "text/plain": "Validating: 0it [00:00, ?it/s]"
     },
     "metadata": {},
     "output_type": "display_data"
    },
    {
     "name": "stderr",
     "output_type": "stream",
     "text": [
      "/home/shuki/anaconda3/envs/torch/lib/python3.8/site-packages/torch/optim/lr_scheduler.py:216: UserWarning: Please also save or load the state of the optimizer when saving or loading the scheduler.\n",
      "  warnings.warn(SAVE_STATE_WARNING, UserWarning)\n"
     ]
    },
    {
     "data": {
      "text/html": "<br/>Waiting for W&B process to finish, PID 26461<br/>Program ended successfully.",
      "text/plain": "<IPython.core.display.HTML object>"
     },
     "metadata": {},
     "output_type": "display_data"
    },
    {
     "data": {
      "application/vnd.jupyter.widget-view+json": {
       "model_id": "9b15277a13044b409b39e66a179b8f40",
       "version_major": 2,
       "version_minor": 0
      },
      "text/plain": "VBox(children=(Label(value=' 0.00MB of 0.00MB uploaded (0.00MB deduped)\\r'), FloatProgress(value=1.0, max=1.0)…"
     },
     "metadata": {},
     "output_type": "display_data"
    },
    {
     "data": {
      "text/html": "Find user logs for this run at: <code>/home/shuki/projects/my_VaDE/wandb/run-20210314_170544-1x250016/logs/debug.log</code>",
      "text/plain": "<IPython.core.display.HTML object>"
     },
     "metadata": {},
     "output_type": "display_data"
    },
    {
     "data": {
      "text/html": "Find internal logs for this run at: <code>/home/shuki/projects/my_VaDE/wandb/run-20210314_170544-1x250016/logs/debug-internal.log</code>",
      "text/plain": "<IPython.core.display.HTML object>"
     },
     "metadata": {},
     "output_type": "display_data"
    },
    {
     "data": {
      "text/html": "<h3>Run summary:</h3><br/><style>\n    table.wandb td:nth-child(1) { padding: 0 10px; text-align: right }\n    </style><table class=\"wandb\">\n<tr><td>lr-AdamW/pg1</td><td>0.00131</td></tr><tr><td>lr-AdamW/pg2</td><td>0.00131</td></tr><tr><td>_step</td><td>11749</td></tr><tr><td>_runtime</td><td>670</td></tr><tr><td>_timestamp</td><td>1615735014</td></tr><tr><td>train/latent mu mean</td><td>0.02934</td></tr><tr><td>train/latent mu std</td><td>0.0496</td></tr><tr><td>train/latent dist std</td><td>0.13721</td></tr><tr><td>train/loss</td><td>93.20135</td></tr><tr><td>train/x_recon_loss</td><td>74.08727</td></tr><tr><td>train/kl_loss</td><td>19.11408</td></tr><tr><td>train/kl_div_mixture</td><td>2.17664</td></tr><tr><td>train/kl_div_components</td><td>16.93745</td></tr><tr><td>train/main_loss</td><td>93.20135</td></tr><tr><td>train/anchor_pos_distance_kl</td><td>421.10141</td></tr><tr><td>train/anchor_neg_distance_kl</td><td>1165.3457</td></tr><tr><td>train/correct_triplet_pct_kl</td><td>100.0</td></tr><tr><td>train/triplet_loss_kl</td><td>0.0</td></tr><tr><td>valid/latent mu mean</td><td>0.03059</td></tr><tr><td>valid/latent mu std</td><td>0.04871</td></tr><tr><td>valid/latent dist std</td><td>0.12482</td></tr><tr><td>valid/loss</td><td>120.20908</td></tr><tr><td>valid/x_recon_loss</td><td>82.15916</td></tr><tr><td>valid/kl_loss</td><td>19.09442</td></tr><tr><td>valid/kl_div_mixture</td><td>2.10413</td></tr><tr><td>valid/kl_div_components</td><td>16.9903</td></tr><tr><td>valid/main_loss</td><td>101.25359</td></tr><tr><td>valid/anchor_pos_distance_kl</td><td>450.23541</td></tr><tr><td>valid/anchor_neg_distance_kl</td><td>1106.35181</td></tr><tr><td>valid/correct_triplet_pct_kl</td><td>91.44</td></tr><tr><td>valid/triplet_loss_kl</td><td>18.95548</td></tr><tr><td>epoch</td><td>49</td></tr><tr><td>NMI</td><td>0.82834</td></tr><tr><td>ACC</td><td>0.82934</td></tr><tr><td>ACC2</td><td>0.83514</td></tr><tr><td>ARI</td><td>0.76004</td></tr><tr><td>valid_NMI</td><td>0.82692</td></tr><tr><td>valid_ACC</td><td>0.8283</td></tr><tr><td>valid_ACC2</td><td>0.8329</td></tr><tr><td>valid_ARI</td><td>0.75907</td></tr></table>",
      "text/plain": "<IPython.core.display.HTML object>"
     },
     "metadata": {},
     "output_type": "display_data"
    },
    {
     "data": {
      "text/html": "<h3>Run history:</h3><br/><style>\n    table.wandb td:nth-child(1) { padding: 0 10px; text-align: right }\n    </style><table class=\"wandb\">\n<tr><td>lr-AdamW/pg1</td><td>▁▂▃▄▅▆▇█████████▇▇▇▇▇▇▇▇▇▇▇▇▇▇▇▇▆▆▆▆▆▆▆▆</td></tr><tr><td>lr-AdamW/pg2</td><td>▁▂▃▄▅▆▇█████████▇▇▇▇▇▇▇▇▇▇▇▇▇▇▇▇▆▆▆▆▆▆▆▆</td></tr><tr><td>_step</td><td>▁▁▁▁▂▂▂▂▂▃▃▃▃▃▃▄▄▄▄▄▅▅▅▅▅▅▆▆▆▆▆▇▇▇▇▇▇███</td></tr><tr><td>_runtime</td><td>▁▁▁▁▂▂▂▂▂▃▃▃▃▃▃▄▄▄▄▄▅▅▅▅▅▅▆▆▆▆▆▇▇▇▇▇▇███</td></tr><tr><td>_timestamp</td><td>▁▁▁▁▂▂▂▂▂▃▃▃▃▃▃▄▄▄▄▄▅▅▅▅▅▅▆▆▆▆▆▇▇▇▇▇▇███</td></tr><tr><td>train/latent mu mean</td><td>▅▇██▇▇▅▆▅▅▄▄▄▄▃▃▂▃▂▃▂▂▂▂▂▂▁▂▁▁▁▁▂▁▂▁▁▁▁▁</td></tr><tr><td>train/latent mu std</td><td>▅▆████▆▆▅▅▄▄▄▃▄▃▃▃▂▃▃▂▂▁▂▂▁▁▁▁▁▁▂▂▂▁▁▁▁▁</td></tr><tr><td>train/latent dist std</td><td>▁▃▃▃▂▄▅▅▅▄▆▆▆▆▇▄▆▅▅▅▆▆▆▅▆█▆▆▆▆▆▅▅▇▅▅▆▄▆▆</td></tr><tr><td>train/loss</td><td>▆▃▄▃▄▅▄▄▇▆▆▂▃▇▃█▂▄▄▅▂▄▅▄▇▂▂▃▂▆▂▄▂▂▄▃▂▄▁▁</td></tr><tr><td>train/x_recon_loss</td><td>▄▂▂▃▄▄▄▄▇▆▆▂▃▇▃█▂▄▃▅▂▄▅▄▇▂▃▃▂▆▂▄▂▃▄▃▂▄▁▁</td></tr><tr><td>train/kl_loss</td><td>█▅▆▆▇█▅▄▅▆▄▅▅▆▃▅▃▄▅▄▃▄▄▁▄▃▂▂▂▄▁▄▂▂▄▃▃▁▂▃</td></tr><tr><td>train/kl_div_mixture</td><td>▃▄▆▅▁▃▄▅▄▃▄▆▆▃▆▆▅▇▄▆▆▅▅▄▅█▅▇▇▃▇▅▆▃▄▇▄▃▄▄</td></tr><tr><td>train/kl_div_components</td><td>█▅▆▆▇█▅▄▅▆▄▄▅▆▃▅▃▃▅▄▂▄▄▁▄▃▂▂▂▄▁▄▂▂▃▃▃▁▂▃</td></tr><tr><td>train/main_loss</td><td>▄▂▃▃▄▅▄▄▇▆▆▂▃▇▃█▂▄▄▅▂▄▅▄▇▂▂▃▂▆▂▄▂▃▄▃▂▄▁▁</td></tr><tr><td>train/anchor_pos_distance_kl</td><td>▃▁▅▆▇▅▅▄▃▅▃▄▅▄▄▅▅▅▅▅▇▆▆▃▆▆▅▆█▆▆▅▆▆█▇▇▆▇▆</td></tr><tr><td>train/anchor_neg_distance_kl</td><td>▂▁▄▆▆▅▃▅▄▄▃▅▅▄▃▅▄▄▃▆▅▄▅▃▅▆▅▅▅▅▃▅▇▇█▇▅▆▆▆</td></tr><tr><td>train/correct_triplet_pct_kl</td><td>▅▁▆█▃████████████▆██████████████████▆███</td></tr><tr><td>train/triplet_loss_kl</td><td>█▄▄▁▂▁▁▁▁▁▁▁▁▁▁▁▁▂▁▁▁▁▁▁▁▁▁▁▁▁▁▁▁▁▁▁▂▁▁▁</td></tr><tr><td>valid/latent mu mean</td><td>█▅▇▇▇▇▇▆▅▅▄▄▄▃▃▃▃▃▃▃▂▂▂▂▂▂▂▂▁▁▁▁▁▁▁▁▁▁▁▁</td></tr><tr><td>valid/latent mu std</td><td>█▅▇█▇▇▇▆▅▅▅▄▄▄▃▃▃▃▃▃▂▂▂▂▂▂▂▂▁▁▁▁▁▁▁▁▁▁▁▁</td></tr><tr><td>valid/latent dist std</td><td>▁▄▂▁▃▅▅▆▇▇█▇▇▆█▆▇▆▇▆▇▇▇▆▇▆▇▇▇█▇▆▆▇▆▇▅▆▆▆</td></tr><tr><td>valid/loss</td><td>▁▁▃▄▃▃▅▅▄▅▆▄▅▅▅▅▆▅▅▆▅▅▅▆▆▅▆▆▅▆▆▅▆▇▆▅▆▅▆█</td></tr><tr><td>valid/x_recon_loss</td><td>▅▃▁▁▃▄▆▇▇▆█▇▆▆▆▅▆▅▆▆▅▅▅▅▅▄▄▄▃▄▄▄▃▃▃▃▄▃▄▅</td></tr><tr><td>valid/kl_loss</td><td>▄▄▇█▆▅▅▅▃▃▃▃▂▃▃▃▂▃▂▃▂▂▂▂▂▂▂▂▂▁▂▂▂▁▂▁▂▂▂▂</td></tr><tr><td>valid/kl_div_mixture</td><td>▁▂▂▁▂▂▂▂▅▆▇██▇█▇▇▇▇▆▆▆▆▇▆▆▅▆▆▅▅▅▅▅▅▄▄▄▄▃</td></tr><tr><td>valid/kl_div_components</td><td>▄▄▇█▆▅▅▅▃▃▃▃▂▃▂▃▂▃▂▃▂▂▂▂▂▂▂▂▂▁▂▂▂▁▂▁▂▂▂▂</td></tr><tr><td>valid/main_loss</td><td>▅▃▂▂▃▄▆▇▆▆█▆▅▆▅▄▅▄▆▆▄▄▄▄▄▂▃▂▂▂▃▂▁▁▂▁▂▂▂▄</td></tr><tr><td>valid/anchor_pos_distance_kl</td><td>▁▃▆▇▆▆▆▆▅▆▆▅▆▅▆▇▆▇▅▇▆▆▆▇▇▇▆▇▇▇▇▇▇▇▇▇▇▇▇█</td></tr><tr><td>valid/anchor_neg_distance_kl</td><td>▁▃▇█▇▇▆▆▅▅▅▅▅▅▅▆▄▆▅▆▅▅▅▆▆▆▆▆▆▆▇▆▇▅▆▆▇▆▆▆</td></tr><tr><td>valid/correct_triplet_pct_kl</td><td>█▇▇▆▅▆▆▅▅▅▄▅▅▅▅▄▃▆▅▃▄▅▄▃▄▄▄▄▄▃▂▂▄▂▄▄▃▆▃▁</td></tr><tr><td>valid/triplet_loss_kl</td><td>▁▂▄▅▃▄▅▄▄▄▅▄▅▄▅▅▅▅▅▆▅▅▅▆▆▆▇▇▆▆▇▆▇█▇▆▇▆▇█</td></tr><tr><td>epoch</td><td>▁▁▁▁▂▂▂▂▂▃▃▃▃▃▃▄▄▄▄▄▅▅▅▅▅▅▆▆▆▆▆▆▇▇▇▇▇███</td></tr><tr><td>NMI</td><td>▁▅▅▅▅▆▆▆▆▆▇▇▇▇▇▇▇▇▇▇▇██▇▇███████████████</td></tr><tr><td>ACC</td><td>▁▃▃▃▃▄▄▄▅▅▆▆▇▇▇▇▇▇▇▇▇█▇▇▇███████████████</td></tr><tr><td>ACC2</td><td>▁▃▄▄▄▄▅▅▆▇▇▇████████████████████████████</td></tr><tr><td>ARI</td><td>▁▄▅▅▅▅▅▅▆▆▆▆▇▇▇▇▇▇▇▇▇▇▇▇▇███████████████</td></tr><tr><td>valid_NMI</td><td>▁▅▅▅▅▅▅▅▆▆▆▆▇▇▇▇▇▇▇▇▇▇▇▇▇▇██████████████</td></tr><tr><td>valid_ACC</td><td>▁▂▃▃▃▃▄▄▅▅▆▆▆▇▇▆▇▇▇▇▇█▇▇▇███████████████</td></tr><tr><td>valid_ACC2</td><td>▁▃▄▄▄▄▄▅▆▇▇▇████████████████████████████</td></tr><tr><td>valid_ARI</td><td>▁▄▅▅▅▅▅▅▆▆▆▆▇▇▇▇▇▇▇▇▇▇▇▇▇▇▇█████████████</td></tr></table><br/>",
      "text/plain": "<IPython.core.display.HTML object>"
     },
     "metadata": {},
     "output_type": "display_data"
    },
    {
     "data": {
      "text/html": "Synced 5 W&B file(s), 0 media file(s), 0 artifact file(s) and 0 other file(s)",
      "text/plain": "<IPython.core.display.HTML object>"
     },
     "metadata": {},
     "output_type": "display_data"
    },
    {
     "data": {
      "text/html": "\n                    <br/>Synced <strong style=\"color:#cdcd00\">cheese-brulee-1018</strong>: <a href=\"https://wandb.ai/shukistern/VaDE%20Triplets/runs/1x250016\" target=\"_blank\">https://wandb.ai/shukistern/VaDE%20Triplets/runs/1x250016</a><br/>\n                ",
      "text/plain": "<IPython.core.display.HTML object>"
     },
     "metadata": {},
     "output_type": "display_data"
    },
    {
     "name": "stderr",
     "output_type": "stream",
     "text": [
      "\u001b[34m\u001b[1mwandb\u001b[0m: wandb version 0.10.22 is available!  To upgrade, please run:\n",
      "\u001b[34m\u001b[1mwandb\u001b[0m:  $ pip install wandb --upgrade\n"
     ]
    },
    {
     "data": {
      "text/html": "\n                Tracking run with wandb version 0.10.17<br/>\n                Syncing run <strong style=\"color:#cdcd00\">pecan-meringue-1021</strong> to <a href=\"https://wandb.ai\" target=\"_blank\">Weights & Biases</a> <a href=\"https://docs.wandb.com/integrations/jupyter.html\" target=\"_blank\">(Documentation)</a>.<br/>\n                Project page: <a href=\"https://wandb.ai/shukistern/VaDE%20Triplets\" target=\"_blank\">https://wandb.ai/shukistern/VaDE%20Triplets</a><br/>\n                Run page: <a href=\"https://wandb.ai/shukistern/VaDE%20Triplets/runs/3jmdoo31\" target=\"_blank\">https://wandb.ai/shukistern/VaDE%20Triplets/runs/3jmdoo31</a><br/>\n                Run data is saved locally in <code>/home/shuki/projects/my_VaDE/wandb/run-20210314_171719-3jmdoo31</code><br/><br/>\n            ",
      "text/plain": "<IPython.core.display.HTML object>"
     },
     "metadata": {},
     "output_type": "display_data"
    },
    {
     "name": "stderr",
     "output_type": "stream",
     "text": [
      "GPU available: True, used: True\n",
      "TPU available: None, using: 0 TPU cores\n",
      "LOCAL_RANK: 0 - CUDA_VISIBLE_DEVICES: [0]\n",
      "\n",
      "  | Name  | Type | Params\n",
      "-------------------------------\n",
      "0 | model | VaDE | 3.5 M \n",
      "-------------------------------\n",
      "3.5 M     Trainable params\n",
      "0         Non-trainable params\n",
      "3.5 M     Total params\n"
     ]
    },
    {
     "data": {
      "application/vnd.jupyter.widget-view+json": {
       "model_id": "8467376758284e22afe84affa374d9e9",
       "version_major": 2,
       "version_minor": 0
      },
      "text/plain": "Validation sanity check: 0it [00:00, ?it/s]"
     },
     "metadata": {},
     "output_type": "display_data"
    },
    {
     "data": {
      "application/vnd.jupyter.widget-view+json": {
       "model_id": "3661934ce35842428ab7e71f7ba533eb",
       "version_major": 2,
       "version_minor": 0
      },
      "text/plain": "Training: 0it [00:00, ?it/s]"
     },
     "metadata": {},
     "output_type": "display_data"
    },
    {
     "data": {
      "application/vnd.jupyter.widget-view+json": {
       "model_id": "fd78b887911f4dc18badeda50f0c3e6d",
       "version_major": 2,
       "version_minor": 0
      },
      "text/plain": "Validating: 0it [00:00, ?it/s]"
     },
     "metadata": {},
     "output_type": "display_data"
    },
    {
     "name": "stderr",
     "output_type": "stream",
     "text": [
      "/home/shuki/anaconda3/envs/torch/lib/python3.8/site-packages/torch/optim/lr_scheduler.py:216: UserWarning: Please also save or load the state of the optimizer when saving or loading the scheduler.\n",
      "  warnings.warn(SAVE_STATE_WARNING, UserWarning)\n"
     ]
    },
    {
     "data": {
      "application/vnd.jupyter.widget-view+json": {
       "model_id": "7634cb5ee9e843a8999df1cd53e1bc99",
       "version_major": 2,
       "version_minor": 0
      },
      "text/plain": "Validating: 0it [00:00, ?it/s]"
     },
     "metadata": {},
     "output_type": "display_data"
    },
    {
     "name": "stderr",
     "output_type": "stream",
     "text": [
      "/home/shuki/anaconda3/envs/torch/lib/python3.8/site-packages/torch/optim/lr_scheduler.py:216: UserWarning: Please also save or load the state of the optimizer when saving or loading the scheduler.\n",
      "  warnings.warn(SAVE_STATE_WARNING, UserWarning)\n"
     ]
    },
    {
     "data": {
      "application/vnd.jupyter.widget-view+json": {
       "model_id": "e7cc31a96cab47fba8da3314adf41128",
       "version_major": 2,
       "version_minor": 0
      },
      "text/plain": "Validating: 0it [00:00, ?it/s]"
     },
     "metadata": {},
     "output_type": "display_data"
    },
    {
     "name": "stderr",
     "output_type": "stream",
     "text": [
      "/home/shuki/anaconda3/envs/torch/lib/python3.8/site-packages/torch/optim/lr_scheduler.py:216: UserWarning: Please also save or load the state of the optimizer when saving or loading the scheduler.\n",
      "  warnings.warn(SAVE_STATE_WARNING, UserWarning)\n"
     ]
    },
    {
     "data": {
      "application/vnd.jupyter.widget-view+json": {
       "model_id": "d67b3e96d542415fab8e998066bd56ce",
       "version_major": 2,
       "version_minor": 0
      },
      "text/plain": "Validating: 0it [00:00, ?it/s]"
     },
     "metadata": {},
     "output_type": "display_data"
    },
    {
     "name": "stderr",
     "output_type": "stream",
     "text": [
      "/home/shuki/anaconda3/envs/torch/lib/python3.8/site-packages/torch/optim/lr_scheduler.py:216: UserWarning: Please also save or load the state of the optimizer when saving or loading the scheduler.\n",
      "  warnings.warn(SAVE_STATE_WARNING, UserWarning)\n"
     ]
    },
    {
     "data": {
      "application/vnd.jupyter.widget-view+json": {
       "model_id": "ffb69deb59ec4cd5b930ef7baaa1acfb",
       "version_major": 2,
       "version_minor": 0
      },
      "text/plain": "Validating: 0it [00:00, ?it/s]"
     },
     "metadata": {},
     "output_type": "display_data"
    },
    {
     "name": "stderr",
     "output_type": "stream",
     "text": [
      "/home/shuki/anaconda3/envs/torch/lib/python3.8/site-packages/torch/optim/lr_scheduler.py:216: UserWarning: Please also save or load the state of the optimizer when saving or loading the scheduler.\n",
      "  warnings.warn(SAVE_STATE_WARNING, UserWarning)\n"
     ]
    },
    {
     "data": {
      "application/vnd.jupyter.widget-view+json": {
       "model_id": "b052440e092c4b1a93628a9a3c38b675",
       "version_major": 2,
       "version_minor": 0
      },
      "text/plain": "Validating: 0it [00:00, ?it/s]"
     },
     "metadata": {},
     "output_type": "display_data"
    },
    {
     "name": "stderr",
     "output_type": "stream",
     "text": [
      "/home/shuki/anaconda3/envs/torch/lib/python3.8/site-packages/torch/optim/lr_scheduler.py:216: UserWarning: Please also save or load the state of the optimizer when saving or loading the scheduler.\n",
      "  warnings.warn(SAVE_STATE_WARNING, UserWarning)\n"
     ]
    },
    {
     "data": {
      "application/vnd.jupyter.widget-view+json": {
       "model_id": "85443079b7964c8ab98b016ce49c7bb4",
       "version_major": 2,
       "version_minor": 0
      },
      "text/plain": "Validating: 0it [00:00, ?it/s]"
     },
     "metadata": {},
     "output_type": "display_data"
    },
    {
     "name": "stderr",
     "output_type": "stream",
     "text": [
      "/home/shuki/anaconda3/envs/torch/lib/python3.8/site-packages/torch/optim/lr_scheduler.py:216: UserWarning: Please also save or load the state of the optimizer when saving or loading the scheduler.\n",
      "  warnings.warn(SAVE_STATE_WARNING, UserWarning)\n"
     ]
    },
    {
     "data": {
      "application/vnd.jupyter.widget-view+json": {
       "model_id": "8f0b1f123964473bac90e872191f015f",
       "version_major": 2,
       "version_minor": 0
      },
      "text/plain": "Validating: 0it [00:00, ?it/s]"
     },
     "metadata": {},
     "output_type": "display_data"
    },
    {
     "name": "stderr",
     "output_type": "stream",
     "text": [
      "/home/shuki/anaconda3/envs/torch/lib/python3.8/site-packages/torch/optim/lr_scheduler.py:216: UserWarning: Please also save or load the state of the optimizer when saving or loading the scheduler.\n",
      "  warnings.warn(SAVE_STATE_WARNING, UserWarning)\n"
     ]
    },
    {
     "data": {
      "application/vnd.jupyter.widget-view+json": {
       "model_id": "034f353cfedf4354b9749f718659d9d9",
       "version_major": 2,
       "version_minor": 0
      },
      "text/plain": "Validating: 0it [00:00, ?it/s]"
     },
     "metadata": {},
     "output_type": "display_data"
    },
    {
     "name": "stderr",
     "output_type": "stream",
     "text": [
      "/home/shuki/anaconda3/envs/torch/lib/python3.8/site-packages/torch/optim/lr_scheduler.py:216: UserWarning: Please also save or load the state of the optimizer when saving or loading the scheduler.\n",
      "  warnings.warn(SAVE_STATE_WARNING, UserWarning)\n"
     ]
    },
    {
     "data": {
      "application/vnd.jupyter.widget-view+json": {
       "model_id": "0fc29649f6d54eb1bb2c20edd3961d98",
       "version_major": 2,
       "version_minor": 0
      },
      "text/plain": "Validating: 0it [00:00, ?it/s]"
     },
     "metadata": {},
     "output_type": "display_data"
    },
    {
     "name": "stderr",
     "output_type": "stream",
     "text": [
      "/home/shuki/anaconda3/envs/torch/lib/python3.8/site-packages/torch/optim/lr_scheduler.py:216: UserWarning: Please also save or load the state of the optimizer when saving or loading the scheduler.\n",
      "  warnings.warn(SAVE_STATE_WARNING, UserWarning)\n"
     ]
    },
    {
     "data": {
      "application/vnd.jupyter.widget-view+json": {
       "model_id": "6177b7b4ced9423e8224940b2a2b0cf6",
       "version_major": 2,
       "version_minor": 0
      },
      "text/plain": "Validating: 0it [00:00, ?it/s]"
     },
     "metadata": {},
     "output_type": "display_data"
    },
    {
     "name": "stderr",
     "output_type": "stream",
     "text": [
      "/home/shuki/anaconda3/envs/torch/lib/python3.8/site-packages/torch/optim/lr_scheduler.py:216: UserWarning: Please also save or load the state of the optimizer when saving or loading the scheduler.\n",
      "  warnings.warn(SAVE_STATE_WARNING, UserWarning)\n"
     ]
    },
    {
     "data": {
      "application/vnd.jupyter.widget-view+json": {
       "model_id": "5824fba0ebda4f3696f51ff725586db0",
       "version_major": 2,
       "version_minor": 0
      },
      "text/plain": "Validating: 0it [00:00, ?it/s]"
     },
     "metadata": {},
     "output_type": "display_data"
    },
    {
     "name": "stderr",
     "output_type": "stream",
     "text": [
      "/home/shuki/anaconda3/envs/torch/lib/python3.8/site-packages/torch/optim/lr_scheduler.py:216: UserWarning: Please also save or load the state of the optimizer when saving or loading the scheduler.\n",
      "  warnings.warn(SAVE_STATE_WARNING, UserWarning)\n"
     ]
    },
    {
     "data": {
      "application/vnd.jupyter.widget-view+json": {
       "model_id": "73ccb50a115d4c46b7322ca6092ea2d2",
       "version_major": 2,
       "version_minor": 0
      },
      "text/plain": "Validating: 0it [00:00, ?it/s]"
     },
     "metadata": {},
     "output_type": "display_data"
    },
    {
     "name": "stderr",
     "output_type": "stream",
     "text": [
      "/home/shuki/anaconda3/envs/torch/lib/python3.8/site-packages/torch/optim/lr_scheduler.py:216: UserWarning: Please also save or load the state of the optimizer when saving or loading the scheduler.\n",
      "  warnings.warn(SAVE_STATE_WARNING, UserWarning)\n"
     ]
    },
    {
     "data": {
      "application/vnd.jupyter.widget-view+json": {
       "model_id": "9806da73231a47b8b2c076c8e968eb30",
       "version_major": 2,
       "version_minor": 0
      },
      "text/plain": "Validating: 0it [00:00, ?it/s]"
     },
     "metadata": {},
     "output_type": "display_data"
    },
    {
     "name": "stderr",
     "output_type": "stream",
     "text": [
      "/home/shuki/anaconda3/envs/torch/lib/python3.8/site-packages/torch/optim/lr_scheduler.py:216: UserWarning: Please also save or load the state of the optimizer when saving or loading the scheduler.\n",
      "  warnings.warn(SAVE_STATE_WARNING, UserWarning)\n"
     ]
    },
    {
     "data": {
      "application/vnd.jupyter.widget-view+json": {
       "model_id": "7646b5aeeaad4cd3903de7c090c016b4",
       "version_major": 2,
       "version_minor": 0
      },
      "text/plain": "Validating: 0it [00:00, ?it/s]"
     },
     "metadata": {},
     "output_type": "display_data"
    },
    {
     "name": "stderr",
     "output_type": "stream",
     "text": [
      "/home/shuki/anaconda3/envs/torch/lib/python3.8/site-packages/torch/optim/lr_scheduler.py:216: UserWarning: Please also save or load the state of the optimizer when saving or loading the scheduler.\n",
      "  warnings.warn(SAVE_STATE_WARNING, UserWarning)\n"
     ]
    },
    {
     "data": {
      "application/vnd.jupyter.widget-view+json": {
       "model_id": "435692b030db4fa9acf3b9c27f7ecb5b",
       "version_major": 2,
       "version_minor": 0
      },
      "text/plain": "Validating: 0it [00:00, ?it/s]"
     },
     "metadata": {},
     "output_type": "display_data"
    },
    {
     "name": "stderr",
     "output_type": "stream",
     "text": [
      "/home/shuki/anaconda3/envs/torch/lib/python3.8/site-packages/torch/optim/lr_scheduler.py:216: UserWarning: Please also save or load the state of the optimizer when saving or loading the scheduler.\n",
      "  warnings.warn(SAVE_STATE_WARNING, UserWarning)\n"
     ]
    },
    {
     "data": {
      "application/vnd.jupyter.widget-view+json": {
       "model_id": "53646ffcdba94f5eb8ce14b7e52fb554",
       "version_major": 2,
       "version_minor": 0
      },
      "text/plain": "Validating: 0it [00:00, ?it/s]"
     },
     "metadata": {},
     "output_type": "display_data"
    },
    {
     "name": "stderr",
     "output_type": "stream",
     "text": [
      "/home/shuki/anaconda3/envs/torch/lib/python3.8/site-packages/torch/optim/lr_scheduler.py:216: UserWarning: Please also save or load the state of the optimizer when saving or loading the scheduler.\n",
      "  warnings.warn(SAVE_STATE_WARNING, UserWarning)\n"
     ]
    },
    {
     "data": {
      "application/vnd.jupyter.widget-view+json": {
       "model_id": "ce0dfb85f1854f44a03f61e26a62445c",
       "version_major": 2,
       "version_minor": 0
      },
      "text/plain": "Validating: 0it [00:00, ?it/s]"
     },
     "metadata": {},
     "output_type": "display_data"
    },
    {
     "name": "stderr",
     "output_type": "stream",
     "text": [
      "/home/shuki/anaconda3/envs/torch/lib/python3.8/site-packages/torch/optim/lr_scheduler.py:216: UserWarning: Please also save or load the state of the optimizer when saving or loading the scheduler.\n",
      "  warnings.warn(SAVE_STATE_WARNING, UserWarning)\n"
     ]
    },
    {
     "data": {
      "application/vnd.jupyter.widget-view+json": {
       "model_id": "7cccbf0abe3e47b28dc592ef84ff968d",
       "version_major": 2,
       "version_minor": 0
      },
      "text/plain": "Validating: 0it [00:00, ?it/s]"
     },
     "metadata": {},
     "output_type": "display_data"
    },
    {
     "name": "stderr",
     "output_type": "stream",
     "text": [
      "/home/shuki/anaconda3/envs/torch/lib/python3.8/site-packages/torch/optim/lr_scheduler.py:216: UserWarning: Please also save or load the state of the optimizer when saving or loading the scheduler.\n",
      "  warnings.warn(SAVE_STATE_WARNING, UserWarning)\n"
     ]
    },
    {
     "data": {
      "application/vnd.jupyter.widget-view+json": {
       "model_id": "c83f0bb37c3745568d4ff3e3b85d36ae",
       "version_major": 2,
       "version_minor": 0
      },
      "text/plain": "Validating: 0it [00:00, ?it/s]"
     },
     "metadata": {},
     "output_type": "display_data"
    },
    {
     "name": "stderr",
     "output_type": "stream",
     "text": [
      "/home/shuki/anaconda3/envs/torch/lib/python3.8/site-packages/torch/optim/lr_scheduler.py:216: UserWarning: Please also save or load the state of the optimizer when saving or loading the scheduler.\n",
      "  warnings.warn(SAVE_STATE_WARNING, UserWarning)\n"
     ]
    },
    {
     "data": {
      "application/vnd.jupyter.widget-view+json": {
       "model_id": "e9f0f8eef493495491d437ad0a580bcb",
       "version_major": 2,
       "version_minor": 0
      },
      "text/plain": "Validating: 0it [00:00, ?it/s]"
     },
     "metadata": {},
     "output_type": "display_data"
    },
    {
     "name": "stderr",
     "output_type": "stream",
     "text": [
      "/home/shuki/anaconda3/envs/torch/lib/python3.8/site-packages/torch/optim/lr_scheduler.py:216: UserWarning: Please also save or load the state of the optimizer when saving or loading the scheduler.\n",
      "  warnings.warn(SAVE_STATE_WARNING, UserWarning)\n"
     ]
    },
    {
     "data": {
      "application/vnd.jupyter.widget-view+json": {
       "model_id": "3f78eb23f1614a99abd7860e09b2bf11",
       "version_major": 2,
       "version_minor": 0
      },
      "text/plain": "Validating: 0it [00:00, ?it/s]"
     },
     "metadata": {},
     "output_type": "display_data"
    },
    {
     "name": "stderr",
     "output_type": "stream",
     "text": [
      "/home/shuki/anaconda3/envs/torch/lib/python3.8/site-packages/torch/optim/lr_scheduler.py:216: UserWarning: Please also save or load the state of the optimizer when saving or loading the scheduler.\n",
      "  warnings.warn(SAVE_STATE_WARNING, UserWarning)\n"
     ]
    },
    {
     "data": {
      "application/vnd.jupyter.widget-view+json": {
       "model_id": "37027f94f2e64c1ca1dead2be18fd3d5",
       "version_major": 2,
       "version_minor": 0
      },
      "text/plain": "Validating: 0it [00:00, ?it/s]"
     },
     "metadata": {},
     "output_type": "display_data"
    },
    {
     "name": "stderr",
     "output_type": "stream",
     "text": [
      "/home/shuki/anaconda3/envs/torch/lib/python3.8/site-packages/torch/optim/lr_scheduler.py:216: UserWarning: Please also save or load the state of the optimizer when saving or loading the scheduler.\n",
      "  warnings.warn(SAVE_STATE_WARNING, UserWarning)\n"
     ]
    },
    {
     "data": {
      "application/vnd.jupyter.widget-view+json": {
       "model_id": "43126fb18fb04904838936b226c61306",
       "version_major": 2,
       "version_minor": 0
      },
      "text/plain": "Validating: 0it [00:00, ?it/s]"
     },
     "metadata": {},
     "output_type": "display_data"
    },
    {
     "name": "stderr",
     "output_type": "stream",
     "text": [
      "/home/shuki/anaconda3/envs/torch/lib/python3.8/site-packages/torch/optim/lr_scheduler.py:216: UserWarning: Please also save or load the state of the optimizer when saving or loading the scheduler.\n",
      "  warnings.warn(SAVE_STATE_WARNING, UserWarning)\n"
     ]
    },
    {
     "data": {
      "application/vnd.jupyter.widget-view+json": {
       "model_id": "a74b9862fb924e21aeefa67420b650f2",
       "version_major": 2,
       "version_minor": 0
      },
      "text/plain": "Validating: 0it [00:00, ?it/s]"
     },
     "metadata": {},
     "output_type": "display_data"
    },
    {
     "name": "stderr",
     "output_type": "stream",
     "text": [
      "/home/shuki/anaconda3/envs/torch/lib/python3.8/site-packages/torch/optim/lr_scheduler.py:216: UserWarning: Please also save or load the state of the optimizer when saving or loading the scheduler.\n",
      "  warnings.warn(SAVE_STATE_WARNING, UserWarning)\n"
     ]
    },
    {
     "data": {
      "application/vnd.jupyter.widget-view+json": {
       "model_id": "b426cf8b0cd741ccae92b594f0f8bedd",
       "version_major": 2,
       "version_minor": 0
      },
      "text/plain": "Validating: 0it [00:00, ?it/s]"
     },
     "metadata": {},
     "output_type": "display_data"
    },
    {
     "name": "stderr",
     "output_type": "stream",
     "text": [
      "/home/shuki/anaconda3/envs/torch/lib/python3.8/site-packages/torch/optim/lr_scheduler.py:216: UserWarning: Please also save or load the state of the optimizer when saving or loading the scheduler.\n",
      "  warnings.warn(SAVE_STATE_WARNING, UserWarning)\n"
     ]
    },
    {
     "data": {
      "application/vnd.jupyter.widget-view+json": {
       "model_id": "46c5f7d3c0284f49a19f1c211944a816",
       "version_major": 2,
       "version_minor": 0
      },
      "text/plain": "Validating: 0it [00:00, ?it/s]"
     },
     "metadata": {},
     "output_type": "display_data"
    },
    {
     "name": "stderr",
     "output_type": "stream",
     "text": [
      "/home/shuki/anaconda3/envs/torch/lib/python3.8/site-packages/torch/optim/lr_scheduler.py:216: UserWarning: Please also save or load the state of the optimizer when saving or loading the scheduler.\n",
      "  warnings.warn(SAVE_STATE_WARNING, UserWarning)\n"
     ]
    },
    {
     "data": {
      "application/vnd.jupyter.widget-view+json": {
       "model_id": "d773dddb2f5249b1a479cd6404916ef3",
       "version_major": 2,
       "version_minor": 0
      },
      "text/plain": "Validating: 0it [00:00, ?it/s]"
     },
     "metadata": {},
     "output_type": "display_data"
    },
    {
     "name": "stderr",
     "output_type": "stream",
     "text": [
      "/home/shuki/anaconda3/envs/torch/lib/python3.8/site-packages/torch/optim/lr_scheduler.py:216: UserWarning: Please also save or load the state of the optimizer when saving or loading the scheduler.\n",
      "  warnings.warn(SAVE_STATE_WARNING, UserWarning)\n"
     ]
    },
    {
     "data": {
      "application/vnd.jupyter.widget-view+json": {
       "model_id": "458f36de47f94c92b04748581457d1c4",
       "version_major": 2,
       "version_minor": 0
      },
      "text/plain": "Validating: 0it [00:00, ?it/s]"
     },
     "metadata": {},
     "output_type": "display_data"
    },
    {
     "name": "stderr",
     "output_type": "stream",
     "text": [
      "/home/shuki/anaconda3/envs/torch/lib/python3.8/site-packages/torch/optim/lr_scheduler.py:216: UserWarning: Please also save or load the state of the optimizer when saving or loading the scheduler.\n",
      "  warnings.warn(SAVE_STATE_WARNING, UserWarning)\n"
     ]
    },
    {
     "data": {
      "application/vnd.jupyter.widget-view+json": {
       "model_id": "a0e1bcb8f7e249a0b329294bf047767c",
       "version_major": 2,
       "version_minor": 0
      },
      "text/plain": "Validating: 0it [00:00, ?it/s]"
     },
     "metadata": {},
     "output_type": "display_data"
    },
    {
     "name": "stderr",
     "output_type": "stream",
     "text": [
      "/home/shuki/anaconda3/envs/torch/lib/python3.8/site-packages/torch/optim/lr_scheduler.py:216: UserWarning: Please also save or load the state of the optimizer when saving or loading the scheduler.\n",
      "  warnings.warn(SAVE_STATE_WARNING, UserWarning)\n"
     ]
    },
    {
     "data": {
      "application/vnd.jupyter.widget-view+json": {
       "model_id": "a930a3cba545463397a5eb424ac6ff8b",
       "version_major": 2,
       "version_minor": 0
      },
      "text/plain": "Validating: 0it [00:00, ?it/s]"
     },
     "metadata": {},
     "output_type": "display_data"
    },
    {
     "name": "stderr",
     "output_type": "stream",
     "text": [
      "/home/shuki/anaconda3/envs/torch/lib/python3.8/site-packages/torch/optim/lr_scheduler.py:216: UserWarning: Please also save or load the state of the optimizer when saving or loading the scheduler.\n",
      "  warnings.warn(SAVE_STATE_WARNING, UserWarning)\n"
     ]
    },
    {
     "data": {
      "application/vnd.jupyter.widget-view+json": {
       "model_id": "ac0514d0ad354ab6a0da59cc41645598",
       "version_major": 2,
       "version_minor": 0
      },
      "text/plain": "Validating: 0it [00:00, ?it/s]"
     },
     "metadata": {},
     "output_type": "display_data"
    },
    {
     "name": "stderr",
     "output_type": "stream",
     "text": [
      "/home/shuki/anaconda3/envs/torch/lib/python3.8/site-packages/torch/optim/lr_scheduler.py:216: UserWarning: Please also save or load the state of the optimizer when saving or loading the scheduler.\n",
      "  warnings.warn(SAVE_STATE_WARNING, UserWarning)\n"
     ]
    },
    {
     "data": {
      "application/vnd.jupyter.widget-view+json": {
       "model_id": "c85f950c2c4149b8b01b751641e9fb7e",
       "version_major": 2,
       "version_minor": 0
      },
      "text/plain": "Validating: 0it [00:00, ?it/s]"
     },
     "metadata": {},
     "output_type": "display_data"
    },
    {
     "name": "stderr",
     "output_type": "stream",
     "text": [
      "/home/shuki/anaconda3/envs/torch/lib/python3.8/site-packages/torch/optim/lr_scheduler.py:216: UserWarning: Please also save or load the state of the optimizer when saving or loading the scheduler.\n",
      "  warnings.warn(SAVE_STATE_WARNING, UserWarning)\n"
     ]
    },
    {
     "data": {
      "application/vnd.jupyter.widget-view+json": {
       "model_id": "a9899b1cbe6b4da9a2abfeef936901a4",
       "version_major": 2,
       "version_minor": 0
      },
      "text/plain": "Validating: 0it [00:00, ?it/s]"
     },
     "metadata": {},
     "output_type": "display_data"
    },
    {
     "name": "stderr",
     "output_type": "stream",
     "text": [
      "/home/shuki/anaconda3/envs/torch/lib/python3.8/site-packages/torch/optim/lr_scheduler.py:216: UserWarning: Please also save or load the state of the optimizer when saving or loading the scheduler.\n",
      "  warnings.warn(SAVE_STATE_WARNING, UserWarning)\n"
     ]
    },
    {
     "data": {
      "application/vnd.jupyter.widget-view+json": {
       "model_id": "660d20986b5045c198b177b932e0e50c",
       "version_major": 2,
       "version_minor": 0
      },
      "text/plain": "Validating: 0it [00:00, ?it/s]"
     },
     "metadata": {},
     "output_type": "display_data"
    },
    {
     "name": "stderr",
     "output_type": "stream",
     "text": [
      "/home/shuki/anaconda3/envs/torch/lib/python3.8/site-packages/torch/optim/lr_scheduler.py:216: UserWarning: Please also save or load the state of the optimizer when saving or loading the scheduler.\n",
      "  warnings.warn(SAVE_STATE_WARNING, UserWarning)\n"
     ]
    },
    {
     "data": {
      "application/vnd.jupyter.widget-view+json": {
       "model_id": "7c7d25ad6e114a72b50036e24acc122c",
       "version_major": 2,
       "version_minor": 0
      },
      "text/plain": "Validating: 0it [00:00, ?it/s]"
     },
     "metadata": {},
     "output_type": "display_data"
    },
    {
     "name": "stderr",
     "output_type": "stream",
     "text": [
      "/home/shuki/anaconda3/envs/torch/lib/python3.8/site-packages/torch/optim/lr_scheduler.py:216: UserWarning: Please also save or load the state of the optimizer when saving or loading the scheduler.\n",
      "  warnings.warn(SAVE_STATE_WARNING, UserWarning)\n"
     ]
    },
    {
     "data": {
      "application/vnd.jupyter.widget-view+json": {
       "model_id": "fa59b36efc7348259583ee8b07941aeb",
       "version_major": 2,
       "version_minor": 0
      },
      "text/plain": "Validating: 0it [00:00, ?it/s]"
     },
     "metadata": {},
     "output_type": "display_data"
    },
    {
     "name": "stderr",
     "output_type": "stream",
     "text": [
      "/home/shuki/anaconda3/envs/torch/lib/python3.8/site-packages/torch/optim/lr_scheduler.py:216: UserWarning: Please also save or load the state of the optimizer when saving or loading the scheduler.\n",
      "  warnings.warn(SAVE_STATE_WARNING, UserWarning)\n"
     ]
    },
    {
     "data": {
      "application/vnd.jupyter.widget-view+json": {
       "model_id": "8e7a0b39dd664b87ac19265dcf063e5f",
       "version_major": 2,
       "version_minor": 0
      },
      "text/plain": "Validating: 0it [00:00, ?it/s]"
     },
     "metadata": {},
     "output_type": "display_data"
    },
    {
     "name": "stderr",
     "output_type": "stream",
     "text": [
      "/home/shuki/anaconda3/envs/torch/lib/python3.8/site-packages/torch/optim/lr_scheduler.py:216: UserWarning: Please also save or load the state of the optimizer when saving or loading the scheduler.\n",
      "  warnings.warn(SAVE_STATE_WARNING, UserWarning)\n"
     ]
    },
    {
     "data": {
      "application/vnd.jupyter.widget-view+json": {
       "model_id": "33ce3a37c9e14aa9badcdb5802ef962d",
       "version_major": 2,
       "version_minor": 0
      },
      "text/plain": "Validating: 0it [00:00, ?it/s]"
     },
     "metadata": {},
     "output_type": "display_data"
    },
    {
     "name": "stderr",
     "output_type": "stream",
     "text": [
      "/home/shuki/anaconda3/envs/torch/lib/python3.8/site-packages/torch/optim/lr_scheduler.py:216: UserWarning: Please also save or load the state of the optimizer when saving or loading the scheduler.\n",
      "  warnings.warn(SAVE_STATE_WARNING, UserWarning)\n"
     ]
    },
    {
     "data": {
      "application/vnd.jupyter.widget-view+json": {
       "model_id": "873df8aaf79c41bbacdbf582793e6b8e",
       "version_major": 2,
       "version_minor": 0
      },
      "text/plain": "Validating: 0it [00:00, ?it/s]"
     },
     "metadata": {},
     "output_type": "display_data"
    },
    {
     "name": "stderr",
     "output_type": "stream",
     "text": [
      "/home/shuki/anaconda3/envs/torch/lib/python3.8/site-packages/torch/optim/lr_scheduler.py:216: UserWarning: Please also save or load the state of the optimizer when saving or loading the scheduler.\n",
      "  warnings.warn(SAVE_STATE_WARNING, UserWarning)\n"
     ]
    },
    {
     "data": {
      "application/vnd.jupyter.widget-view+json": {
       "model_id": "ce674aeaba3e46078a2599e27a842500",
       "version_major": 2,
       "version_minor": 0
      },
      "text/plain": "Validating: 0it [00:00, ?it/s]"
     },
     "metadata": {},
     "output_type": "display_data"
    },
    {
     "name": "stderr",
     "output_type": "stream",
     "text": [
      "/home/shuki/anaconda3/envs/torch/lib/python3.8/site-packages/torch/optim/lr_scheduler.py:216: UserWarning: Please also save or load the state of the optimizer when saving or loading the scheduler.\n",
      "  warnings.warn(SAVE_STATE_WARNING, UserWarning)\n"
     ]
    },
    {
     "data": {
      "application/vnd.jupyter.widget-view+json": {
       "model_id": "7d838d0f1ba642ccbcfa2b7823a1779a",
       "version_major": 2,
       "version_minor": 0
      },
      "text/plain": "Validating: 0it [00:00, ?it/s]"
     },
     "metadata": {},
     "output_type": "display_data"
    },
    {
     "name": "stderr",
     "output_type": "stream",
     "text": [
      "/home/shuki/anaconda3/envs/torch/lib/python3.8/site-packages/torch/optim/lr_scheduler.py:216: UserWarning: Please also save or load the state of the optimizer when saving or loading the scheduler.\n",
      "  warnings.warn(SAVE_STATE_WARNING, UserWarning)\n"
     ]
    },
    {
     "data": {
      "application/vnd.jupyter.widget-view+json": {
       "model_id": "cf6cdbc8a9e24b4db163917a4cb07fb8",
       "version_major": 2,
       "version_minor": 0
      },
      "text/plain": "Validating: 0it [00:00, ?it/s]"
     },
     "metadata": {},
     "output_type": "display_data"
    },
    {
     "name": "stderr",
     "output_type": "stream",
     "text": [
      "/home/shuki/anaconda3/envs/torch/lib/python3.8/site-packages/torch/optim/lr_scheduler.py:216: UserWarning: Please also save or load the state of the optimizer when saving or loading the scheduler.\n",
      "  warnings.warn(SAVE_STATE_WARNING, UserWarning)\n"
     ]
    },
    {
     "data": {
      "application/vnd.jupyter.widget-view+json": {
       "model_id": "5c7d284d961343cfa37e3886c247d53f",
       "version_major": 2,
       "version_minor": 0
      },
      "text/plain": "Validating: 0it [00:00, ?it/s]"
     },
     "metadata": {},
     "output_type": "display_data"
    },
    {
     "name": "stderr",
     "output_type": "stream",
     "text": [
      "/home/shuki/anaconda3/envs/torch/lib/python3.8/site-packages/torch/optim/lr_scheduler.py:216: UserWarning: Please also save or load the state of the optimizer when saving or loading the scheduler.\n",
      "  warnings.warn(SAVE_STATE_WARNING, UserWarning)\n"
     ]
    },
    {
     "data": {
      "application/vnd.jupyter.widget-view+json": {
       "model_id": "273bd04851f8462aae11c0dd6be6bf36",
       "version_major": 2,
       "version_minor": 0
      },
      "text/plain": "Validating: 0it [00:00, ?it/s]"
     },
     "metadata": {},
     "output_type": "display_data"
    },
    {
     "name": "stderr",
     "output_type": "stream",
     "text": [
      "/home/shuki/anaconda3/envs/torch/lib/python3.8/site-packages/torch/optim/lr_scheduler.py:216: UserWarning: Please also save or load the state of the optimizer when saving or loading the scheduler.\n",
      "  warnings.warn(SAVE_STATE_WARNING, UserWarning)\n"
     ]
    },
    {
     "data": {
      "application/vnd.jupyter.widget-view+json": {
       "model_id": "09859bdeea2a490abf3120b84cce17a8",
       "version_major": 2,
       "version_minor": 0
      },
      "text/plain": "Validating: 0it [00:00, ?it/s]"
     },
     "metadata": {},
     "output_type": "display_data"
    },
    {
     "name": "stderr",
     "output_type": "stream",
     "text": [
      "/home/shuki/anaconda3/envs/torch/lib/python3.8/site-packages/torch/optim/lr_scheduler.py:216: UserWarning: Please also save or load the state of the optimizer when saving or loading the scheduler.\n",
      "  warnings.warn(SAVE_STATE_WARNING, UserWarning)\n"
     ]
    },
    {
     "data": {
      "application/vnd.jupyter.widget-view+json": {
       "model_id": "577ac57cd42248fcbc5d9568ffd36a5b",
       "version_major": 2,
       "version_minor": 0
      },
      "text/plain": "Validating: 0it [00:00, ?it/s]"
     },
     "metadata": {},
     "output_type": "display_data"
    },
    {
     "name": "stderr",
     "output_type": "stream",
     "text": [
      "/home/shuki/anaconda3/envs/torch/lib/python3.8/site-packages/torch/optim/lr_scheduler.py:216: UserWarning: Please also save or load the state of the optimizer when saving or loading the scheduler.\n",
      "  warnings.warn(SAVE_STATE_WARNING, UserWarning)\n"
     ]
    },
    {
     "data": {
      "application/vnd.jupyter.widget-view+json": {
       "model_id": "a553560120644117bf71fb754474ddd6",
       "version_major": 2,
       "version_minor": 0
      },
      "text/plain": "Validating: 0it [00:00, ?it/s]"
     },
     "metadata": {},
     "output_type": "display_data"
    },
    {
     "name": "stderr",
     "output_type": "stream",
     "text": [
      "/home/shuki/anaconda3/envs/torch/lib/python3.8/site-packages/torch/optim/lr_scheduler.py:216: UserWarning: Please also save or load the state of the optimizer when saving or loading the scheduler.\n",
      "  warnings.warn(SAVE_STATE_WARNING, UserWarning)\n"
     ]
    },
    {
     "data": {
      "application/vnd.jupyter.widget-view+json": {
       "model_id": "f803f1e589374176b27c9b07e643ca64",
       "version_major": 2,
       "version_minor": 0
      },
      "text/plain": "Validating: 0it [00:00, ?it/s]"
     },
     "metadata": {},
     "output_type": "display_data"
    },
    {
     "name": "stderr",
     "output_type": "stream",
     "text": [
      "/home/shuki/anaconda3/envs/torch/lib/python3.8/site-packages/torch/optim/lr_scheduler.py:216: UserWarning: Please also save or load the state of the optimizer when saving or loading the scheduler.\n",
      "  warnings.warn(SAVE_STATE_WARNING, UserWarning)\n"
     ]
    },
    {
     "data": {
      "application/vnd.jupyter.widget-view+json": {
       "model_id": "847e6c5fd26d4058b57309f9ea4f924d",
       "version_major": 2,
       "version_minor": 0
      },
      "text/plain": "Validating: 0it [00:00, ?it/s]"
     },
     "metadata": {},
     "output_type": "display_data"
    },
    {
     "name": "stderr",
     "output_type": "stream",
     "text": [
      "/home/shuki/anaconda3/envs/torch/lib/python3.8/site-packages/torch/optim/lr_scheduler.py:216: UserWarning: Please also save or load the state of the optimizer when saving or loading the scheduler.\n",
      "  warnings.warn(SAVE_STATE_WARNING, UserWarning)\n"
     ]
    },
    {
     "data": {
      "text/html": "<br/>Waiting for W&B process to finish, PID 586<br/>Program ended successfully.",
      "text/plain": "<IPython.core.display.HTML object>"
     },
     "metadata": {},
     "output_type": "display_data"
    },
    {
     "data": {
      "application/vnd.jupyter.widget-view+json": {
       "model_id": "cdc0322378584bba96f77f609a3608f3",
       "version_major": 2,
       "version_minor": 0
      },
      "text/plain": "VBox(children=(Label(value=' 0.00MB of 0.00MB uploaded (0.00MB deduped)\\r'), FloatProgress(value=1.0, max=1.0)…"
     },
     "metadata": {},
     "output_type": "display_data"
    },
    {
     "data": {
      "text/html": "Find user logs for this run at: <code>/home/shuki/projects/my_VaDE/wandb/run-20210314_171719-3jmdoo31/logs/debug.log</code>",
      "text/plain": "<IPython.core.display.HTML object>"
     },
     "metadata": {},
     "output_type": "display_data"
    },
    {
     "data": {
      "text/html": "Find internal logs for this run at: <code>/home/shuki/projects/my_VaDE/wandb/run-20210314_171719-3jmdoo31/logs/debug-internal.log</code>",
      "text/plain": "<IPython.core.display.HTML object>"
     },
     "metadata": {},
     "output_type": "display_data"
    },
    {
     "data": {
      "text/html": "<h3>Run summary:</h3><br/><style>\n    table.wandb td:nth-child(1) { padding: 0 10px; text-align: right }\n    </style><table class=\"wandb\">\n<tr><td>lr-AdamW/pg1</td><td>0.00131</td></tr><tr><td>lr-AdamW/pg2</td><td>0.00131</td></tr><tr><td>_step</td><td>11749</td></tr><tr><td>_runtime</td><td>685</td></tr><tr><td>_timestamp</td><td>1615735724</td></tr><tr><td>train/latent mu mean</td><td>0.02941</td></tr><tr><td>train/latent mu std</td><td>0.04979</td></tr><tr><td>train/latent dist std</td><td>0.12895</td></tr><tr><td>train/loss</td><td>91.53633</td></tr><tr><td>train/x_recon_loss</td><td>72.09731</td></tr><tr><td>train/kl_loss</td><td>19.43902</td></tr><tr><td>train/kl_div_mixture</td><td>2.18113</td></tr><tr><td>train/kl_div_components</td><td>17.2579</td></tr><tr><td>train/main_loss</td><td>91.53633</td></tr><tr><td>train/anchor_pos_distance_kl</td><td>400.41235</td></tr><tr><td>train/anchor_neg_distance_kl</td><td>1155.50781</td></tr><tr><td>train/correct_triplet_pct_kl</td><td>100.0</td></tr><tr><td>train/triplet_loss_kl</td><td>0.0</td></tr><tr><td>valid/latent mu mean</td><td>0.0303</td></tr><tr><td>valid/latent mu std</td><td>0.04796</td></tr><tr><td>valid/latent dist std</td><td>0.12596</td></tr><tr><td>valid/loss</td><td>115.99728</td></tr><tr><td>valid/x_recon_loss</td><td>81.26746</td></tr><tr><td>valid/kl_loss</td><td>18.94714</td></tr><tr><td>valid/kl_div_mixture</td><td>2.11173</td></tr><tr><td>valid/kl_div_components</td><td>16.8354</td></tr><tr><td>valid/main_loss</td><td>100.2146</td></tr><tr><td>valid/anchor_pos_distance_kl</td><td>427.6167</td></tr><tr><td>valid/anchor_neg_distance_kl</td><td>1102.62024</td></tr><tr><td>valid/correct_triplet_pct_kl</td><td>92.53</td></tr><tr><td>valid/triplet_loss_kl</td><td>15.78268</td></tr><tr><td>epoch</td><td>49</td></tr><tr><td>NMI</td><td>0.8281</td></tr><tr><td>ACC</td><td>0.8287</td></tr><tr><td>ACC2</td><td>0.83546</td></tr><tr><td>ARI</td><td>0.7594</td></tr><tr><td>valid_NMI</td><td>0.82851</td></tr><tr><td>valid_ACC</td><td>0.8288</td></tr><tr><td>valid_ACC2</td><td>0.8349</td></tr><tr><td>valid_ARI</td><td>0.76102</td></tr></table>",
      "text/plain": "<IPython.core.display.HTML object>"
     },
     "metadata": {},
     "output_type": "display_data"
    },
    {
     "data": {
      "text/html": "<h3>Run history:</h3><br/><style>\n    table.wandb td:nth-child(1) { padding: 0 10px; text-align: right }\n    </style><table class=\"wandb\">\n<tr><td>lr-AdamW/pg1</td><td>▁▂▃▄▅▆▇█████████▇▇▇▇▇▇▇▇▇▇▇▇▇▇▇▇▆▆▆▆▆▆▆▆</td></tr><tr><td>lr-AdamW/pg2</td><td>▁▂▃▄▅▆▇█████████▇▇▇▇▇▇▇▇▇▇▇▇▇▇▇▇▆▆▆▆▆▆▆▆</td></tr><tr><td>_step</td><td>▁▁▁▁▂▂▂▂▂▃▃▃▃▃▃▄▄▄▄▄▅▅▅▅▅▅▆▆▆▆▆▇▇▇▇▇▇███</td></tr><tr><td>_runtime</td><td>▁▁▁▁▂▂▂▂▂▃▃▃▃▃▃▄▄▄▄▄▅▅▅▅▅▅▆▆▆▆▆▇▇▇▇▇▇███</td></tr><tr><td>_timestamp</td><td>▁▁▁▁▂▂▂▂▂▃▃▃▃▃▃▄▄▄▄▄▅▅▅▅▅▅▆▆▆▆▆▇▇▇▇▇▇███</td></tr><tr><td>train/latent mu mean</td><td>▅▇███▇▆▆▅▅▄▄▃▃▃▃▂▃▂▂▂▂▂▂▂▂▁▂▂▁▁▁▂▁▁▁▁▁▁▁</td></tr><tr><td>train/latent mu std</td><td>▅▆▇██▇▆▆▅▅▄▄▄▃▄▃▃▃▃▃▂▂▃▂▂▁▁▂▂▁▁▁▂▁▂▁▁▁▁▁</td></tr><tr><td>train/latent dist std</td><td>▁▄▄▄▃▅▆▆▆▅▇▇▇▇█▅▆▆▇▇▇▆▇▅▇█▆▇▇▆▆▆▆▇▆▆▆▅▆▇</td></tr><tr><td>train/loss</td><td>▆▃▄▃▄▅▄▃▇▆▆▂▂▇▃█▂▄▄▄▂▄▅▄▆▃▂▃▁▆▂▅▂▂▄▃▃▃▁▁</td></tr><tr><td>train/x_recon_loss</td><td>▄▃▃▃▃▅▃▃▇▅▆▂▂▇▃█▂▄▃▄▂▄▅▄▆▂▂▃▁▆▂▅▂▃▄▃▃▄▁▁</td></tr><tr><td>train/kl_loss</td><td>█▅▆▆▇▇▆▄▆▅▅▅▅▅▃▄▃▄▅▄▂▄▄▂▄▄▂▂▂▄▂▄▂▂▃▃▄▁▂▃</td></tr><tr><td>train/kl_div_mixture</td><td>▃▃▆▄▁▃▄▄▃▂▃▅▅▂▅▅▅▆▄▅▆▆▄▃▅█▅▇▆▂▇▅▆▂▄▇▄▄▄▄</td></tr><tr><td>train/kl_div_components</td><td>█▅▆▆▇▇▆▄▆▆▅▅▅▅▃▄▃▄▅▄▂▄▄▂▄▄▂▂▂▄▁▄▂▂▃▃▄▁▂▃</td></tr><tr><td>train/main_loss</td><td>▅▃▃▃▄▅▄▄▇▆▆▂▂▇▃█▂▄▄▄▂▄▅▃▆▃▂▃▁▆▂▅▂▂▄▃▃▃▁▁</td></tr><tr><td>train/anchor_pos_distance_kl</td><td>▃▁▄▆▆▅▅▄▄▅▃▅▄▅▄▄▅▆▆▆▆▅▅▄▆▅▆▇█▆▆▆▇▇█▇▇▆▇▅</td></tr><tr><td>train/anchor_neg_distance_kl</td><td>▂▁▄▇▇▆▄▆▆▅▃▆▄▆▄▂▄▆▄▅▅▃▇▄▆█▇▆▇▅▄▅▇▆█▆▇▇▆▇</td></tr><tr><td>train/correct_triplet_pct_kl</td><td>▅▁▃█▆████████████▆█████▁████████████████</td></tr><tr><td>train/triplet_loss_kl</td><td>█▄▆▁▂▁▁▁▁▁▁▁▁▁▁▁▁▂▁▁▁▁▁▆▁▁▁▁▁▁▁▁▁▁▁▁▁▁▁▁</td></tr><tr><td>valid/latent mu mean</td><td>█▅▇▇▇▇▆▆▅▅▄▄▄▃▃▃▃▃▃▂▂▂▂▂▂▂▂▂▂▂▂▂▁▁▁▁▁▁▁▁</td></tr><tr><td>valid/latent mu std</td><td>█▅▇█▇▇▇▆▅▅▅▅▄▄▄▃▃▃▃▃▂▃▂▂▂▂▂▂▂▂▂▂▁▁▂▁▁▁▁▁</td></tr><tr><td>valid/latent dist std</td><td>▁▄▂▂▃▅▆▆▆▆▆▆▆▆▇▆▆▆▇█▇█▆▆▆▅▇▆▇▇▆▆▆█▇▇▆▅▆▆</td></tr><tr><td>valid/loss</td><td>▁▁▃▄▄▄▆▆▆▆▆▆▇▆▇▅▆▅▇▅▆▅▆▆▇▄▆▆▆▅▇▇▆▆▆▇▇█▅▆</td></tr><tr><td>valid/x_recon_loss</td><td>▇▄▂▁▄▆▆▇▆█▇▇▇▇▇▇▆▆▇▇▇▇▅▇▆▅▅▄▅▆▅▄▄▅▅▄▄▅▃▄</td></tr><tr><td>valid/kl_loss</td><td>▅▅██▇▅▆▅▄▄▄▃▄▄▃▃▃▃▃▁▃▂▃▃▃▃▂▃▂▂▃▂▂▁▂▂▂▃▂▂</td></tr><tr><td>valid/kl_div_mixture</td><td>▁▂▂▂▂▂▃▃▅▇▇▇█▇▇▇▇▇▇▅▆▆▆▆▅▅▆▅▅▅▄▄▄▄▅▄▄▅▄▄</td></tr><tr><td>valid/kl_div_components</td><td>▅▅██▇▅▆▅▄▄▄▃▄▄▃▂▃▂▂▁▃▂▃▃▃▃▂▂▂▂▃▂▂▁▂▂▂▃▂▂</td></tr><tr><td>valid/main_loss</td><td>▇▃▂▁▄▆▇▇▆█▇▆▆▆▇▆▅▅▆▅▆▅▄▆▄▃▃▃▄▄▃▃▂▂▃▂▂▄▁▂</td></tr><tr><td>valid/anchor_pos_distance_kl</td><td>▁▃▆▇▇▆▇▆▆▆▆▆▇▇▆▅▇▆▇▆▇▆▇▇█▇▇▇▇▆██▇▆▇█▇█▇▇</td></tr><tr><td>valid/anchor_neg_distance_kl</td><td>▁▃▇██▅▇▅▅▅▅▄▆▆▅▅▆▆▆▅▅▅▆▆▇▇▆▆▆▅█▇▆▆▆▆▆▇▇▆</td></tr><tr><td>valid/correct_triplet_pct_kl</td><td>██▇▅▆▆▅▄▅▄▅▄▅▅▃▆▄▆▄▆▅▅▃▅▄▅▄▄▅▆▅▄▄▄▃▁▃▃▄▄</td></tr><tr><td>valid/triplet_loss_kl</td><td>▁▂▅▆▅▄▆▅▆▅▅▅▆▆▆▄▆▅▆▅▅▅▆▆▇▅▆▇▆▆▇▇▇▆▇███▆▇</td></tr><tr><td>epoch</td><td>▁▁▁▁▂▂▂▂▂▃▃▃▃▃▃▄▄▄▄▄▅▅▅▅▅▅▆▆▆▆▆▆▇▇▇▇▇███</td></tr><tr><td>NMI</td><td>▁▅▅▅▅▆▆▆▆▆▇▇▇▇▇▇▇▇▇█████████████████████</td></tr><tr><td>ACC</td><td>▁▃▃▃▃▄▄▄▅▆▆▆▇▇▇▇▇▇▇▇██▇▇████████████████</td></tr><tr><td>ACC2</td><td>▁▃▄▄▄▄▅▅▆▇▇▇████████████████████████████</td></tr><tr><td>ARI</td><td>▁▄▅▅▅▅▅▅▆▆▇▇▇▇▇▇▇▇▇▇███▇████████████████</td></tr><tr><td>valid_NMI</td><td>▁▅▅▅▅▆▆▆▆▆▇▇▇▇▇▇▇▇▇▇██▇█████████████████</td></tr><tr><td>valid_ACC</td><td>▁▃▃▃▃▄▄▄▅▅▆▆▇▆▇▇▇▇▇▇██▇▇▇███████████████</td></tr><tr><td>valid_ACC2</td><td>▁▃▄▄▄▄▄▅▆▇▇▇████████████████████████████</td></tr><tr><td>valid_ARI</td><td>▁▄▅▅▅▅▅▅▆▆▆▇▇▇▇▇▇▇▇▇██▇▇████████████████</td></tr></table><br/>",
      "text/plain": "<IPython.core.display.HTML object>"
     },
     "metadata": {},
     "output_type": "display_data"
    },
    {
     "data": {
      "text/html": "Synced 5 W&B file(s), 0 media file(s), 0 artifact file(s) and 0 other file(s)",
      "text/plain": "<IPython.core.display.HTML object>"
     },
     "metadata": {},
     "output_type": "display_data"
    },
    {
     "data": {
      "text/html": "\n                    <br/>Synced <strong style=\"color:#cdcd00\">pecan-meringue-1021</strong>: <a href=\"https://wandb.ai/shukistern/VaDE%20Triplets/runs/3jmdoo31\" target=\"_blank\">https://wandb.ai/shukistern/VaDE%20Triplets/runs/3jmdoo31</a><br/>\n                ",
      "text/plain": "<IPython.core.display.HTML object>"
     },
     "metadata": {},
     "output_type": "display_data"
    }
   ],
   "source": [
    "pretriained_model = 'pretrained_models/radiant-surf-28/autoencoder-epoch=55-loss=0.011.ckpt'\n",
    "hparams = {'lr': 2e-3, 'lr_gmm': 2e-3, 'batch_size': 2**8, 'pretrain_epochs': 50, 'triplet_loss_margin': 0.5, 'triplet_loss_alpha': 0.0, 'warmup_epochs':10, 'triplet_loss_alpha_kl': 1., 'n_samples_for_triplets': None, 'data_size': None, 'pretrained_model_file': pretriained_model}\n",
    "for i in range(1):\n",
    "    triplets_model = triplet_vade.TripletVaDE(n_neurons=[784, 512, 512, 2048, 10], **hparams)\n",
    "    # wandb.init()\n",
    "    logger =  pl.loggers.wandb.WandbLogger(project='VaDE Triplets', group='triplet_loss_limited_data')\n",
    "\n",
    "    callbacks = [ClusteringEvaluationCallback(on_start=True), \n",
    "                 ClusteringEvaluationCallback(on_start=True, ds_type='valid'),\n",
    "                 pl.callbacks.LearningRateMonitor()]\n",
    "    logger.log_hyperparams(hparams)\n",
    "    trainer = pl.Trainer(gpus=1, callbacks=callbacks, logger=logger, \n",
    "                         log_every_n_steps=10, progress_bar_refresh_rate=10, max_epochs=50)\n",
    "    trainer.fit(triplets_model)\n",
    "    wandb.finish()\n",
    "    # triplets_model.save_hyperparameters()"
   ]
  },
  {
   "cell_type": "code",
   "execution_count": null,
   "metadata": {},
   "outputs": [],
   "source": [
    "hparams = {'lr': 2e-3, 'lr_gmm': 2e-3, 'batch_size': 2**8, 'pretrain_epochs': 50, 'triplet_loss_margin': 0.5, 'triplet_loss_alpha': 00.0, 'warmup_epochs':10, 'triplet_loss_alpha_kl': 1., 'n_samples_for_triplets': 1000}\n",
    "for i in range(10):\n",
    "    triplets_model = triplet_vade.TripletVaDE(n_neurons=[784, 512, 512, 2048, 10], **hparams)\n",
    "    # wandb.init()\n",
    "    logger =  pl.loggers.wandb.WandbLogger(project='VaDE Triplets', group='triplet_loss_limited_data')\n",
    "\n",
    "    callbacks = [ClusteringEvaluationCallback(on_start=True), \n",
    "                 ClusteringEvaluationCallback(on_start=True, ds_type='valid'),\n",
    "                 pl.callbacks.LearningRateMonitor()]\n",
    "    logger.log_hyperparams(hparams)\n",
    "    trainer = pl.Trainer(gpus=1, callbacks=callbacks, logger=logger, \n",
    "                         log_every_n_steps=10, progress_bar_refresh_rate=10, max_epochs=100)\n",
    "    trainer.fit(triplets_model)\n",
    "    wandb.finish()"
   ]
  },
  {
   "cell_type": "code",
   "execution_count": null,
   "metadata": {},
   "outputs": [],
   "source": []
  },
  {
   "cell_type": "code",
   "execution_count": 19,
   "metadata": {},
   "outputs": [
    {
     "data": {
      "text/plain": [
       "<All keys matched successfully>"
      ]
     },
     "execution_count": 19,
     "metadata": {},
     "output_type": "execute_result"
    }
   ],
   "source": [
    "model.load_state_dict(torch.load('trained_models/AE1.h5'))"
   ]
  },
  {
   "cell_type": "code",
   "execution_count": 8,
   "metadata": {},
   "outputs": [
    {
     "name": "stdout",
     "output_type": "stream",
     "text": [
      "0.7538434361452869\n",
      "0.8249112629202103\n",
      "0.7238449211641871\n"
     ]
    }
   ],
   "source": [
    "from sklearn import metrics\n",
    "\n",
    "model.cuda()\n",
    "true_y, predicted_y, X_encoded = model.cluster_data(method='kmeans')\n",
    "print(metrics.normalized_mutual_info_score(true_y, predicted_y))\n",
    "\n",
    "true_y, predicted_y, X_encoded = model.cluster_data(method='gmm-full')\n",
    "print(metrics.normalized_mutual_info_score(true_y, predicted_y))\n",
    "\n",
    "true_y, predicted_y, X_encoded = model.cluster_data(method='gmm-diag')\n",
    "print(metrics.normalized_mutual_info_score(true_y, predicted_y))"
   ]
  },
  {
   "cell_type": "code",
   "execution_count": 10,
   "metadata": {},
   "outputs": [
    {
     "name": "stdout",
     "output_type": "stream",
     "text": [
      "[0.8206645765011308, 0.8503932657020613, 0.7995011494626447, 0.8239846028460401, 0.8483506486929793]\n",
      "0.8285788486409713 0.8503932657020613 0.018952826999921197\n"
     ]
    }
   ],
   "source": [
    "from sklearn.mixture import GaussianMixture\n",
    "scores = []\n",
    "for i in range(5):\n",
    "    gmm = GaussianMixture(n_components=10, covariance_type='full', n_init=5)\n",
    "    predicted_y = gmm.fit_predict(X_encoded)\n",
    "    scores.append(metrics.normalized_mutual_info_score(true_y, predicted_y))\n",
    "    \n",
    "print(scores)\n",
    "print(np.mean(scores), np.max(scores), np.std(scores))"
   ]
  }
 ],
 "metadata": {
  "kernelspec": {
   "display_name": "Python 3",
   "language": "python",
   "name": "python3"
  },
  "language_info": {
   "codemirror_mode": {
    "name": "ipython",
    "version": 3
   },
   "file_extension": ".py",
   "mimetype": "text/x-python",
   "name": "python",
   "nbconvert_exporter": "python",
   "pygments_lexer": "ipython3",
   "version": "3.8.6"
  }
 },
 "nbformat": 4,
 "nbformat_minor": 4
}