{
 "metadata": {
  "language_info": {
   "codemirror_mode": {
    "name": "ipython",
    "version": 3
   },
   "file_extension": ".py",
   "mimetype": "text/x-python",
   "name": "python",
   "nbconvert_exporter": "python",
   "pygments_lexer": "ipython3",
   "version": "3.8.6-final"
  },
  "orig_nbformat": 2,
  "kernelspec": {
   "name": "python3",
   "display_name": "Python 3",
   "language": "python"
  }
 },
 "nbformat": 4,
 "nbformat_minor": 2,
 "cells": [
  {
   "cell_type": "code",
   "execution_count": 16,
   "metadata": {},
   "outputs": [],
   "source": [
    "import torch\n",
    "import pytorch_lightning as pl\n",
    "import importlib\n",
    "import numpy as np\n",
    "# from triplet_vade import TripletVaDE\n",
    "import triplet_vade\n",
    "importlib.reload(triplet_vade)\n",
    "from autoencoder import SimpleAutoencoder, VaDE, ClusteringEvaluationCallback, cluster_acc\n"
   ]
  },
  {
   "cell_type": "code",
   "execution_count": 18,
   "metadata": {},
   "outputs": [
    {
     "output_type": "stream",
     "name": "stderr",
     "text": [
      "GPU available: True, used: True\n",
      "TPU available: None, using: 0 TPU cores\n",
      "LOCAL_RANK: 0 - CUDA_VISIBLE_DEVICES: [0]\n"
     ]
    }
   ],
   "source": [
    "model = SimpleAutoencoder(n_neurons=[784, 512, 512, 2048, 10], lr=1e-3, batch_size=2**10)\n",
    "\n",
    "logger =  pl.loggers.wandb.WandbLogger(project='AE clustering')\n",
    "callbacks = [ClusteringEvaluationCallback(on_start=False), pl.callbacks.LearningRateMonitor()]\n",
    "trainer = pl.Trainer(gpus=1, callbacks=[ClusteringEvaluationCallback(on_start=False), pl.callbacks.LearningRateMonitor()],\n",
    "                    logger=logger, log_every_n_steps=10, progress_bar_refresh_rate=10, max_epochs=100)\n",
    "model.load_state_dict(torch.load('trained_models/AE1.h5'))\n",
    "# trainer.fit(model)"
   ]
  },
  {
   "cell_type": "code",
   "execution_count": 25,
   "metadata": {},
   "outputs": [
    {
     "output_type": "execute_result",
     "data": {
      "text/plain": [
       "(odict_keys(['0.0.weight', '0.0.bias', '1.0.weight', '1.0.bias', '2.0.weight', '2.0.bias']),\n",
       " odict_keys(['0.0.weight', '0.0.bias', '0.2.weight', '0.2.bias', '0.2.running_mean', '0.2.running_var', '0.2.num_batches_tracked', '1.0.weight', '1.0.bias', '1.2.weight', '1.2.bias', '1.2.running_mean', '1.2.running_var', '1.2.num_batches_tracked', '2.0.weight', '2.0.bias', '2.2.weight', '2.2.bias', '2.2.running_mean', '2.2.running_var', '2.2.num_batches_tracked']))"
      ]
     },
     "metadata": {},
     "execution_count": 25
    }
   ],
   "source": [
    "model.encoder[:-1].state_dict().keys() , triplets_model.model.encoder.state_dict().keys()"
   ]
  },
  {
   "cell_type": "code",
   "execution_count": null,
   "metadata": {},
   "outputs": [],
   "source": []
  },
  {
   "cell_type": "code",
   "execution_count": 23,
   "metadata": {},
   "outputs": [
    {
     "output_type": "stream",
     "name": "stderr",
     "text": [
      "GPU available: True, used: True\n",
      "TPU available: None, using: 0 TPU cores\n",
      "LOCAL_RANK: 0 - CUDA_VISIBLE_DEVICES: [0]\n",
      "\n",
      "  | Name    | Type       | Params\n",
      "---------------------------------------\n",
      "0 | encoder | Sequential | 1.7 M \n",
      "1 | decoder | Sequential | 1.7 M \n",
      "---------------------------------------\n",
      "3.5 M     Trainable params\n",
      "0         Non-trainable params\n",
      "3.5 M     Total params\n"
     ]
    },
    {
     "output_type": "display_data",
     "data": {
      "text/plain": "Validation sanity check: 0it [00:00, ?it/s]",
      "application/vnd.jupyter.widget-view+json": {
       "version_major": 2,
       "version_minor": 0,
       "model_id": "fd3055b2f0124d5fb4955cfa0bc1745d"
      }
     },
     "metadata": {}
    },
    {
     "output_type": "display_data",
     "data": {
      "text/plain": "Training: 0it [00:00, ?it/s]",
      "application/vnd.jupyter.widget-view+json": {
       "version_major": 2,
       "version_minor": 0,
       "model_id": "3b7c4874c07741ffab4a751ce4184950"
      }
     },
     "metadata": {}
    },
    {
     "output_type": "display_data",
     "data": {
      "text/plain": "Validating: 0it [00:00, ?it/s]",
      "application/vnd.jupyter.widget-view+json": {
       "version_major": 2,
       "version_minor": 0,
       "model_id": "fa11f911118747758096fecd954bcdb7"
      }
     },
     "metadata": {}
    },
    {
     "output_type": "display_data",
     "data": {
      "text/plain": "Validating: 0it [00:00, ?it/s]",
      "application/vnd.jupyter.widget-view+json": {
       "version_major": 2,
       "version_minor": 0,
       "model_id": "fc5685e0f2434641b6c20bdf0ce2660f"
      }
     },
     "metadata": {}
    },
    {
     "output_type": "display_data",
     "data": {
      "text/plain": "Validating: 0it [00:00, ?it/s]",
      "application/vnd.jupyter.widget-view+json": {
       "version_major": 2,
       "version_minor": 0,
       "model_id": "cd8d387b7b73406f9a3e0da9e1d3d047"
      }
     },
     "metadata": {}
    },
    {
     "output_type": "display_data",
     "data": {
      "text/plain": "Validating: 0it [00:00, ?it/s]",
      "application/vnd.jupyter.widget-view+json": {
       "version_major": 2,
       "version_minor": 0,
       "model_id": "fb79e921fd1f42b3b35220a9430815d6"
      }
     },
     "metadata": {}
    },
    {
     "output_type": "display_data",
     "data": {
      "text/plain": "Validating: 0it [00:00, ?it/s]",
      "application/vnd.jupyter.widget-view+json": {
       "version_major": 2,
       "version_minor": 0,
       "model_id": "f1f7cb768ddb48799607eeee8d3505b9"
      }
     },
     "metadata": {}
    },
    {
     "output_type": "display_data",
     "data": {
      "text/plain": "Validating: 0it [00:00, ?it/s]",
      "application/vnd.jupyter.widget-view+json": {
       "version_major": 2,
       "version_minor": 0,
       "model_id": "8e0ce4b25c7641a2a082c4c01c6e4cd6"
      }
     },
     "metadata": {}
    },
    {
     "output_type": "display_data",
     "data": {
      "text/plain": "Validating: 0it [00:00, ?it/s]",
      "application/vnd.jupyter.widget-view+json": {
       "version_major": 2,
       "version_minor": 0,
       "model_id": "b27fd11cfa4b4e368768631349f408cb"
      }
     },
     "metadata": {}
    },
    {
     "output_type": "display_data",
     "data": {
      "text/plain": "Validating: 0it [00:00, ?it/s]",
      "application/vnd.jupyter.widget-view+json": {
       "version_major": 2,
       "version_minor": 0,
       "model_id": "66640e2f2c1742b8af92d25e53878ffb"
      }
     },
     "metadata": {}
    },
    {
     "output_type": "display_data",
     "data": {
      "text/plain": "Validating: 0it [00:00, ?it/s]",
      "application/vnd.jupyter.widget-view+json": {
       "version_major": 2,
       "version_minor": 0,
       "model_id": "7f1ad87fa1544d5285f90bd05ace917c"
      }
     },
     "metadata": {}
    },
    {
     "output_type": "display_data",
     "data": {
      "text/plain": "Validating: 0it [00:00, ?it/s]",
      "application/vnd.jupyter.widget-view+json": {
       "version_major": 2,
       "version_minor": 0,
       "model_id": "0d6820c8c77849a69f394dd0bad3bc98"
      }
     },
     "metadata": {}
    },
    {
     "output_type": "display_data",
     "data": {
      "text/plain": "Validating: 0it [00:00, ?it/s]",
      "application/vnd.jupyter.widget-view+json": {
       "version_major": 2,
       "version_minor": 0,
       "model_id": "2e5a2c239a544c5da197bd718252ff36"
      }
     },
     "metadata": {}
    },
    {
     "output_type": "display_data",
     "data": {
      "text/plain": "Validating: 0it [00:00, ?it/s]",
      "application/vnd.jupyter.widget-view+json": {
       "version_major": 2,
       "version_minor": 0,
       "model_id": "3d669fe5867f472e8dbea053459d61ba"
      }
     },
     "metadata": {}
    },
    {
     "output_type": "display_data",
     "data": {
      "text/plain": "Validating: 0it [00:00, ?it/s]",
      "application/vnd.jupyter.widget-view+json": {
       "version_major": 2,
       "version_minor": 0,
       "model_id": "4b2a460cce784d7891d7f416d2af6012"
      }
     },
     "metadata": {}
    },
    {
     "output_type": "display_data",
     "data": {
      "text/plain": "Validating: 0it [00:00, ?it/s]",
      "application/vnd.jupyter.widget-view+json": {
       "version_major": 2,
       "version_minor": 0,
       "model_id": "86769989c37d4c25b803235ee2a09e47"
      }
     },
     "metadata": {}
    },
    {
     "output_type": "display_data",
     "data": {
      "text/plain": "Validating: 0it [00:00, ?it/s]",
      "application/vnd.jupyter.widget-view+json": {
       "version_major": 2,
       "version_minor": 0,
       "model_id": "596b7f6c82d54977ba390f5ff92ce79c"
      }
     },
     "metadata": {}
    }
   ],
   "source": [
    "triplets_model = triplet_vade.TripletVaDE(n_neurons=[784, 512, 512, 2048, 10], lr=3e-3, batch_size=2**10, pretrain_epochs=15)\n"
   ]
  },
  {
   "cell_type": "code",
   "execution_count": null,
   "metadata": {},
   "outputs": [],
   "source": [
    "logger =  pl.loggers.wandb.WandbLogger(project='VaDE Triplets')\n",
    "callbacks = [ClusteringEvaluationCallback(on_start=True), pl.callbacks.LearningRateMonitor()]\n",
    "trainer = pl.Trainer(gpus=1, callbacks=[ClusteringEvaluationCallback(on_start=False), pl.callbacks.LearningRateMonitor()],\n",
    "                    logger=logger, log_every_n_steps=10, progress_bar_refresh_rate=10, max_epochs=100)\n"
   ]
  },
  {
   "cell_type": "code",
   "execution_count": 4,
   "metadata": {},
   "outputs": [],
   "source": [
    "# torch.save(model.state_dict(), 'trained_models/AE1.h5')"
   ]
  },
  {
   "cell_type": "code",
   "execution_count": 19,
   "metadata": {},
   "outputs": [
    {
     "output_type": "execute_result",
     "data": {
      "text/plain": [
       "<All keys matched successfully>"
      ]
     },
     "metadata": {},
     "execution_count": 19
    }
   ],
   "source": [
    "model.load_state_dict(torch.load('trained_models/AE1.h5'))"
   ]
  },
  {
   "cell_type": "code",
   "execution_count": 8,
   "metadata": {},
   "outputs": [
    {
     "output_type": "stream",
     "name": "stdout",
     "text": [
      "0.7538434361452869\n",
      "0.8249112629202103\n",
      "0.7238449211641871\n"
     ]
    }
   ],
   "source": [
    "from sklearn import metrics\n",
    "\n",
    "model.cuda()\n",
    "true_y, predicted_y, X_encoded = model.cluster_data(method='kmeans')\n",
    "print(metrics.normalized_mutual_info_score(true_y, predicted_y))\n",
    "\n",
    "true_y, predicted_y, X_encoded = model.cluster_data(method='gmm-full')\n",
    "print(metrics.normalized_mutual_info_score(true_y, predicted_y))\n",
    "\n",
    "true_y, predicted_y, X_encoded = model.cluster_data(method='gmm-diag')\n",
    "print(metrics.normalized_mutual_info_score(true_y, predicted_y))"
   ]
  },
  {
   "cell_type": "code",
   "execution_count": 10,
   "metadata": {},
   "outputs": [
    {
     "output_type": "stream",
     "name": "stdout",
     "text": [
      "[0.8206645765011308, 0.8503932657020613, 0.7995011494626447, 0.8239846028460401, 0.8483506486929793]\n0.8285788486409713 0.8503932657020613 0.018952826999921197\n"
     ]
    }
   ],
   "source": [
    "from sklearn.mixture import GaussianMixture\n",
    "scores = []\n",
    "for i in range(5):\n",
    "    gmm = GaussianMixture(n_components=10, covariance_type='full', n_init=5)\n",
    "    predicted_y = gmm.fit_predict(X_encoded)\n",
    "    scores.append(metrics.normalized_mutual_info_score(true_y, predicted_y))\n",
    "    \n",
    "print(scores)\n",
    "print(np.mean(scores), np.max(scores), np.std(scores))"
   ]
  }
 ]
}